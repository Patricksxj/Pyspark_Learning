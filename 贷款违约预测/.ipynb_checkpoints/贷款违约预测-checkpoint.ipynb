{
 "cells": [
  {
   "cell_type": "code",
   "execution_count": 1,
   "id": "4f9ee132",
   "metadata": {},
   "outputs": [],
   "source": [
    "import lightgbm as lgb\n",
    "from skopt import BayesSearchCV\n",
    "from skopt.space import Real, Categorical, Integer"
   ]
  },
  {
   "cell_type": "code",
   "execution_count": 2,
   "id": "84e9dd31",
   "metadata": {
    "scrolled": true
   },
   "outputs": [],
   "source": [
    "import pandas as pd\n",
    "import numpy as np\n",
    "from sklearn.preprocessing import StandardScaler,MinMaxScaler\n",
    "from sklearn.model_selection import cross_val_score,GridSearchCV,train_test_split\n",
    "from sklearn.ensemble import RandomForestClassifier\n",
    "import xgboost as xgb"
   ]
  },
  {
   "cell_type": "code",
   "execution_count": 3,
   "id": "c572acc0",
   "metadata": {},
   "outputs": [],
   "source": [
    "import matplotlib.pyplot as plt\n",
    "%matplotlib inline\n",
    "plt.rcParams['font.sans-serif']=['SimHei'] #用来正常显示中文标签\n",
    "plt.rcParams['axes.unicode_minus']=False #用来正常显示负号\n",
    "import seaborn as sns\n",
    "import plotly"
   ]
  },
  {
   "cell_type": "code",
   "execution_count": 4,
   "id": "73d3445f",
   "metadata": {},
   "outputs": [],
   "source": [
    "import matplotlib as mpl\n",
    "mpl.rcParams['agg.path.chunksize'] = 10000"
   ]
  },
  {
   "cell_type": "code",
   "execution_count": 109,
   "id": "2b6394c8",
   "metadata": {},
   "outputs": [],
   "source": [
    "#显示所有列\n",
    "pd.set_option('display.max_columns', None)\n",
    "#显示所有行\n",
    "pd.set_option('display.max_rows', 50)\n",
    "\n",
    "#设置value的显示长度为100，默认为50\n",
    "pd.set_option('max_colwidth',100)"
   ]
  },
  {
   "cell_type": "markdown",
   "id": "db5f88e7",
   "metadata": {},
   "source": [
    "### 1.导入数据，注意时间格式字段"
   ]
  },
  {
   "cell_type": "code",
   "execution_count": 62,
   "id": "e3e2199d",
   "metadata": {},
   "outputs": [],
   "source": [
    "df=pd.read_csv('train.csv',parse_dates=['issueDate','earliesCreditLine'], keep_date_col=True)"
   ]
  },
  {
   "cell_type": "code",
   "execution_count": 51,
   "id": "34bac4d4",
   "metadata": {},
   "outputs": [
    {
     "data": {
      "text/plain": [
       "dtype('<M8[ns]')"
      ]
     },
     "execution_count": 51,
     "metadata": {},
     "output_type": "execute_result"
    }
   ],
   "source": [
    "np.dtype('datetime64[ns]')"
   ]
  },
  {
   "cell_type": "code",
   "execution_count": 61,
   "id": "306c2e6d",
   "metadata": {},
   "outputs": [],
   "source": [
    "# reduce_mem_usage 函数通过调整数据类型，帮助我们减少数据在内存中占用的空间\n",
    "def reduce_mem_usage(df):\n",
    "    \"\"\" iterate through all the columns of a dataframe and modify the data type\n",
    "        to reduce memory usage.        \n",
    "    \"\"\"\n",
    "    start_mem = df.memory_usage().sum()  / 1024**2\n",
    "    print('Memory usage of dataframe is {:.2f} MB'.format(start_mem))\n",
    "    \n",
    "    for col in df.columns:\n",
    "        col_type = df[col].dtype\n",
    "        #print(col_type)\n",
    "        if col_type not in [object,np.dtype('datetime64[ns]')]:\n",
    "            c_min = df[col].min()\n",
    "            c_max = df[col].max()\n",
    "            if str(col_type)[:3] == 'int':\n",
    "                if c_min > np.iinfo(np.int8).min and c_max < np.iinfo(np.int8).max:\n",
    "                    df[col] = df[col].astype(np.int8)\n",
    "                elif c_min > np.iinfo(np.int16).min and c_max < np.iinfo(np.int16).max:\n",
    "                    df[col] = df[col].astype(np.int16)\n",
    "                elif c_min > np.iinfo(np.int32).min and c_max < np.iinfo(np.int32).max:\n",
    "                    df[col] = df[col].astype(np.int32)\n",
    "                elif c_min > np.iinfo(np.int64).min and c_max < np.iinfo(np.int64).max:\n",
    "                    df[col] = df[col].astype(np.int64)  \n",
    "            else:\n",
    "                if c_min > np.finfo(np.float16).min and c_max < np.finfo(np.float16).max:\n",
    "                    df[col] = df[col].astype(np.float16)\n",
    "                elif c_min > np.finfo(np.float32).min and c_max < np.finfo(np.float32).max:\n",
    "                    df[col] = df[col].astype(np.float32)\n",
    "                else:\n",
    "                    df[col] = df[col].astype(np.float64)\n",
    "        elif col_type==np.dtype('datetime64[ns]'):\n",
    "            df[col] = df[col]\n",
    "        else:\n",
    "            df[col] = df[col].astype('object')\n",
    "\n",
    "    end_mem = df.memory_usage().sum()  / 1024**2\n",
    "    print('Memory usage after optimization is: {:.2f} MB'.format(end_mem))\n",
    "    print('Decreased by {:.1f}%'.format(100 * (start_mem - end_mem) / start_mem))\n",
    "    return df"
   ]
  },
  {
   "cell_type": "code",
   "execution_count": 63,
   "id": "8630ae56",
   "metadata": {
    "scrolled": true
   },
   "outputs": [
    {
     "name": "stdout",
     "output_type": "stream",
     "text": [
      "Memory usage of dataframe is 286.87 MB\n",
      "int64\n",
      "float64\n",
      "int64\n",
      "float64\n",
      "float64\n",
      "object\n",
      "object\n",
      "float64\n",
      "object\n",
      "int64\n",
      "float64\n",
      "int64\n",
      "datetime64[ns]\n",
      "int64\n",
      "int64\n",
      "float64\n",
      "int64\n",
      "float64\n",
      "float64\n",
      "float64\n",
      "float64\n",
      "float64\n",
      "float64\n",
      "float64\n",
      "float64\n",
      "float64\n",
      "float64\n",
      "int64\n",
      "int64\n",
      "datetime64[ns]\n",
      "float64\n",
      "float64\n",
      "float64\n",
      "float64\n",
      "float64\n",
      "float64\n",
      "float64\n",
      "float64\n",
      "float64\n",
      "float64\n",
      "float64\n",
      "float64\n",
      "float64\n",
      "float64\n",
      "float64\n",
      "float64\n",
      "float64\n",
      "Memory usage after optimization is: 94.60 MB\n",
      "Decreased by 67.0%\n"
     ]
    }
   ],
   "source": [
    "df = reduce_mem_usage(df)"
   ]
  },
  {
   "cell_type": "markdown",
   "id": "61c42a99",
   "metadata": {},
   "source": [
    "### 查看数值型数据分布"
   ]
  },
  {
   "cell_type": "code",
   "execution_count": null,
   "id": "42fa3f7f",
   "metadata": {},
   "outputs": [],
   "source": [
    "df.describe()"
   ]
  },
  {
   "cell_type": "code",
   "execution_count": 60,
   "id": "e7e08c60",
   "metadata": {},
   "outputs": [
    {
     "name": "stdout",
     "output_type": "stream",
     "text": [
      "<class 'pandas.core.frame.DataFrame'>\n",
      "RangeIndex: 800000 entries, 0 to 799999\n",
      "Data columns (total 47 columns):\n",
      " #   Column              Non-Null Count   Dtype         \n",
      "---  ------              --------------   -----         \n",
      " 0   id                  800000 non-null  int32         \n",
      " 1   loanAmnt            800000 non-null  float16       \n",
      " 2   term                800000 non-null  int8          \n",
      " 3   interestRate        800000 non-null  float16       \n",
      " 4   installment         800000 non-null  float16       \n",
      " 5   grade               800000 non-null  category      \n",
      " 6   subGrade            800000 non-null  category      \n",
      " 7   employmentTitle     799999 non-null  float32       \n",
      " 8   employmentLength    753201 non-null  category      \n",
      " 9   homeOwnership       800000 non-null  int8          \n",
      " 10  annualIncome        800000 non-null  float32       \n",
      " 11  verificationStatus  800000 non-null  int8          \n",
      " 12  issueDate           800000 non-null  datetime64[ns]\n",
      " 13  isDefault           800000 non-null  int8          \n",
      " 14  purpose             800000 non-null  int8          \n",
      " 15  postCode            799999 non-null  float16       \n",
      " 16  regionCode          800000 non-null  int8          \n",
      " 17  dti                 799761 non-null  float16       \n",
      " 18  delinquency_2years  800000 non-null  float16       \n",
      " 19  ficoRangeLow        800000 non-null  float16       \n",
      " 20  ficoRangeHigh       800000 non-null  float16       \n",
      " 21  openAcc             800000 non-null  float16       \n",
      " 22  pubRec              800000 non-null  float16       \n",
      " 23  pubRecBankruptcies  799595 non-null  float16       \n",
      " 24  revolBal            800000 non-null  float32       \n",
      " 25  revolUtil           799469 non-null  float16       \n",
      " 26  totalAcc            800000 non-null  float16       \n",
      " 27  initialListStatus   800000 non-null  int8          \n",
      " 28  applicationType     800000 non-null  int8          \n",
      " 29  earliesCreditLine   800000 non-null  datetime64[ns]\n",
      " 30  title               799999 non-null  float16       \n",
      " 31  policyCode          800000 non-null  float16       \n",
      " 32  n0                  759730 non-null  float16       \n",
      " 33  n1                  759730 non-null  float16       \n",
      " 34  n2                  759730 non-null  float16       \n",
      " 35  n3                  759730 non-null  float16       \n",
      " 36  n4                  766761 non-null  float16       \n",
      " 37  n5                  759730 non-null  float16       \n",
      " 38  n6                  759730 non-null  float16       \n",
      " 39  n7                  759730 non-null  float16       \n",
      " 40  n8                  759729 non-null  float16       \n",
      " 41  n9                  759730 non-null  float16       \n",
      " 42  n10                 766761 non-null  float16       \n",
      " 43  n11                 730248 non-null  float16       \n",
      " 44  n12                 759730 non-null  float16       \n",
      " 45  n13                 759730 non-null  float16       \n",
      " 46  n14                 759730 non-null  float16       \n",
      "dtypes: category(3), datetime64[ns](2), float16(30), float32(3), int32(1), int8(8)\n",
      "memory usage: 78.6 MB\n"
     ]
    }
   ],
   "source": [
    "df.info()"
   ]
  },
  {
   "cell_type": "markdown",
   "id": "3d7a21a8",
   "metadata": {},
   "source": [
    "### 查看缺失值"
   ]
  },
  {
   "cell_type": "code",
   "execution_count": null,
   "id": "75e8e631",
   "metadata": {},
   "outputs": [],
   "source": [
    "df.isnull().sum()"
   ]
  },
  {
   "cell_type": "code",
   "execution_count": null,
   "id": "1e105651",
   "metadata": {},
   "outputs": [],
   "source": [
    "df.isnull().sum()/len(df)"
   ]
  },
  {
   "cell_type": "code",
   "execution_count": null,
   "id": "47a83bb3",
   "metadata": {},
   "outputs": [],
   "source": [
    "df['employmentLength'].value_counts()"
   ]
  },
  {
   "cell_type": "markdown",
   "id": "9cce8a38",
   "metadata": {},
   "source": [
    "### 变量的衍生"
   ]
  },
  {
   "cell_type": "code",
   "execution_count": 64,
   "id": "9ee30ca4",
   "metadata": {},
   "outputs": [],
   "source": [
    "df['employmentLength_fillna']=df['employmentLength'].fillna(value='not filled')"
   ]
  },
  {
   "cell_type": "code",
   "execution_count": 65,
   "id": "cc2c5ebf",
   "metadata": {},
   "outputs": [],
   "source": [
    "df['dummy_employmentLength']=df['employmentLength_fillna'].apply(lambda x:'a.not filled' if x=='not filled' else 'b.<=1 year' if x in ('< 1 year','1 year')  \\\n",
    "                                                                else 'd.10+ years' if x=='10+ years' else 'c.[2,9] years')"
   ]
  },
  {
   "cell_type": "code",
   "execution_count": 66,
   "id": "eb675d94",
   "metadata": {},
   "outputs": [],
   "source": [
    "#delinquency_2years；80%都是0次，可以考虑做成一个二分类变量，都是有逾期\n",
    "df['dummy_delinquency_2years']=df['delinquency_2years'].apply(lambda x: 1 if x>=5 else 0)"
   ]
  },
  {
   "cell_type": "code",
   "execution_count": 67,
   "id": "2cced6ef",
   "metadata": {},
   "outputs": [],
   "source": [
    "#求fico的平均分；ficoRangeLow与ficoRangeHigh\n",
    "df['fico_avg']=(df['ficoRangeLow']+df['ficoRangeHigh'])/2\n",
    "df['dummy_fico_avg']=df['fico_avg'].apply(lambda x:1 if x<=700 else 0)"
   ]
  },
  {
   "cell_type": "code",
   "execution_count": null,
   "id": "a085e7b7",
   "metadata": {
    "scrolled": true
   },
   "outputs": [],
   "source": [
    "df['fico_avg'].hist()"
   ]
  },
  {
   "cell_type": "code",
   "execution_count": null,
   "id": "c4369e74",
   "metadata": {},
   "outputs": [],
   "source": [
    "df['dummy_fico_avg'].hist()"
   ]
  },
  {
   "cell_type": "code",
   "execution_count": null,
   "id": "88a48d32",
   "metadata": {},
   "outputs": [],
   "source": [
    "df['pubRec'].hist()"
   ]
  },
  {
   "cell_type": "code",
   "execution_count": 68,
   "id": "8ebb0ded",
   "metadata": {},
   "outputs": [],
   "source": [
    "#pubRec,区分是否1次及以上\n",
    "df['dummy_pubRec']=df['pubRec'].apply(lambda x: 1 if x>0 else 0)\n",
    "df['dummy_pubRec_plus']=df['pubRec'].apply(lambda x: 1 if x>10 else 0)"
   ]
  },
  {
   "cell_type": "code",
   "execution_count": null,
   "id": "5199be63",
   "metadata": {},
   "outputs": [],
   "source": [
    "df['dummy_pubRec'].hist()"
   ]
  },
  {
   "cell_type": "code",
   "execution_count": 69,
   "id": "25ba1b8a",
   "metadata": {},
   "outputs": [],
   "source": [
    "#pubRecBankruptcies,区分是否1次及以上\n",
    "df['dummy_pubRecBankruptcies']=df['pubRecBankruptcies'].apply(lambda x: 1 if x>0 else 0)"
   ]
  },
  {
   "cell_type": "code",
   "execution_count": 70,
   "id": "52e12947",
   "metadata": {},
   "outputs": [],
   "source": [
    "#earliesCreditLine该字段与贷款时间做时间差，查看与target的相关系数\n",
    "df['dummy_has_credit_months']=((df['issueDate']-df['earliesCreditLine'])/pd.Timedelta(30, 'D')).fillna(0).astype(int)"
   ]
  },
  {
   "cell_type": "code",
   "execution_count": 71,
   "id": "fe27b7c4",
   "metadata": {},
   "outputs": [],
   "source": [
    "df['dummy_has_credit_year']=((df['issueDate']-df['earliesCreditLine'])/pd.Timedelta(365, 'D')).fillna(0).astype(int)"
   ]
  },
  {
   "cell_type": "code",
   "execution_count": null,
   "id": "21654804",
   "metadata": {
    "scrolled": true
   },
   "outputs": [],
   "source": [
    "df['dummy_has_credit_months'].value_counts()"
   ]
  },
  {
   "cell_type": "code",
   "execution_count": null,
   "id": "f1dff878",
   "metadata": {
    "scrolled": true
   },
   "outputs": [],
   "source": [
    "df['dummy_has_credit_months'].hist()"
   ]
  },
  {
   "cell_type": "code",
   "execution_count": null,
   "id": "f4c2472c",
   "metadata": {},
   "outputs": [],
   "source": [
    "df['dummy_has_credit_year'].hist()"
   ]
  },
  {
   "cell_type": "markdown",
   "id": "3891601a",
   "metadata": {},
   "source": [
    "#### 对dti空置填充"
   ]
  },
  {
   "cell_type": "code",
   "execution_count": 72,
   "id": "c0fcf6c3",
   "metadata": {},
   "outputs": [],
   "source": [
    "df['dti_fillna']=df['dti'].fillna(-1)"
   ]
  },
  {
   "cell_type": "code",
   "execution_count": 73,
   "id": "c7d494da",
   "metadata": {},
   "outputs": [],
   "source": [
    "df['annualIncome_fillna']=df['annualIncome'].fillna(-1)\n",
    "df['revolUtil_fillna']=df['revolUtil'].fillna(-1)\n",
    "df['openAcc_fillna']=df['openAcc'].fillna(-1)"
   ]
  },
  {
   "cell_type": "code",
   "execution_count": null,
   "id": "c50fd745",
   "metadata": {},
   "outputs": [],
   "source": []
  },
  {
   "cell_type": "markdown",
   "id": "6d1bb640",
   "metadata": {},
   "source": [
    "### 2.分析该字段不同类型与isdefault的关系\n",
    "- grade\n",
    "- subgrade\n",
    "- homeOwnership\n",
    "- verificationStatus\n",
    "- purpose\n",
    "- postCode\n",
    "- regionCode\n",
    "- pubRec\n",
    "- pubRecBankruptcies"
   ]
  },
  {
   "cell_type": "code",
   "execution_count": null,
   "id": "8895aedf",
   "metadata": {},
   "outputs": [],
   "source": []
  },
  {
   "cell_type": "code",
   "execution_count": null,
   "id": "403a55e8",
   "metadata": {},
   "outputs": [],
   "source": [
    "cartory_var_list=[['grade','贷款等级'],\n",
    "['subGrade','贷款等级之子级'],\n",
    "['homeOwnership','借款人在登记时提供的房屋所有权状况'],\n",
    "['verificationStatus','验证状态'],\n",
    "['purpose','借款人在贷款申请时的贷款用途类别'],\n",
    "['postCode','借款人在贷款申请中提供的邮政编码的前3位数字'],\n",
    "['regionCode','地区编码'],\n",
    "['pubRec','贬损公共记录的数量'],\n",
    "['pubRecBankruptcies','公开记录清除的数量'],\n",
    "['term','贷款期限(year)']\n",
    "                  # 下面的变量效果不大\n",
    "]"
   ]
  },
  {
   "cell_type": "code",
   "execution_count": null,
   "id": "61301559",
   "metadata": {
    "scrolled": false
   },
   "outputs": [],
   "source": [
    "for i in range(len(cartory_var_list)):\n",
    "    var=cartory_var_list[i][0]\n",
    "    var_chinese_name=cartory_var_list[i][1]\n",
    "    fig = plt.figure(figsize=(15,4))\n",
    "    ax1 = fig.add_subplot(111)\n",
    "    ax1.plot(df.fillna(-1).groupby(var).size().index,df.fillna(-1).groupby(var).size(),'r-',linewidth=2)\n",
    "    ax1.set_ylabel(var_chinese_name)\n",
    "    ax1.set_ylim([0, 800000])\n",
    "    ax1.set_title(var_chinese_name +\" VS 逾期比例 \")\n",
    "    ax2 = ax1.twinx()  # this is the important function\n",
    "    ax2.plot(df.fillna(-1).groupby(var)['isDefault'].mean().index,df.fillna(-1).groupby(var)['isDefault'].mean(),'b--',linewidth=2)\n",
    "    ax2.plot(df.fillna(-1).groupby(var)['isDefault'].mean().index,[0.2]*len(df.fillna(-1).groupby(var)['isDefault'].mean().index),'g:')\n",
    "    ax2.set_ylabel('违约比例')\n",
    "    ax2.set_ylim([0, 1])\n",
    "    plt.show()"
   ]
  },
  {
   "cell_type": "code",
   "execution_count": null,
   "id": "7f9f28d2",
   "metadata": {},
   "outputs": [],
   "source": []
  },
  {
   "cell_type": "code",
   "execution_count": null,
   "id": "56935ee4",
   "metadata": {},
   "outputs": [],
   "source": []
  },
  {
   "cell_type": "code",
   "execution_count": null,
   "id": "9cf5dbd1",
   "metadata": {},
   "outputs": [],
   "source": [
    "cartory_var_list2=[['employmentLength_fillna','工作年限'],\n",
    "['dummy_employmentLength','工作年限(优化)'],\n",
    "['dummy_delinquency_2years','借款人过去2年信用档案中是否有逾期30天以上5次以上的违约事件'],\n",
    "['dummy_pubRec','是否有贬损公共记录'],\n",
    "['dummy_pubRec_plus','是否有超过10次贬损公共记录'],\n",
    "['dummy_pubRecBankruptcies','是否有公开记录清除'],\n",
    "['initialListStatus','贷款的初始列表状态'],\n",
    "['applicationType','表明贷款是个人申请还是与两个共同借款人的联合申请']]"
   ]
  },
  {
   "cell_type": "code",
   "execution_count": null,
   "id": "b2e59383",
   "metadata": {
    "scrolled": false
   },
   "outputs": [],
   "source": [
    "for i in range(len(cartory_var_list2)):\n",
    "    var=cartory_var_list2[i][0]\n",
    "    var_chinese_name=cartory_var_list2[i][1]\n",
    "    fig = plt.figure(figsize=(15,4))\n",
    "    ax1 = fig.add_subplot(111)\n",
    "    ax1.plot(df.fillna(-1).groupby(var).size().index,df.fillna(-1).groupby(var).size(),'r-',linewidth=2)\n",
    "    ax1.set_ylabel(var_chinese_name)\n",
    "    ax1.set_ylim([0, 800000])\n",
    "    ax1.set_title(var_chinese_name +\" VS 逾期比例 \")\n",
    "    ax2 = ax1.twinx()  # this is the important function\n",
    "    ax2.plot(df.fillna(-1).groupby(var)['isDefault'].mean().index,df.fillna(-1).groupby(var)['isDefault'].mean(),'b--',linewidth=2)\n",
    "    ax2.plot(df.fillna(-1).groupby(var)['isDefault'].mean().index,[0.2]*len(df.fillna(-1).groupby(var)['isDefault'].mean().index),'g:')\n",
    "    ax2.set_ylabel('违约比例')\n",
    "    ax2.set_ylim([0, 1])\n",
    "    plt.show()"
   ]
  },
  {
   "cell_type": "code",
   "execution_count": null,
   "id": "4dc91493",
   "metadata": {},
   "outputs": [],
   "source": []
  },
  {
   "cell_type": "markdown",
   "id": "e0d73277",
   "metadata": {},
   "source": [
    "### 3.分析该数值类字段不同区间与isdefault的关系"
   ]
  },
  {
   "cell_type": "code",
   "execution_count": null,
   "id": "50252c58",
   "metadata": {},
   "outputs": [],
   "source": []
  },
  {
   "cell_type": "code",
   "execution_count": 74,
   "id": "4a49981f",
   "metadata": {},
   "outputs": [],
   "source": [
    "import math\n",
    "loanAmnt_bins = [-math.inf,1000,1500, 3000, 5000,10000,15000, 20000,25000,30000,40000,math.inf]\n",
    "loanAmnt_names=['a:<=1000','b:(1000,1500]','c:(1500,3000]','d:(3000,5000]','e:(5000,10000]','f:(10000,15000]','g:(15000,20000]' \\\n",
    "               ,'h:(20000,25000]','i:(25000,30000]','j:(30000,40000]','k:40000+']\n",
    "df['bin_loanAmnt'] = pd.cut(df['loanAmnt'],bins=loanAmnt_bins,labels=loanAmnt_names).astype('str')\n",
    "\n",
    "interestRate_bin = [5,7,9,12,15,18,20,22,25,30,math.inf]\n",
    "interestRate_names=['a:<=7','b:(7,9]','c:(9,12]','d:(12,15]','e:(15,18]','f:(18,20]','g:(20,22]','h:(22,25]','i:(25,30]','j:30+']\n",
    "df['bin_interestRate'] = pd.cut(df['interestRate'],bins=interestRate_bin,labels=interestRate_names).astype('str')\n",
    "\n",
    "\n",
    "installment_bins = [-math.inf,100,200,300,500,800,1000,1500,math.inf]\n",
    "installment_names=['a:<=100','b:(100,200]','c:(200,300]','d:(300,500]','e:(500,800]','f:(800,1000]','g:(1000,1500]','h:1500+']\n",
    "df['bin_installment'] = pd.cut(df['installment'],bins=installment_bins,labels=installment_names).astype('str')\n",
    "\n",
    "annualIncome_bins=[-math.inf,30000,50000,70000,90000,120000,150000,200000,math.inf]\n",
    "installment_names=['a:<=30000','b:(30000,50000]','c:(50000,70000]','d:(70000,90000]','e:(90000,120000]','f:(120000,150000]','g:(150000,200000]','h:200000+']\n",
    "df['bin_annualIncome'] = pd.cut(df['annualIncome_fillna'], bins=annualIncome_bins,labels=installment_names).astype('str')\n",
    "\n",
    "dti_bins=[-math.inf,5,7,10,15,20,25,28,30,math.inf]\n",
    "dti_names=['a:<=5','b:(5,7]','c:(7,10]','d:(10,15]','e:(15,20]','f:(20,25]','g:(25,28]','h:(28,30]','i:30+']\n",
    "df['bin_dti'] = pd.cut(df['dti_fillna'], bins=dti_bins,labels=dti_names).astype('str')\n",
    "\n",
    "fico_bins=[630,650,670,710,750,780,800,820,840,math.inf]\n",
    "fico_names=['a:<=650','b:(650,670]','c:(670,710]','d:(710,750]','e:(750,780]','f:(780,800]','g:(800,820]','h:(820,840]','i:840+']\n",
    "df['bin_fico_avg'] = pd.cut(df['fico_avg'], bins=fico_bins,labels=fico_names).astype('str')\n",
    "\n",
    "credit_years_bins=[0,1,3,5,10,15,20,25,30,math.inf]\n",
    "credit_years_names=['a:<=1','b:(1,3]','c:(3,5]','d:(5,10]','e:(10,15]','f:(15,20]','g:(20,25]','h:（25,30]','i:30+']\n",
    "df['bin_credit_years'] = pd.cut(df['dummy_has_credit_year'], bins=credit_years_bins,labels=credit_years_names).astype('str')\n",
    "\n",
    "openAcc_bins=[-math.inf,5,8,10,12,14,20,math.inf]\n",
    "openAcc_names=['a:<=5','b:(5,8]','c:(8,10]','d:(10,12]','e:(12,14]','f:(14,20]','g:20+']\n",
    "df['bin_openAcc'] = pd.cut(df['openAcc_fillna'], bins=openAcc_bins,labels=openAcc_names).astype('str')\n",
    "\n",
    "revolBal_bins=[0,1500,3000,5000,10000,15000,20000,50000,math.inf]\n",
    "revolBal_names=['a:<=1500','b:(1500,3000]','c:(3000,5000]','d:(5000,10000]','e:(10000,15000]','f:(15000,20000]','g:(20000,50000]','h:50000+']\n",
    "df['bin_revolBal'] = pd.cut(df['revolBal'], bins=revolBal_bins,labels=revolBal_names).astype('str')\n",
    "\n",
    "\n",
    "revolUtil_bins=[-math.inf,10,30,50,70,80,90,100,math.inf]\n",
    "revolUtil_names=['a:<=10','b:(10,30]','c:(30,50]','d:(50,70]','e:(70,80]','f:(80,90]','g:(90,100]','h:100+']\n",
    "df['bin_revolUtil'] = pd.cut(df['revolUtil_fillna'], bins=revolUtil_bins,labels=revolUtil_names).astype('str')\n",
    "\n",
    "\n",
    "totalAcc_bins=[2,5,10,15,20,25,30,40,math.inf]\n",
    "totalAcc_names=['a:<=5','b:(5,10]','c:(10,15]','d:(15,20]','e:(20,25]','f:(25,30]','g:(30,40]','h:40+']\n",
    "df['bin_totalAcc'] = pd.cut(df['totalAcc'], bins=totalAcc_bins,labels=totalAcc_names).astype('str')"
   ]
  },
  {
   "cell_type": "code",
   "execution_count": null,
   "id": "59ae5f86",
   "metadata": {},
   "outputs": [],
   "source": [
    "df['bin_loanAmnt'].value_counts().sort_index()"
   ]
  },
  {
   "cell_type": "code",
   "execution_count": null,
   "id": "015ca3cb",
   "metadata": {},
   "outputs": [],
   "source": [
    "bin_var_list=[['bin_loanAmnt','贷款金额'],\n",
    "['bin_interestRate','贷款利率'],\n",
    "['bin_installment','分期付款金额'],\n",
    "['bin_annualIncome','年收入'],\n",
    "['bin_dti','债务收入比'],\n",
    "['bin_fico_avg','借款人在贷款发放时的 fico平均分'],\n",
    "['bin_credit_years','有信用记录年份数'],\n",
    "['bin_openAcc','借款人信用档案中未结信用额度的数量'], \n",
    "['bin_revolBal','信贷周转余额合计'],\n",
    "['bin_revolUtil','循环额度利用率，或借款人使用的相对于所有可用循环信贷的信贷金额'],\n",
    "['bin_totalAcc','借款人信用档案中当前的信用额度总数']]"
   ]
  },
  {
   "cell_type": "code",
   "execution_count": null,
   "id": "a497bd31",
   "metadata": {
    "scrolled": false
   },
   "outputs": [],
   "source": [
    "for i in range(len(bin_var_list)):\n",
    "    var=bin_var_list[i][0]\n",
    "    var_chinese_name=bin_var_list[i][1]\n",
    "    fig = plt.figure(figsize=(15,4))\n",
    "    ax1 = fig.add_subplot(111)\n",
    "    ax1.plot(df.groupby(var).size().index,df.groupby(var)[var].count(),'r-')\n",
    "    ax1.set_ylabel(var_chinese_name)\n",
    "    ax1.set_ylim([0, 800000])\n",
    "    ax1.set_title(var_chinese_name +\" VS 逾期比例 \")\n",
    "    ax2 = ax1.twinx()  # this is the important function\n",
    "    ax2.plot(df.groupby(var)['isDefault'].mean().index,df.groupby(var)['isDefault'].mean() ,'b--')\n",
    "    ax2.plot(df.groupby(var)['isDefault'].mean().index,[0.2]*len(df.groupby(var)['isDefault'].mean().index),'g:')\n",
    "    ax2.set_ylabel('违约比例')\n",
    "    ax2.set_ylim([0, 1])\n",
    "    plt.show()"
   ]
  },
  {
   "cell_type": "code",
   "execution_count": null,
   "id": "7eaa861b",
   "metadata": {},
   "outputs": [],
   "source": []
  },
  {
   "cell_type": "markdown",
   "id": "f98af886",
   "metadata": {},
   "source": [
    "### 处理n0-n14这15个变量"
   ]
  },
  {
   "cell_type": "markdown",
   "id": "c380000f",
   "metadata": {},
   "source": [
    "#### n系列变量缺失值填充"
   ]
  },
  {
   "cell_type": "code",
   "execution_count": 75,
   "id": "72d873eb",
   "metadata": {
    "scrolled": true
   },
   "outputs": [],
   "source": [
    "for i in range(15):\n",
    "    var=\"n\"+str(i)+'_fillna'\n",
    "    df[var]=df[\"n\"+str(i)].fillna(df[\"n\"+str(i)].median())"
   ]
  },
  {
   "cell_type": "code",
   "execution_count": null,
   "id": "12d6f402",
   "metadata": {},
   "outputs": [],
   "source": []
  },
  {
   "cell_type": "code",
   "execution_count": null,
   "id": "913ac9eb",
   "metadata": {},
   "outputs": [],
   "source": [
    "cartory_var_list3=[['n11_fillna','n11'],\n",
    "['n12_fillna','n12']]\n",
    "\n",
    "for i in range(len(cartory_var_list3)):\n",
    "    var=cartory_var_list3[i][0]\n",
    "    var_chinese_name=cartory_var_list3[i][1]\n",
    "    fig = plt.figure(figsize=(15,4))\n",
    "    ax1 = fig.add_subplot(111)\n",
    "    ax1.plot(df.fillna(-1).groupby(var).size().index,df.fillna(-1).groupby(var).size(),'r-',linewidth=2)\n",
    "    ax1.set_ylabel(var_chinese_name)\n",
    "    ax1.set_ylim([0, 800000])\n",
    "    ax1.set_title(var_chinese_name +\" VS 逾期比例 \")\n",
    "    ax2 = ax1.twinx()  # this is the important function\n",
    "    ax2.plot(df.fillna(-1).groupby(var)['isDefault'].mean().index,df.fillna(-1).groupby(var)['isDefault'].mean(),'b--',linewidth=2)\n",
    "    ax2.plot(df.fillna(-1).groupby(var)['isDefault'].mean().index,[0.2]*len(df.fillna(-1).groupby(var)['isDefault'].mean().index),'g:')\n",
    "    ax2.set_ylabel('违约比例')\n",
    "    ax2.set_ylim([0, 1])\n",
    "    plt.show()"
   ]
  },
  {
   "cell_type": "code",
   "execution_count": null,
   "id": "ad7b3e2f",
   "metadata": {},
   "outputs": [],
   "source": []
  },
  {
   "cell_type": "code",
   "execution_count": null,
   "id": "9caa89d3",
   "metadata": {},
   "outputs": [],
   "source": []
  },
  {
   "cell_type": "code",
   "execution_count": 76,
   "id": "ccea617b",
   "metadata": {},
   "outputs": [],
   "source": [
    "import math\n",
    "n0_bins = [0,3,10,30,40,math.inf]\n",
    "n0_names=['a:<=3','b:(3,10]','c:(10,30]','d:(30,40]','e:40+']\n",
    "df['bin_n0'] = pd.cut(df['n0_fillna'],bins=n0_bins,labels=n0_names).astype('str')\n",
    "\n",
    "n1_bins = [-math.inf,3,5,8,10,math.inf]\n",
    "n1_names=['a:<=3','b:(3,5]','c:(5,8]','d:(8,10]','e:10+']\n",
    "df['bin_n1'] = pd.cut(df['n1_fillna'],bins=n1_bins,labels=n1_names).astype('str')\n",
    "\n",
    "n2_bins = [-math.inf,3,5,7,12,math.inf]\n",
    "n2_names=['a:<=3','b:(3,5]','c:(5,7]','d:(7,12]','e:12+']\n",
    "df['bin_n2'] = pd.cut(df['n2_fillna'],bins=n2_bins,labels=n2_names).astype('str')\n",
    "\n",
    "n3_bins = [-math.inf,3,5,7,12,math.inf]\n",
    "n3_names=['a:<=3','b:(3,5]','c:(5,7]','d:(7,12]','e:12+']\n",
    "df['bin_n3'] = pd.cut(df['n3_fillna'],bins=n3_bins,labels=n3_names).astype('str')\n",
    "\n",
    "n4_bins = [0,3,4,6,10,math.inf]\n",
    "n4_names=['a:<=3','b:(3,4]','c:(4,6]','d:(6,10]','e:10+']\n",
    "df['bin_n4'] = pd.cut(df['n4_fillna'],bins=n4_bins,labels=n4_names).astype('str')\n",
    "\n",
    "n5_bins = [0,5,7,11,17,math.inf]\n",
    "n5_names=['a:<=5','b:(5,7]','c:(7,11]','d:(11,17]','e:17+']\n",
    "df['bin_n5'] = pd.cut(df['n5_fillna'],bins=n5_bins,labels=n5_names).astype('str')\n",
    "\n",
    "n6_bins = [0,4,7,11,23,math.inf]\n",
    "n6_names=['a:<=4','b:(4,7]','c:(7,11]','d:(11,23]','e:23+']\n",
    "df['bin_n6'] = pd.cut(df['n6_fillna'],bins=n6_bins,labels=n6_names).astype('str')\n",
    "\n",
    "\n",
    "n7_bins = [0,5,7,10,17,math.inf]\n",
    "n7_names=['a:<=5','b:(5,7]','c:(7,10]','d:(10,17]','e:17+']\n",
    "df['bin_n7'] = pd.cut(df['n7_fillna'],bins=n7_bins,labels=n7_names).astype('str')\n",
    "\n",
    "\n",
    "n8_bins = [0,9,13,19,30,math.inf]\n",
    "n8_names=['a:<=9','b:(9,13]','c:(13,19]','d:(19,30]','e:30+']\n",
    "df['bin_n8'] = pd.cut(df['n8_fillna'],bins=n8_bins,labels=n8_names).astype('str')\n",
    "\n",
    "\n",
    "\n",
    "n9_bins = [-math.inf,3,5,7,12,math.inf]\n",
    "n9_names=['a:<=9','b:(9,13]','c:(13,19]','d:(19,30]','e:30+']\n",
    "df['bin_n9'] = pd.cut(df['n9_fillna'],bins=n9_bins,labels=n9_names).astype('str')\n",
    "\n",
    "\n",
    "n10_bins = [0,8,11,14,22,math.inf]\n",
    "n10_names=['a:<=8','b:(8,11]','c:(11,14]','d:(14,22]','e:22+']\n",
    "df['bin_n10'] = pd.cut(df['n10_fillna'],bins=n10_bins,labels=n10_names).astype('str')\n",
    "\n",
    "n13_bins = [0,1,10,20,30,math.inf]\n",
    "n13_names=['a:<=1','b:(1,10]','c:(10,20]','d:(20,30]','e:30+']\n",
    "df['bin_n13'] = pd.cut(df['n13_fillna'],bins=n13_bins,labels=n13_names).astype('str')\n",
    "\n",
    "\n",
    "n14_bins = [-math.inf,1,2,3,5,math.inf]\n",
    "n14_names=['a:<=1','b:(1,2]','c:(2,3]','d:(3,5]','e:5+']\n",
    "df['bin_n14'] = pd.cut(df['n14_fillna'],bins=n14_bins,labels=n14_names).astype('str')\n"
   ]
  },
  {
   "cell_type": "code",
   "execution_count": null,
   "id": "eab7fd0e",
   "metadata": {
    "scrolled": false
   },
   "outputs": [],
   "source": [
    "bin_var_list2=[['bin_n0','n0'],\n",
    "['bin_n1','n1'],\n",
    "['bin_n2','n2'],\n",
    "['bin_n3','n3'],\n",
    "['bin_n4','n4'],\n",
    "['bin_n5','n5'],\n",
    "['bin_n6','n6'],\n",
    "['bin_n7','n7'],\n",
    "['bin_n8','n8'],\n",
    "['bin_n9','n9'],\n",
    "['bin_n10','n10'],\n",
    "['bin_n13','n13'],\n",
    "['bin_n14','n14']]\n",
    "\n",
    "for i in range(len(bin_var_list2)):\n",
    "    var=bin_var_list2[i][0]\n",
    "    var_chinese_name=bin_var_list2[i][1]\n",
    "    fig = plt.figure(figsize=(15,4))\n",
    "    ax1 = fig.add_subplot(111)\n",
    "    ax1.plot(df.groupby(var).size().index,df.groupby(var)[var].count(),'r-')\n",
    "    ax1.set_ylabel(var_chinese_name)\n",
    "    ax1.set_ylim([0, 800000])\n",
    "    ax1.set_title(var_chinese_name +\" VS 逾期比例 \")\n",
    "    ax2 = ax1.twinx()  # this is the important function\n",
    "    ax2.plot(df.groupby(var)['isDefault'].mean().index,df.groupby(var)['isDefault'].mean() ,'b--')\n",
    "    ax2.plot(df.groupby(var)['isDefault'].mean().index,[0.2]*len(df.groupby(var)['isDefault'].mean().index),'g:')\n",
    "    ax2.set_ylabel('违约比例')\n",
    "    ax2.set_ylim([0, 1])\n",
    "    plt.show()"
   ]
  },
  {
   "cell_type": "code",
   "execution_count": null,
   "id": "910e7322",
   "metadata": {},
   "outputs": [],
   "source": []
  },
  {
   "cell_type": "markdown",
   "id": "c99c6d7a",
   "metadata": {},
   "source": [
    "### 计算iv值"
   ]
  },
  {
   "cell_type": "code",
   "execution_count": 77,
   "id": "bff9a284",
   "metadata": {},
   "outputs": [],
   "source": [
    "bin_var_list_final=['bin_loanAmnt',\n",
    "'term',\n",
    "'bin_interestRate',\n",
    "'bin_installment',\n",
    "'grade',\n",
    "'subGrade',\n",
    "'dummy_employmentLength',\n",
    "'bin_annualIncome',\n",
    "'verificationStatus',\n",
    "'bin_credit_years',\n",
    "'purpose',\n",
    "'bin_dti',\n",
    "'dummy_delinquency_2years',\n",
    "'bin_fico_avg',\n",
    "'bin_openAcc',\n",
    "'dummy_pubRec',\n",
    "'dummy_pubRecBankruptcies',\n",
    "'bin_revolUtil',\n",
    "'applicationType',\n",
    "'bin_n1',\n",
    "'bin_n2',\n",
    "'bin_n3',\n",
    "'bin_n9',\n",
    "'n12_fillna',\n",
    "'bin_n14']"
   ]
  },
  {
   "cell_type": "code",
   "execution_count": 78,
   "id": "33815fa0",
   "metadata": {},
   "outputs": [],
   "source": [
    "def cal_IV(df, feature, target):\n",
    "    lst = []\n",
    "    cols=['Variable', 'Value', 'All', 'Bad']\n",
    "    for i in range(df[feature].nunique()):\n",
    "        \n",
    "        val = list(df[feature].unique())[i]\n",
    "        #变量名字，val表示对应的分类值，比如'(40.0, 50.0]',第3个参数是某一变量为特定分桶的数据行数，第四个参数是某一变量为特定分桶且target为1的数量\n",
    "        lst.append([feature, val, df[df[feature] == val].count()[feature], df[(df[feature] == val) & (df[target] == 1)].count()[feature]])\n",
    "#     print(lst)\n",
    "    data = pd.DataFrame(lst, columns=cols)\n",
    "    data = data[data['Bad'] > 0]\n",
    "\n",
    "    data['Share'] = data['All'] / data['All'].sum()\n",
    "    data['Bad Rate'] = data['Bad'] / data['All']\n",
    "    #每个变量中，每一个bin下，坏客户数/总体坏客户数\n",
    "    data['Distribution Good'] = (data['All'] - data['Bad']) / (data['All'].sum() - data['Bad'].sum())\n",
    "    data['Distribution Bad'] = data['Bad'] / data['Bad'].sum()\n",
    "    data['WoE'] = np.log(data['Distribution Good'] / data['Distribution Bad'])\n",
    "    data['IV'] = (data['WoE'] * (data['Distribution Good'] - data['Distribution Bad'])).sum()\n",
    "\n",
    "    data = data.sort_values(by=['Variable', 'Value'], ascending=True)\n",
    "\n",
    "    return data['IV'].values[0]"
   ]
  },
  {
   "cell_type": "code",
   "execution_count": 79,
   "id": "4b673e06",
   "metadata": {
    "scrolled": false
   },
   "outputs": [
    {
     "name": "stdout",
     "output_type": "stream",
     "text": [
      "var_name: bin_loanAmnt 0.033919453509061975 1\n",
      "var_name: term 0.17263507883276197 1\n",
      "var_name: bin_interestRate 0.44861978788996865 1\n",
      "var_name: bin_installment 0.02747910705260913 0\n",
      "var_name: grade 0.4634768588262191 1\n",
      "var_name: subGrade 0.49920325457721215 1\n",
      "var_name: dummy_employmentLength 0.012132604058150392 0\n",
      "var_name: bin_annualIncome 0.028990344159153136 0\n",
      "var_name: verificationStatus 0.054518912441299396 1\n",
      "var_name: bin_credit_years 0.009384290355623336 0\n",
      "var_name: purpose 0.01944602370418138 0\n",
      "var_name: bin_dti 0.07099513818132795 1\n",
      "var_name: dummy_delinquency_2years 0.0004677017679762008 0\n",
      "var_name: bin_fico_avg 0.11321478611443449 1\n",
      "var_name: bin_openAcc 0.004511644007632471 0\n",
      "var_name: dummy_pubRec 0.0064811026324404185 0\n",
      "var_name: dummy_pubRecBankruptcies 0.004221160516993137 0\n",
      "var_name: bin_revolUtil 0.02291808981925944 0\n",
      "var_name: applicationType 0.001906255248001949 0\n",
      "var_name: bin_n1 0.011799773564290444 0\n",
      "var_name: bin_n2 0.029983064161670694 0\n",
      "var_name: bin_n3 0.029983064161670694 0\n",
      "var_name: bin_n9 0.02844811131625372 0\n",
      "var_name: n12_fillna 9.254873797246926e-05 0\n",
      "var_name: bin_n14 0.04347300879573937 1\n"
     ]
    }
   ],
   "source": [
    "for f in bin_var_list_final:\n",
    "    result=cal_IV(df,f,'isDefault')\n",
    "    print(\"var_name:\",f,result, 1 if result>=0.03 else 0)"
   ]
  },
  {
   "cell_type": "code",
   "execution_count": null,
   "id": "c4deda4e",
   "metadata": {
    "scrolled": false
   },
   "outputs": [],
   "source": [
    "#print(\"var_name:\",'dummy_fico_avg',cal_IV(df,'dummy_fico_avg','isDefault'), 1 if cal_IV(df,'dummy_fico_avg','isDefault')>=0.2 else 0)"
   ]
  },
  {
   "cell_type": "code",
   "execution_count": null,
   "id": "d9bfc2db",
   "metadata": {},
   "outputs": [],
   "source": [
    "#print(\"var_name:\",'bin_dti',cal_IV(df,'bin_dti','isDefault'), 1 if cal_IV(df,'bin_dti','isDefault')>=0.2 else 0)"
   ]
  },
  {
   "cell_type": "markdown",
   "id": "b68d007e",
   "metadata": {},
   "source": [
    "### 最终选定的变量"
   ]
  },
  {
   "cell_type": "code",
   "execution_count": 80,
   "id": "2493cc70",
   "metadata": {},
   "outputs": [],
   "source": [
    "var_list_filter=['subGrade',\n",
    "'grade',\n",
    "'bin_interestRate',\n",
    "'term',\n",
    "'bin_fico_avg',\n",
    "'bin_dti',\n",
    "'verificationStatus',\n",
    "'bin_n14',\n",
    "'bin_loanAmnt',\n",
    "'bin_n2',\n",
    "'bin_n3',\n",
    "'bin_annualIncome',\n",
    "'bin_n9',\n",
    "'bin_installment',\n",
    "'bin_revolUtil',\n",
    "'purpose']"
   ]
  },
  {
   "cell_type": "markdown",
   "id": "e23bec2c",
   "metadata": {},
   "source": [
    "### 计算woe"
   ]
  },
  {
   "cell_type": "code",
   "execution_count": 81,
   "id": "467b5821",
   "metadata": {},
   "outputs": [],
   "source": [
    "def cal_WOE(df,features,target):\n",
    "    df_new = df\n",
    "    for f in features:\n",
    "        df_woe = df_new.groupby(f).agg({target:['sum','count']})\n",
    "        df_woe.columns = list(map(''.join, df_woe.columns.values))\n",
    "        df_woe = df_woe.reset_index()\n",
    "        df_woe = df_woe.rename(columns = {target+'sum':'bad'})\n",
    "        df_woe = df_woe.rename(columns = {target+'count':'all'})\n",
    "        df_woe['good'] = df_woe['all']-df_woe['bad']\n",
    "        df_woe = df_woe[[f,'good','bad']]\n",
    "        df_woe['bad_rate'] = df_woe['bad']/df_woe['bad'].sum()\n",
    "        df_woe['good_rate'] = df_woe['good']/df_woe['good'].sum()\n",
    "        df_woe['woe'] = df_woe['bad_rate'].divide(df_woe['good_rate'],fill_value=1)\n",
    "        df_woe.columns = [c if c==f else c+'_'+f for c in list(df_woe.columns.values)]\n",
    "        df_new = df_new.merge(df_woe,on=f,how='left')\n",
    "    return df_new"
   ]
  },
  {
   "cell_type": "code",
   "execution_count": 82,
   "id": "3ac17de6",
   "metadata": {},
   "outputs": [
    {
     "data": {
      "text/html": [
       "<div>\n",
       "<style scoped>\n",
       "    .dataframe tbody tr th:only-of-type {\n",
       "        vertical-align: middle;\n",
       "    }\n",
       "\n",
       "    .dataframe tbody tr th {\n",
       "        vertical-align: top;\n",
       "    }\n",
       "\n",
       "    .dataframe thead th {\n",
       "        text-align: right;\n",
       "    }\n",
       "</style>\n",
       "<table border=\"1\" class=\"dataframe\">\n",
       "  <thead>\n",
       "    <tr style=\"text-align: right;\">\n",
       "      <th></th>\n",
       "      <th>woe_subGrade</th>\n",
       "      <th>woe_grade</th>\n",
       "      <th>woe_bin_interestRate</th>\n",
       "      <th>woe_term</th>\n",
       "      <th>woe_bin_fico_avg</th>\n",
       "      <th>woe_bin_dti</th>\n",
       "      <th>woe_verificationStatus</th>\n",
       "      <th>woe_bin_n14</th>\n",
       "      <th>woe_bin_loanAmnt</th>\n",
       "      <th>woe_bin_n2</th>\n",
       "      <th>woe_bin_n3</th>\n",
       "      <th>woe_bin_annualIncome</th>\n",
       "      <th>woe_bin_n9</th>\n",
       "      <th>woe_bin_installment</th>\n",
       "      <th>woe_bin_revolUtil</th>\n",
       "      <th>woe_purpose</th>\n",
       "    </tr>\n",
       "  </thead>\n",
       "  <tbody>\n",
       "    <tr>\n",
       "      <th>0</th>\n",
       "      <td>2.426932</td>\n",
       "      <td>2.504197</td>\n",
       "      <td>2.053893</td>\n",
       "      <td>1.919391</td>\n",
       "      <td>0.671573</td>\n",
       "      <td>0.945535</td>\n",
       "      <td>1.252178</td>\n",
       "      <td>0.942983</td>\n",
       "      <td>1.298048</td>\n",
       "      <td>0.828184</td>\n",
       "      <td>0.828184</td>\n",
       "      <td>0.812116</td>\n",
       "      <td>0.831982</td>\n",
       "      <td>1.222017</td>\n",
       "      <td>0.959247</td>\n",
       "      <td>1.680405</td>\n",
       "    </tr>\n",
       "    <tr>\n",
       "      <th>1</th>\n",
       "      <td>1.699713</td>\n",
       "      <td>1.751235</td>\n",
       "      <td>2.053893</td>\n",
       "      <td>1.919391</td>\n",
       "      <td>1.109116</td>\n",
       "      <td>1.297109</td>\n",
       "      <td>1.252178</td>\n",
       "      <td>0.942983</td>\n",
       "      <td>1.172104</td>\n",
       "      <td>0.914448</td>\n",
       "      <td>0.914448</td>\n",
       "      <td>1.162615</td>\n",
       "      <td>0.918140</td>\n",
       "      <td>1.042513</td>\n",
       "      <td>0.959247</td>\n",
       "      <td>1.075362</td>\n",
       "    </tr>\n",
       "    <tr>\n",
       "      <th>2</th>\n",
       "      <td>1.752590</td>\n",
       "      <td>1.751235</td>\n",
       "      <td>1.525553</td>\n",
       "      <td>1.919391</td>\n",
       "      <td>1.109116</td>\n",
       "      <td>1.107777</td>\n",
       "      <td>1.252178</td>\n",
       "      <td>1.326798</td>\n",
       "      <td>1.053458</td>\n",
       "      <td>0.828184</td>\n",
       "      <td>0.828184</td>\n",
       "      <td>0.927167</td>\n",
       "      <td>0.831982</td>\n",
       "      <td>0.960129</td>\n",
       "      <td>1.088603</td>\n",
       "      <td>1.075362</td>\n",
       "    </tr>\n",
       "    <tr>\n",
       "      <th>3</th>\n",
       "      <td>0.289140</td>\n",
       "      <td>0.257801</td>\n",
       "      <td>0.363079</td>\n",
       "      <td>0.764435</td>\n",
       "      <td>1.109116</td>\n",
       "      <td>0.945535</td>\n",
       "      <td>1.062763</td>\n",
       "      <td>0.815012</td>\n",
       "      <td>1.053458</td>\n",
       "      <td>1.071232</td>\n",
       "      <td>1.071232</td>\n",
       "      <td>0.812116</td>\n",
       "      <td>1.073637</td>\n",
       "      <td>1.042513</td>\n",
       "      <td>1.088603</td>\n",
       "      <td>0.817580</td>\n",
       "    </tr>\n",
       "    <tr>\n",
       "      <th>4</th>\n",
       "      <td>1.046637</td>\n",
       "      <td>1.164968</td>\n",
       "      <td>1.055608</td>\n",
       "      <td>0.764435</td>\n",
       "      <td>1.109116</td>\n",
       "      <td>1.650800</td>\n",
       "      <td>1.252178</td>\n",
       "      <td>1.326798</td>\n",
       "      <td>0.708103</td>\n",
       "      <td>1.071232</td>\n",
       "      <td>1.071232</td>\n",
       "      <td>1.285100</td>\n",
       "      <td>1.073637</td>\n",
       "      <td>0.733442</td>\n",
       "      <td>0.959247</td>\n",
       "      <td>1.196109</td>\n",
       "    </tr>\n",
       "    <tr>\n",
       "      <th>...</th>\n",
       "      <td>...</td>\n",
       "      <td>...</td>\n",
       "      <td>...</td>\n",
       "      <td>...</td>\n",
       "      <td>...</td>\n",
       "      <td>...</td>\n",
       "      <td>...</td>\n",
       "      <td>...</td>\n",
       "      <td>...</td>\n",
       "      <td>...</td>\n",
       "      <td>...</td>\n",
       "      <td>...</td>\n",
       "      <td>...</td>\n",
       "      <td>...</td>\n",
       "      <td>...</td>\n",
       "      <td>...</td>\n",
       "    </tr>\n",
       "    <tr>\n",
       "      <th>799995</th>\n",
       "      <td>1.338211</td>\n",
       "      <td>1.164968</td>\n",
       "      <td>1.055608</td>\n",
       "      <td>0.764435</td>\n",
       "      <td>0.671573</td>\n",
       "      <td>0.945535</td>\n",
       "      <td>0.692657</td>\n",
       "      <td>1.157412</td>\n",
       "      <td>1.180172</td>\n",
       "      <td>1.254040</td>\n",
       "      <td>1.254040</td>\n",
       "      <td>0.927167</td>\n",
       "      <td>1.249920</td>\n",
       "      <td>1.222017</td>\n",
       "      <td>0.959247</td>\n",
       "      <td>1.075362</td>\n",
       "    </tr>\n",
       "    <tr>\n",
       "      <th>799996</th>\n",
       "      <td>0.289140</td>\n",
       "      <td>0.257801</td>\n",
       "      <td>0.363079</td>\n",
       "      <td>0.764435</td>\n",
       "      <td>0.671573</td>\n",
       "      <td>0.945535</td>\n",
       "      <td>1.252178</td>\n",
       "      <td>0.815012</td>\n",
       "      <td>1.172104</td>\n",
       "      <td>0.828184</td>\n",
       "      <td>0.828184</td>\n",
       "      <td>0.812116</td>\n",
       "      <td>0.831982</td>\n",
       "      <td>1.128748</td>\n",
       "      <td>1.201824</td>\n",
       "      <td>0.817580</td>\n",
       "    </tr>\n",
       "    <tr>\n",
       "      <th>799997</th>\n",
       "      <td>1.162006</td>\n",
       "      <td>1.164968</td>\n",
       "      <td>1.055608</td>\n",
       "      <td>0.764435</td>\n",
       "      <td>1.109116</td>\n",
       "      <td>0.797584</td>\n",
       "      <td>1.252178</td>\n",
       "      <td>1.326798</td>\n",
       "      <td>0.834827</td>\n",
       "      <td>0.914448</td>\n",
       "      <td>0.914448</td>\n",
       "      <td>1.052985</td>\n",
       "      <td>0.918140</td>\n",
       "      <td>0.960129</td>\n",
       "      <td>1.088603</td>\n",
       "      <td>1.075362</td>\n",
       "    </tr>\n",
       "    <tr>\n",
       "      <th>799998</th>\n",
       "      <td>0.289140</td>\n",
       "      <td>0.257801</td>\n",
       "      <td>0.179411</td>\n",
       "      <td>0.764435</td>\n",
       "      <td>1.109116</td>\n",
       "      <td>1.383967</td>\n",
       "      <td>1.252178</td>\n",
       "      <td>1.326798</td>\n",
       "      <td>1.172104</td>\n",
       "      <td>1.254040</td>\n",
       "      <td>1.254040</td>\n",
       "      <td>0.812116</td>\n",
       "      <td>1.249920</td>\n",
       "      <td>1.128748</td>\n",
       "      <td>1.088603</td>\n",
       "      <td>0.817580</td>\n",
       "    </tr>\n",
       "    <tr>\n",
       "      <th>799999</th>\n",
       "      <td>0.595495</td>\n",
       "      <td>0.615444</td>\n",
       "      <td>0.653985</td>\n",
       "      <td>0.764435</td>\n",
       "      <td>1.109116</td>\n",
       "      <td>0.718542</td>\n",
       "      <td>0.692657</td>\n",
       "      <td>0.942983</td>\n",
       "      <td>0.834827</td>\n",
       "      <td>0.828184</td>\n",
       "      <td>0.828184</td>\n",
       "      <td>0.812116</td>\n",
       "      <td>0.831982</td>\n",
       "      <td>0.960129</td>\n",
       "      <td>1.126588</td>\n",
       "      <td>0.817580</td>\n",
       "    </tr>\n",
       "  </tbody>\n",
       "</table>\n",
       "<p>800000 rows × 16 columns</p>\n",
       "</div>"
      ],
      "text/plain": [
       "        woe_subGrade  woe_grade  woe_bin_interestRate  woe_term  \\\n",
       "0           2.426932   2.504197              2.053893  1.919391   \n",
       "1           1.699713   1.751235              2.053893  1.919391   \n",
       "2           1.752590   1.751235              1.525553  1.919391   \n",
       "3           0.289140   0.257801              0.363079  0.764435   \n",
       "4           1.046637   1.164968              1.055608  0.764435   \n",
       "...              ...        ...                   ...       ...   \n",
       "799995      1.338211   1.164968              1.055608  0.764435   \n",
       "799996      0.289140   0.257801              0.363079  0.764435   \n",
       "799997      1.162006   1.164968              1.055608  0.764435   \n",
       "799998      0.289140   0.257801              0.179411  0.764435   \n",
       "799999      0.595495   0.615444              0.653985  0.764435   \n",
       "\n",
       "        woe_bin_fico_avg  woe_bin_dti  woe_verificationStatus  woe_bin_n14  \\\n",
       "0               0.671573     0.945535                1.252178     0.942983   \n",
       "1               1.109116     1.297109                1.252178     0.942983   \n",
       "2               1.109116     1.107777                1.252178     1.326798   \n",
       "3               1.109116     0.945535                1.062763     0.815012   \n",
       "4               1.109116     1.650800                1.252178     1.326798   \n",
       "...                  ...          ...                     ...          ...   \n",
       "799995          0.671573     0.945535                0.692657     1.157412   \n",
       "799996          0.671573     0.945535                1.252178     0.815012   \n",
       "799997          1.109116     0.797584                1.252178     1.326798   \n",
       "799998          1.109116     1.383967                1.252178     1.326798   \n",
       "799999          1.109116     0.718542                0.692657     0.942983   \n",
       "\n",
       "        woe_bin_loanAmnt  woe_bin_n2  woe_bin_n3  woe_bin_annualIncome  \\\n",
       "0               1.298048    0.828184    0.828184              0.812116   \n",
       "1               1.172104    0.914448    0.914448              1.162615   \n",
       "2               1.053458    0.828184    0.828184              0.927167   \n",
       "3               1.053458    1.071232    1.071232              0.812116   \n",
       "4               0.708103    1.071232    1.071232              1.285100   \n",
       "...                  ...         ...         ...                   ...   \n",
       "799995          1.180172    1.254040    1.254040              0.927167   \n",
       "799996          1.172104    0.828184    0.828184              0.812116   \n",
       "799997          0.834827    0.914448    0.914448              1.052985   \n",
       "799998          1.172104    1.254040    1.254040              0.812116   \n",
       "799999          0.834827    0.828184    0.828184              0.812116   \n",
       "\n",
       "        woe_bin_n9  woe_bin_installment  woe_bin_revolUtil  woe_purpose  \n",
       "0         0.831982             1.222017           0.959247     1.680405  \n",
       "1         0.918140             1.042513           0.959247     1.075362  \n",
       "2         0.831982             0.960129           1.088603     1.075362  \n",
       "3         1.073637             1.042513           1.088603     0.817580  \n",
       "4         1.073637             0.733442           0.959247     1.196109  \n",
       "...            ...                  ...                ...          ...  \n",
       "799995    1.249920             1.222017           0.959247     1.075362  \n",
       "799996    0.831982             1.128748           1.201824     0.817580  \n",
       "799997    0.918140             0.960129           1.088603     1.075362  \n",
       "799998    1.249920             1.128748           1.088603     0.817580  \n",
       "799999    0.831982             0.960129           1.126588     0.817580  \n",
       "\n",
       "[800000 rows x 16 columns]"
      ]
     },
     "execution_count": 82,
     "metadata": {},
     "output_type": "execute_result"
    }
   ],
   "source": [
    "# 我们根据IV选出来的特征\n",
    "df_woe = cal_WOE(df,var_list_filter,'isDefault')\n",
    "woe_cols = [c for c in list(df_woe.columns.values) if 'woe' in c]\n",
    "df_woe[woe_cols]"
   ]
  },
  {
   "cell_type": "code",
   "execution_count": 83,
   "id": "5238540d",
   "metadata": {},
   "outputs": [
    {
     "data": {
      "text/plain": [
       "['woe_subGrade',\n",
       " 'woe_grade',\n",
       " 'woe_bin_interestRate',\n",
       " 'woe_term',\n",
       " 'woe_bin_fico_avg',\n",
       " 'woe_bin_dti',\n",
       " 'woe_verificationStatus',\n",
       " 'woe_bin_n14',\n",
       " 'woe_bin_loanAmnt',\n",
       " 'woe_bin_n2',\n",
       " 'woe_bin_n3',\n",
       " 'woe_bin_annualIncome',\n",
       " 'woe_bin_n9',\n",
       " 'woe_bin_installment',\n",
       " 'woe_bin_revolUtil',\n",
       " 'woe_purpose']"
      ]
     },
     "execution_count": 83,
     "metadata": {},
     "output_type": "execute_result"
    }
   ],
   "source": [
    "woe_cols"
   ]
  },
  {
   "cell_type": "code",
   "execution_count": null,
   "id": "d7759eaf",
   "metadata": {
    "scrolled": true
   },
   "outputs": [],
   "source": [
    "df_woe.head()"
   ]
  },
  {
   "cell_type": "code",
   "execution_count": null,
   "id": "3a8a1848",
   "metadata": {},
   "outputs": [],
   "source": []
  },
  {
   "cell_type": "markdown",
   "id": "c59f68eb",
   "metadata": {},
   "source": [
    "### 4.拆分数据集"
   ]
  },
  {
   "cell_type": "code",
   "execution_count": 85,
   "id": "43d715f0",
   "metadata": {},
   "outputs": [],
   "source": [
    "xtrain,xtest,ytrain,ytest=train_test_split(df_woe[woe_cols],df_woe['isDefault'],test_size=0.2,random_state=100)"
   ]
  },
  {
   "cell_type": "code",
   "execution_count": 86,
   "id": "376ab8ea",
   "metadata": {},
   "outputs": [
    {
     "data": {
      "text/plain": [
       "0.1991203125"
      ]
     },
     "execution_count": 86,
     "metadata": {},
     "output_type": "execute_result"
    }
   ],
   "source": [
    "ytrain.sum()/len(ytrain)"
   ]
  },
  {
   "cell_type": "code",
   "execution_count": 87,
   "id": "4de80b59",
   "metadata": {},
   "outputs": [
    {
     "data": {
      "text/plain": [
       "0.20108125"
      ]
     },
     "execution_count": 87,
     "metadata": {},
     "output_type": "execute_result"
    }
   ],
   "source": [
    "ytest.sum()/len(ytest)"
   ]
  },
  {
   "cell_type": "code",
   "execution_count": 88,
   "id": "8e70a7e8",
   "metadata": {},
   "outputs": [
    {
     "data": {
      "text/plain": [
       "woe_subGrade              0\n",
       "woe_grade                 0\n",
       "woe_bin_interestRate      0\n",
       "woe_term                  0\n",
       "woe_bin_fico_avg          0\n",
       "woe_bin_dti               0\n",
       "woe_verificationStatus    0\n",
       "woe_bin_n14               0\n",
       "woe_bin_loanAmnt          0\n",
       "woe_bin_n2                0\n",
       "woe_bin_n3                0\n",
       "woe_bin_annualIncome      0\n",
       "woe_bin_n9                0\n",
       "woe_bin_installment       0\n",
       "woe_bin_revolUtil         0\n",
       "woe_purpose               0\n",
       "dtype: int64"
      ]
     },
     "execution_count": 88,
     "metadata": {},
     "output_type": "execute_result"
    }
   ],
   "source": [
    "xtrain.isnull().sum()"
   ]
  },
  {
   "cell_type": "code",
   "execution_count": null,
   "id": "54bcdacb",
   "metadata": {},
   "outputs": [],
   "source": [
    "ytest.head()"
   ]
  },
  {
   "cell_type": "code",
   "execution_count": 89,
   "id": "b66fea5f",
   "metadata": {
    "scrolled": true
   },
   "outputs": [],
   "source": [
    "from sklearn.linear_model import LogisticRegression\n",
    "from sklearn.metrics import roc_auc_score,roc_curve\n",
    "from sklearn.model_selection import StratifiedKFold, RandomizedSearchCV\n",
    "from xgboost import XGBClassifier"
   ]
  },
  {
   "cell_type": "code",
   "execution_count": 90,
   "id": "b3e53873",
   "metadata": {},
   "outputs": [
    {
     "data": {
      "text/plain": [
       "0.79955625"
      ]
     },
     "execution_count": 90,
     "metadata": {},
     "output_type": "execute_result"
    }
   ],
   "source": [
    "model1 = LogisticRegression(random_state=40).fit(xtrain,ytrain)\n",
    "#在验证集上看性能\n",
    "model1.score(xtest,ytest)"
   ]
  },
  {
   "cell_type": "code",
   "execution_count": 91,
   "id": "1d4f4918",
   "metadata": {},
   "outputs": [
    {
     "data": {
      "image/png": "[encoded data removed]",
      "text/plain": [
       "<Figure size 432x288 with 1 Axes>"
      ]
     },
     "metadata": {
      "needs_background": "light"
     },
     "output_type": "display_data"
    }
   ],
   "source": [
    "import sklearn.metrics as metrics\n",
    "# calculate the fpr and tpr for all thresholds of the classification\n",
    "probs = model1.predict_proba(xtest)\n",
    "\n",
    "preds1 = probs[:,1]\n",
    "fpr, tpr, threshold = metrics.roc_curve(ytest, preds1)\n",
    "roc_auc = metrics.auc(fpr, tpr)\n",
    "\n",
    "# method I: plt\n",
    "import matplotlib.pyplot as plt\n",
    "plt.title('Receiver Operating Characteristic')\n",
    "plt.plot(fpr, tpr, 'b', label = 'AUC = %0.2f' % roc_auc)\n",
    "plt.legend(loc = 'lower right')\n",
    "plt.plot([0, 1], [0, 1],'r--')\n",
    "plt.xlim([0, 1])\n",
    "plt.ylim([0, 1])\n",
    "plt.ylabel('True Positive Rate')\n",
    "plt.xlabel('False Positive Rate')\n",
    "plt.show()"
   ]
  },
  {
   "cell_type": "code",
   "execution_count": 92,
   "id": "6cfb9649",
   "metadata": {},
   "outputs": [
    {
     "name": "stdout",
     "output_type": "stream",
     "text": [
      "ks: 0.3002116875801432\n"
     ]
    }
   ],
   "source": [
    "fpr, tpr, threshold = metrics.roc_curve(ytest, preds1)\n",
    "ks=max(tpr-fpr)\n",
    "print('ks:',ks)"
   ]
  },
  {
   "cell_type": "code",
   "execution_count": null,
   "id": "99fbe11f",
   "metadata": {},
   "outputs": [],
   "source": []
  },
  {
   "cell_type": "code",
   "execution_count": 93,
   "id": "5f34a12b",
   "metadata": {},
   "outputs": [
    {
     "name": "stderr",
     "output_type": "stream",
     "text": [
      "C:\\ProgramData\\Anaconda3\\lib\\site-packages\\xgboost\\sklearn.py:888: UserWarning: The use of label encoder in XGBClassifier is deprecated and will be removed in a future release. To remove this warning, do the following: 1) Pass option use_label_encoder=False when constructing XGBClassifier object; and 2) Encode your labels (y) as integers starting with 0, i.e. 0, 1, 2, ..., [num_class - 1].\n",
      "  warnings.warn(label_encoder_deprecation_msg, UserWarning)\n"
     ]
    },
    {
     "data": {
      "text/plain": [
       "0.8006625"
      ]
     },
     "execution_count": 93,
     "metadata": {},
     "output_type": "execute_result"
    }
   ],
   "source": [
    "# build a very simple model\n",
    "model2 = XGBClassifier( objective='binary:logistic',eval_metric='auc')\n",
    "model2.fit(xtrain, ytrain)\n",
    "#在验证集上看性能\n",
    "model2.score(xtest,ytest)"
   ]
  },
  {
   "cell_type": "code",
   "execution_count": null,
   "id": "f410f2fa",
   "metadata": {},
   "outputs": [],
   "source": []
  },
  {
   "cell_type": "code",
   "execution_count": 94,
   "id": "9185f3e0",
   "metadata": {},
   "outputs": [
    {
     "data": {
      "image/png": "[encoded data removed]",
      "text/plain": [
       "<Figure size 432x288 with 1 Axes>"
      ]
     },
     "metadata": {
      "needs_background": "light"
     },
     "output_type": "display_data"
    }
   ],
   "source": [
    "import sklearn.metrics as metrics\n",
    "# calculate the fpr and tpr for all thresholds of the classification\n",
    "probs = model2.predict_proba(xtest)\n",
    "\n",
    "preds2 = probs[:,1]\n",
    "fpr, tpr, threshold = metrics.roc_curve(ytest, preds2)\n",
    "roc_auc = metrics.auc(fpr, tpr)\n",
    "\n",
    "# method I: plt\n",
    "import matplotlib.pyplot as plt\n",
    "plt.title('Receiver Operating Characteristic')\n",
    "plt.plot(fpr, tpr, 'b', label = 'AUC = %0.3f' % roc_auc)\n",
    "plt.legend(loc = 'lower right')\n",
    "plt.plot([0, 1], [0, 1],'r--')\n",
    "plt.xlim([0, 1])\n",
    "plt.ylim([0, 1])\n",
    "plt.ylabel('True Positive Rate')\n",
    "plt.xlabel('False Positive Rate')\n",
    "plt.show()"
   ]
  },
  {
   "cell_type": "code",
   "execution_count": 95,
   "id": "0874851f",
   "metadata": {},
   "outputs": [
    {
     "name": "stdout",
     "output_type": "stream",
     "text": [
      "ks: 0.3111892751713308\n"
     ]
    }
   ],
   "source": [
    "fpr, tpr, threshold = metrics.roc_curve(ytest, preds2)\n",
    "ks=max(tpr-fpr)\n",
    "print('ks:',ks)"
   ]
  },
  {
   "cell_type": "code",
   "execution_count": null,
   "id": "f166e739",
   "metadata": {},
   "outputs": [],
   "source": []
  },
  {
   "cell_type": "markdown",
   "id": "4cfe94fd",
   "metadata": {},
   "source": [
    "#### 运用贝叶斯优化算light bgm与xgboost"
   ]
  },
  {
   "cell_type": "code",
   "execution_count": null,
   "id": "01e369cb",
   "metadata": {},
   "outputs": [],
   "source": []
  },
  {
   "cell_type": "code",
   "execution_count": null,
   "id": "b3620fc6",
   "metadata": {},
   "outputs": [],
   "source": [
    "import xgboost as xgb\n",
    "from xgboost.sklearn import XGBClassifier\n",
    "import lightgbm as lgb\n",
    "from sklearn.model_selection import train_test_split\n",
    "from skopt import BayesSearchCV\n",
    "from skopt.space import Real, Categorical, Integer\n",
    "\n",
    "class FixedBayesSearchCV(BayesSearchCV):\n",
    "    \"\"\"\n",
    "    Dirty hack to avoid compatibility issues with sklearn 0.2 and skopt.\n",
    "    Credit: https://www.kaggle.com/c/home-credit-default-risk/discussion/64004\n",
    "    For context, on why the workaround see:\n",
    "        - https://github.com/scikit-optimize/scikit-optimize/issues/718\n",
    "        - https://github.com/scikit-optimize/scikit-optimize/issues/762\n",
    "    \"\"\"\n",
    "    def __init__(self, estimator, search_spaces, optimizer_kwargs=None,\n",
    "                n_iter=50, scoring=None, fit_params=None, n_jobs=1,\n",
    "                n_points=1, iid=True, refit=True, cv=None, verbose=0,\n",
    "                pre_dispatch='2*n_jobs', random_state=None,\n",
    "                error_score='raise', return_train_score=False):\n",
    "        \"\"\"\n",
    "        See: https://github.com/scikit-optimize/scikit-optimize/issues/762#issuecomment-493689266\n",
    "        \"\"\"\n",
    "\n",
    "        # Bug fix: Added this line\n",
    "        self.fit_params = fit_params\n",
    "        self.search_spaces = search_spaces\n",
    "        self.n_iter = n_iter\n",
    "        self.n_points = n_points\n",
    "        self.random_state = random_state\n",
    "        self.optimizer_kwargs = optimizer_kwargs\n",
    "        self._check_search_space(self.search_spaces)\n",
    "\n",
    "        # Removed the passing of fit_params to the parent class.\n",
    "        super(BayesSearchCV, self).__init__(\n",
    "                estimator=estimator, scoring=scoring, n_jobs=n_jobs,\n",
    "                refit=refit, cv=cv, verbose=verbose, pre_dispatch=pre_dispatch,\n",
    "                error_score=error_score, return_train_score=return_train_score)\n",
    "\n",
    "    def _run_search(self, x):\n",
    "        raise BaseException('Use newer skopt')"
   ]
  },
  {
   "cell_type": "code",
   "execution_count": null,
   "id": "06ceec37",
   "metadata": {},
   "outputs": [],
   "source": []
  },
  {
   "cell_type": "markdown",
   "id": "f1233b88",
   "metadata": {},
   "source": [
    "### 运用Light GBM算法包"
   ]
  },
  {
   "cell_type": "code",
   "execution_count": null,
   "id": "94ebfcca",
   "metadata": {},
   "outputs": [],
   "source": [
    "model_lgb = lgb.LGBMClassifier(\n",
    "            learning_rate=0.1,   # 学习率\n",
    "            n_estimators=10000,    # 树的个数\n",
    "            max_depth=10,         # 树的最大深度\n",
    "            num_leaves=31,        # 叶子节点个数 'leaf-wise'\n",
    "            min_split_gain=0,     # 节点分裂所需的最小损失函数下降值\n",
    "            objective='binary', # 2分类\n",
    "            metric='auc',  # 评价函数\n",
    "            #num_class=3,          # 多分类问题类别数\n",
    "            subsample=0.8,        # 样本随机采样作为训练集的比例\n",
    "            colsample_bytree=0.8, # 使用特征比例\n",
    "            seed=1)\n",
    "\n",
    "# 若包含类别变量，将其类型设置为category，astype('category')\n",
    "# lightgbm scikit-optimize\n",
    "xtrain,xtest,ytrain,ytest=train_test_split(df_woe[woe_cols],df_woe['isDefault'],test_size=0.2,random_state=100)\n",
    "# cv：交叉验证 n_points：并行采样的超参组数\n",
    "opt = FixedBayesSearchCV(model_lgb,cv=3,n_points=2,n_jobs=4,verbose=1,scoring='roc_auc',\n",
    "        search_spaces={\n",
    "            'learning_rate': Real(0.008, 0.01),\n",
    "            'max_depth': Integer(3, 10),\n",
    "            'num_leaves': Integer(31, 127),\n",
    "            'min_split_gain':Real(0.0,0.4),\n",
    "            'min_child_weight':Real(0.001,0.002),\n",
    "            'min_child_samples':Integer(18,22),\n",
    "            'subsample':Real(0.6,1.0),\n",
    "            'subsample_freq':Integer(3,5),\n",
    "            'colsample_bytree':Real(0.6,1.0),\n",
    "            'reg_alpha':Real(0,0.5),\n",
    "            'reg_lambda':Real(0,0.5)\n",
    "        },fit_params={\n",
    "                 'eval_set':[(xtest, ytest)],\n",
    "                 'eval_metric': 'auc',\n",
    "                 'early_stopping_rounds': 50\n",
    "                 })\n",
    "opt.fit(xtrain,ytrain)"
   ]
  },
  {
   "cell_type": "code",
   "execution_count": null,
   "id": "f26dc90e",
   "metadata": {},
   "outputs": [],
   "source": [
    "print(\"val. score: %s\" % opt.best_score_)"
   ]
  },
  {
   "cell_type": "code",
   "execution_count": null,
   "id": "4159c7c8",
   "metadata": {},
   "outputs": [],
   "source": [
    "print(\"test score: %s\" % opt.score(xtest, ytest))"
   ]
  },
  {
   "cell_type": "code",
   "execution_count": null,
   "id": "48df30df",
   "metadata": {},
   "outputs": [],
   "source": [
    "print(\"Best parameters: \", opt.best_params_)"
   ]
  },
  {
   "cell_type": "code",
   "execution_count": null,
   "id": "b774a4af",
   "metadata": {},
   "outputs": [],
   "source": [
    "print(\"Best estimator:\", opt.best_estimator_)"
   ]
  },
  {
   "cell_type": "code",
   "execution_count": null,
   "id": "4637f059",
   "metadata": {},
   "outputs": [],
   "source": [
    "for in "
   ]
  },
  {
   "cell_type": "code",
   "execution_count": null,
   "id": "9f7071c9",
   "metadata": {},
   "outputs": [],
   "source": [
    "opt.scorer_"
   ]
  },
  {
   "cell_type": "code",
   "execution_count": null,
   "id": "64fc1df7",
   "metadata": {},
   "outputs": [],
   "source": []
  },
  {
   "cell_type": "code",
   "execution_count": null,
   "id": "606579d8",
   "metadata": {},
   "outputs": [],
   "source": []
  },
  {
   "cell_type": "code",
   "execution_count": null,
   "id": "8c4999c9",
   "metadata": {},
   "outputs": [],
   "source": [
    "print('参数的最佳取值:{0}'.format(gsearch.best_params_))\n",
    "print('最佳模型得分:{0}'.format(gsearch.best_score_))\n",
    "print(gsearch.cv_results_['mean_test_score'])\n",
    "print(gsearch.cv_results_['params'])"
   ]
  },
  {
   "cell_type": "code",
   "execution_count": null,
   "id": "e80cb6f0",
   "metadata": {},
   "outputs": [],
   "source": [
    "            'min_split_gain':[0.0,0.4],\n",
    "            'min_child_weight':[0.001,0.002],\n",
    "            'min_child_samples':range(18,22),\n",
    "            'subsample':[0.6,1.0],\n",
    "            'subsample_freq':range(3,5),\n",
    "            'colsample_bytree':[0.6,0.8,1.0],\n",
    "            'reg_alpha':[0,0.5],\n",
    "            'reg_lambda':[0,0.5]"
   ]
  },
  {
   "cell_type": "code",
   "execution_count": null,
   "id": "5cbdc8c7",
   "metadata": {},
   "outputs": [],
   "source": []
  },
  {
   "cell_type": "code",
   "execution_count": null,
   "id": "eec0c5ec",
   "metadata": {},
   "outputs": [],
   "source": []
  },
  {
   "cell_type": "code",
   "execution_count": null,
   "id": "a754f8fe",
   "metadata": {},
   "outputs": [],
   "source": []
  },
  {
   "cell_type": "code",
   "execution_count": null,
   "id": "80d45030",
   "metadata": {},
   "outputs": [],
   "source": [
    "from sklearn.model_selection import train_test_split\n",
    "import lightgbm as lgb\n",
    "# 数据集划分\n",
    "xtrain,xtest,ytrain,ytest=train_test_split(df_woe[woe_cols],df_woe['isDefault'],test_size=0.2,random_state=100)\n",
    "train_matrix = lgb.Dataset(xtrain, label=ytrain)\n",
    "valid_matrix = lgb.Dataset(xtest, label=ytest)\n",
    "\n",
    "params = {\n",
    "            'boosting_type': 'gbdt',\n",
    "            'objective': 'binary',\n",
    "            'learning_rate': 0.1,\n",
    "            'metric': 'auc',\n",
    "            'min_child_weight': 1e-3,\n",
    "            'num_leaves': 31,\n",
    "            'max_depth': -1,\n",
    "            'reg_lambda': 0,\n",
    "            'reg_alpha': 0,\n",
    "            'feature_fraction': 1,\n",
    "            'bagging_fraction': 1,\n",
    "            'bagging_freq': 0,\n",
    "            'seed': 2020,\n",
    "            'nthread': 8,\n",
    "            'silent': True,\n",
    "            'verbose': -1,\n",
    "}\n",
    "\n",
    "\"\"\"使用训练集数据进行模型训练\"\"\"\n",
    "model = lgb.train(params, train_set=train_matrix, valid_sets=valid_matrix, num_boost_round=20000, verbose_eval=1000, early_stopping_rounds=200)"
   ]
  },
  {
   "cell_type": "code",
   "execution_count": null,
   "id": "9907d1c8",
   "metadata": {},
   "outputs": [],
   "source": [
    "from sklearn import metrics\n",
    "from sklearn.metrics import roc_auc_score\n",
    "\n",
    "\"\"\"预测并计算roc的相关指标\"\"\"\n",
    "val_pre_lgb = model.predict(xtest, num_iteration=model.best_iteration)\n",
    "fpr, tpr, threshold = metrics.roc_curve(ytest, val_pre_lgb)\n",
    "roc_auc = metrics.auc(fpr, tpr)\n",
    "print('未调参前lightgbm单模型在验证集上的AUC：{}'.format(roc_auc))\n",
    "\"\"\"画出roc曲线图\"\"\"\n",
    "plt.figure(figsize=(8, 8))\n",
    "plt.title('Validation ROC')\n",
    "plt.plot(fpr, tpr, 'b', label = 'Val AUC = %0.4f' % roc_auc)\n",
    "plt.ylim(0,1)\n",
    "plt.xlim(0,1)\n",
    "plt.legend(loc='best')\n",
    "plt.title('ROC')\n",
    "plt.ylabel('True Positive Rate')\n",
    "plt.xlabel('False Positive Rate')\n",
    "# 画出对角线\n",
    "plt.plot([0,1],[0,1],'r--')\n",
    "plt.show()"
   ]
  },
  {
   "cell_type": "code",
   "execution_count": null,
   "id": "01f3a1c3",
   "metadata": {},
   "outputs": [],
   "source": []
  },
  {
   "cell_type": "code",
   "execution_count": null,
   "id": "b0282675",
   "metadata": {},
   "outputs": [],
   "source": []
  },
  {
   "cell_type": "code",
   "execution_count": null,
   "id": "ad114ce0",
   "metadata": {},
   "outputs": [],
   "source": []
  },
  {
   "cell_type": "code",
   "execution_count": null,
   "id": "59d670e1",
   "metadata": {},
   "outputs": [],
   "source": []
  },
  {
   "cell_type": "markdown",
   "id": "0aa3b89f",
   "metadata": {},
   "source": [
    "### 运用Xgboost算法包"
   ]
  },
  {
   "cell_type": "code",
   "execution_count": null,
   "id": "b5771e99",
   "metadata": {},
   "outputs": [],
   "source": [
    "del train_x, test_x, train_y, test_y"
   ]
  },
  {
   "cell_type": "code",
   "execution_count": null,
   "id": "740237d5",
   "metadata": {},
   "outputs": [],
   "source": [
    "train_x, test_x, train_y, test_y = train_test_split(df_woe[woe_cols],df_woe['isDefault'],test_size=0.2,random_state=100)"
   ]
  },
  {
   "cell_type": "code",
   "execution_count": null,
   "id": "117efaf9",
   "metadata": {},
   "outputs": [],
   "source": [
    "train_y.shape"
   ]
  },
  {
   "cell_type": "code",
   "execution_count": null,
   "id": "a70509c1",
   "metadata": {},
   "outputs": [],
   "source": [
    "test_y.shape"
   ]
  },
  {
   "cell_type": "code",
   "execution_count": null,
   "id": "5a1719a2",
   "metadata": {},
   "outputs": [],
   "source": [
    "train_x.shape"
   ]
  },
  {
   "cell_type": "code",
   "execution_count": null,
   "id": "c556e9e6",
   "metadata": {},
   "outputs": [],
   "source": [
    "model_xgb = XGBClassifier(\n",
    "            learning_rate =0.01,  # 学习率\n",
    "            n_estimators=10000,   # 树的个数\n",
    "            max_depth=6,         # 树的最大深度\n",
    "            min_child_weight=1,  # 叶子节点样本权重加和最小值sum(H)\n",
    "            gamma=0,             # 节点分裂所需的最小损失函数下降值\n",
    "            subsample=0.8,       # 样本随机采样作为训练集的比例\n",
    "            colsample_bytree=0.8, # 使用特征比例\n",
    "            objective= 'binary:logistic', # 损失函数(这里为2分类）\n",
    "            num_class=4,         # 多分类问题类别数\n",
    "            scale_pos_weight=1,  # 类别样本不平衡\n",
    "            seed=1)\n",
    "# xgboost scikit-optimize\n",
    "opt2 = FixedBayesSearchCV(model_xgb,cv=3,n_points=2,n_jobs=4,verbose=1,\n",
    "        search_spaces={\n",
    "            'learning_rate': Real(0.008, 0.01),\n",
    "            'max_depth': Integer(3, 10),\n",
    "            'gamma':Real(0,0.5),\n",
    "            'min_child_weight':Integer(1,8),\n",
    "            'subsample':Real(0.6,1.0),\n",
    "            'colsample_bytree':Real(0.6,1.0),\n",
    "            'reg_alpha':Real(0,0.5),\n",
    "            'reg_lambda':Real(0,0.5)\n",
    "        },\n",
    "         fit_params={\n",
    "                 'eval_set': [(xtest, ytest)],\n",
    "                 'eval_metric':'auc',\n",
    "                 'early_stopping_rounds': 50\n",
    "                 })\n",
    "opt2.fit(xtrain, ytrain)"
   ]
  },
  {
   "cell_type": "code",
   "execution_count": null,
   "id": "7a6468d6",
   "metadata": {},
   "outputs": [],
   "source": [
    "print(\"val. score: %s\" % opt2.best_score_)\n",
    "print(\"test score: %s\" % opt2.score(test_x, test_y))\n",
    "print(\"Best parameters: \", opt2.best_params_)\n",
    "print(\"Best estimator:\", opt2.best_estimator_)"
   ]
  },
  {
   "cell_type": "code",
   "execution_count": null,
   "id": "0d5769fb",
   "metadata": {},
   "outputs": [],
   "source": []
  },
  {
   "cell_type": "code",
   "execution_count": null,
   "id": "2411dca8",
   "metadata": {},
   "outputs": [],
   "source": []
  },
  {
   "cell_type": "code",
   "execution_count": null,
   "id": "49b02240",
   "metadata": {},
   "outputs": [],
   "source": [
    "xgb_auto_para_tuning_bayesian(model_xgb,df_woe[woe_cols],df_woe['isDefault'])"
   ]
  },
  {
   "cell_type": "code",
   "execution_count": null,
   "id": "c5bf8bea",
   "metadata": {},
   "outputs": [],
   "source": []
  },
  {
   "cell_type": "code",
   "execution_count": null,
   "id": "b3cfeb0d",
   "metadata": {},
   "outputs": [],
   "source": []
  },
  {
   "cell_type": "code",
   "execution_count": null,
   "id": "2577bd80",
   "metadata": {},
   "outputs": [],
   "source": []
  },
  {
   "cell_type": "markdown",
   "id": "f9c7d65a",
   "metadata": {},
   "source": [
    "### 用bayes优化lgb模型"
   ]
  },
  {
   "cell_type": "code",
   "execution_count": null,
   "id": "2a064be2",
   "metadata": {},
   "outputs": [],
   "source": [
    "import sklearn\n",
    "sklearn.__version__"
   ]
  },
  {
   "cell_type": "code",
   "execution_count": null,
   "id": "171962df",
   "metadata": {},
   "outputs": [],
   "source": [
    "search_spaces={\n",
    "            'learning_rate': Real(0.008, 0.01),\n",
    "            'max_depth': Integer(3, 10),\n",
    "            'num_leaves': Integer(31, 127),\n",
    "            'min_split_gain':Real(0.0,0.4),\n",
    "            'min_child_weight':Real(0.001,0.002),\n",
    "            'min_child_samples':Integer(18,22),\n",
    "            'subsample':Real(0.6,1.0),\n",
    "            'subsample_freq':Integer(3,5),\n",
    "            'colsample_bytree':Real(0.6,1.0),\n",
    "            'reg_alpha':Real(0,0.5),\n",
    "            'reg_lambda':Real(0,0.5)\n",
    "        }\n",
    "opt=FixedBayesSearchCV(lgb.LGBMClassifier(),search_spaces=search_spaces)"
   ]
  },
  {
   "cell_type": "code",
   "execution_count": null,
   "id": "05ca9fb2",
   "metadata": {},
   "outputs": [],
   "source": [
    "opt.fit(xtrain,ytrain)"
   ]
  },
  {
   "cell_type": "code",
   "execution_count": null,
   "id": "26ead44f",
   "metadata": {},
   "outputs": [],
   "source": []
  },
  {
   "cell_type": "code",
   "execution_count": null,
   "id": "97e2d422",
   "metadata": {},
   "outputs": [],
   "source": [
    "search_spaces2={\n",
    "            'learning_rate': Real(0.008, 0.01),\n",
    "            'max_depth': Integer(3, 10),\n",
    "            'gamma':Real(0,0.5),\n",
    "            'min_child_weight':Integer(1,8),\n",
    "            'subsample':Real(0.6,1.0),\n",
    "            'colsample_bytree':Real(0.6,1.0),\n",
    "            'reg_alpha':Real(0,0.5),\n",
    "            'reg_lambda':Real(0,0.5)\n",
    "        }\n",
    "\n",
    "opt2=FixedBayesSearchCV(estimator=XGBClassifier(),search_spaces=search_spaces2)"
   ]
  },
  {
   "cell_type": "code",
   "execution_count": null,
   "id": "e82519f9",
   "metadata": {},
   "outputs": [],
   "source": [
    "_=opt2.fit(xtrain,ytrain)"
   ]
  },
  {
   "cell_type": "markdown",
   "id": "90d013e2",
   "metadata": {},
   "source": [
    "### 保存已经算完的参数"
   ]
  },
  {
   "cell_type": "code",
   "execution_count": null,
   "id": "c0c7e96d",
   "metadata": {},
   "outputs": [],
   "source": [
    "df_woe.to_csv('df_woe.csv',index=False)"
   ]
  },
  {
   "cell_type": "code",
   "execution_count": null,
   "id": "8da67950",
   "metadata": {},
   "outputs": [],
   "source": [
    "df_woe=pd.read_csv('df_woe.csv')"
   ]
  },
  {
   "cell_type": "code",
   "execution_count": null,
   "id": "af669e2a",
   "metadata": {},
   "outputs": [],
   "source": [
    "xtrain,xtest,ytrain,ytest=train_test_split(df_woe[woe_cols],df_woe['isDefault'],test_size=0.3,random_state=100)"
   ]
  },
  {
   "cell_type": "code",
   "execution_count": null,
   "id": "6da26735",
   "metadata": {},
   "outputs": [],
   "source": []
  },
  {
   "cell_type": "code",
   "execution_count": null,
   "id": "75102432",
   "metadata": {},
   "outputs": [],
   "source": [
    "TRAIN_CONFIGS = {\n",
    "    \"model_params\": {\n",
    "        'min_child_weight': list(range(1,10,2)),\n",
    "        'gamma':[i/10.0 for i in range(0,5)],\n",
    "        'subsample': [0.8, 1.0],\n",
    "        'colsample_bytree':[i/10.0 for i in range(8,10)],\n",
    "        'max_depth':range(3,10,2),\n",
    "        'learning_rate': [0.001, 0.002, 0.005, 0.006, 0.01, 0.02, 0.05, 0.1, 0.11, 0.12, 0.13, 0.14, 0.15, 0.2],\n",
    "        'n_estimators': [50, 100, 150, 200, 250, 300,350,400,450,500, 550, 600, 650, 700, 750],\n",
    "        \"booster\": [\"gbtree\"]\n",
    "        }\n",
    "}\n",
    "\n",
    "# Train Model\n",
    "print(\"Training Model...\")\n",
    "xgb = XGBClassifier(random_state=0)\n",
    "mode3 = RandomizedSearchCV(xgb, param_distributions=TRAIN_CONFIGS[\"model_params\"], n_iter=200, scoring='roc_auc', n_jobs=-1, cv=StratifiedKFold(n_splits=5, shuffle = True, random_state = 0), verbose=3, random_state=0)\n",
    "mode3.fit(xtrain, ytrain, eval_metric=\"auc\")\n",
    "print(\"Done...\\n\")"
   ]
  },
  {
   "cell_type": "code",
   "execution_count": null,
   "id": "1aa34437",
   "metadata": {},
   "outputs": [],
   "source": []
  },
  {
   "cell_type": "code",
   "execution_count": null,
   "id": "bddb3a49",
   "metadata": {},
   "outputs": [],
   "source": []
  },
  {
   "cell_type": "code",
   "execution_count": null,
   "id": "9f3f225f",
   "metadata": {},
   "outputs": [],
   "source": []
  },
  {
   "cell_type": "code",
   "execution_count": null,
   "id": "0a279503",
   "metadata": {},
   "outputs": [],
   "source": []
  },
  {
   "cell_type": "code",
   "execution_count": null,
   "id": "3b6cfa44",
   "metadata": {},
   "outputs": [],
   "source": []
  },
  {
   "cell_type": "code",
   "execution_count": null,
   "id": "ebd39dc9",
   "metadata": {},
   "outputs": [],
   "source": []
  },
  {
   "cell_type": "code",
   "execution_count": null,
   "id": "769c7283",
   "metadata": {},
   "outputs": [],
   "source": []
  },
  {
   "cell_type": "code",
   "execution_count": null,
   "id": "fb86039b",
   "metadata": {},
   "outputs": [],
   "source": []
  },
  {
   "cell_type": "code",
   "execution_count": null,
   "id": "80cde3c6",
   "metadata": {},
   "outputs": [],
   "source": []
  },
  {
   "cell_type": "code",
   "execution_count": null,
   "id": "5cd48efe",
   "metadata": {},
   "outputs": [],
   "source": []
  },
  {
   "cell_type": "code",
   "execution_count": null,
   "id": "0a5c8cea",
   "metadata": {},
   "outputs": [],
   "source": []
  },
  {
   "cell_type": "code",
   "execution_count": null,
   "id": "96e834b3",
   "metadata": {},
   "outputs": [],
   "source": []
  },
  {
   "cell_type": "code",
   "execution_count": null,
   "id": "959cfc59",
   "metadata": {},
   "outputs": [],
   "source": []
  },
  {
   "cell_type": "code",
   "execution_count": null,
   "id": "b44cb8d9",
   "metadata": {},
   "outputs": [],
   "source": []
  },
  {
   "cell_type": "code",
   "execution_count": null,
   "id": "d44e244a",
   "metadata": {},
   "outputs": [],
   "source": []
  },
  {
   "cell_type": "code",
   "execution_count": null,
   "id": "21ea9455",
   "metadata": {},
   "outputs": [],
   "source": []
  },
  {
   "cell_type": "markdown",
   "id": "3988d956",
   "metadata": {},
   "source": [
    "### 导入测试集合"
   ]
  },
  {
   "cell_type": "code",
   "execution_count": 102,
   "id": "3ca36226",
   "metadata": {},
   "outputs": [],
   "source": [
    "test_df=pd.read_csv('testA.csv',parse_dates=['issueDate','earliesCreditLine'], keep_date_col=True)"
   ]
  },
  {
   "cell_type": "code",
   "execution_count": null,
   "id": "9683e609",
   "metadata": {},
   "outputs": [],
   "source": [
    "test_df.head()"
   ]
  },
  {
   "cell_type": "code",
   "execution_count": 103,
   "id": "7fac3558",
   "metadata": {
    "scrolled": true
   },
   "outputs": [
    {
     "name": "stdout",
     "output_type": "stream",
     "text": [
      "Memory usage of dataframe is 70.19 MB\n",
      "int64\n",
      "float64\n",
      "int64\n",
      "float64\n",
      "float64\n",
      "object\n",
      "object\n",
      "float64\n",
      "object\n",
      "int64\n",
      "float64\n",
      "int64\n",
      "datetime64[ns]\n",
      "int64\n",
      "float64\n",
      "int64\n",
      "float64\n",
      "float64\n",
      "float64\n",
      "float64\n",
      "float64\n",
      "float64\n",
      "float64\n",
      "float64\n",
      "float64\n",
      "float64\n",
      "int64\n",
      "int64\n",
      "datetime64[ns]\n",
      "float64\n",
      "float64\n",
      "float64\n",
      "float64\n",
      "float64\n",
      "float64\n",
      "float64\n",
      "float64\n",
      "float64\n",
      "float64\n",
      "float64\n",
      "float64\n",
      "float64\n",
      "float64\n",
      "float64\n",
      "float64\n",
      "float64\n",
      "Memory usage after optimization is: 23.46 MB\n",
      "Decreased by 66.6%\n"
     ]
    }
   ],
   "source": [
    "test_df = reduce_mem_usage(test_df)"
   ]
  },
  {
   "cell_type": "code",
   "execution_count": null,
   "id": "16886f9d",
   "metadata": {},
   "outputs": [],
   "source": []
  },
  {
   "cell_type": "markdown",
   "id": "89c8ce07",
   "metadata": {},
   "source": [
    "### 对测试集合变量加工"
   ]
  },
  {
   "cell_type": "code",
   "execution_count": 104,
   "id": "8a7b9f64",
   "metadata": {},
   "outputs": [],
   "source": [
    "var_list_filter=['subGrade',\n",
    "'grade',\n",
    "'bin_interestRate',\n",
    "'term',\n",
    "'bin_fico_avg',\n",
    "'bin_dti',\n",
    "'verificationStatus',\n",
    "'bin_n14',\n",
    "'bin_loanAmnt',\n",
    "'bin_n2',\n",
    "'bin_n3',\n",
    "'bin_annualIncome',\n",
    "'bin_n9',\n",
    "'bin_installment',\n",
    "'bin_revolUtil',\n",
    "'purpose']"
   ]
  },
  {
   "cell_type": "code",
   "execution_count": 106,
   "id": "f1f615a3",
   "metadata": {},
   "outputs": [
    {
     "data": {
      "text/plain": [
       "id                        0\n",
       "loanAmnt                  0\n",
       "term                      0\n",
       "interestRate              0\n",
       "installment               0\n",
       "grade                     0\n",
       "subGrade                  0\n",
       "employmentTitle           0\n",
       "employmentLength      11742\n",
       "homeOwnership             0\n",
       "annualIncome              0\n",
       "verificationStatus        0\n",
       "issueDate                 0\n",
       "purpose                   0\n",
       "postCode                  0\n",
       "regionCode                0\n",
       "dti                      61\n",
       "delinquency_2years        0\n",
       "ficoRangeLow              0\n",
       "ficoRangeHigh             0\n",
       "openAcc                   0\n",
       "pubRec                    0\n",
       "pubRecBankruptcies      116\n",
       "revolBal                  0\n",
       "revolUtil               127\n",
       "totalAcc                  0\n",
       "initialListStatus         0\n",
       "applicationType           0\n",
       "earliesCreditLine         0\n",
       "title                     0\n",
       "policyCode                0\n",
       "n0                    10111\n",
       "n1                    10111\n",
       "n2                    10111\n",
       "n3                    10111\n",
       "n4                     8394\n",
       "n5                    10111\n",
       "n6                    10111\n",
       "n7                    10111\n",
       "n8                    10111\n",
       "n9                    10111\n",
       "n10                    8394\n",
       "n11                   17575\n",
       "n12                   10111\n",
       "n13                   10111\n",
       "n14                   10111\n",
       "dtype: int64"
      ]
     },
     "execution_count": 106,
     "metadata": {},
     "output_type": "execute_result"
    }
   ],
   "source": [
    "test_df.isnull().sum()"
   ]
  },
  {
   "cell_type": "markdown",
   "id": "a3416dcd",
   "metadata": {},
   "source": [
    "### 产出计算woe前的变量"
   ]
  },
  {
   "cell_type": "code",
   "execution_count": 107,
   "id": "2e236529",
   "metadata": {},
   "outputs": [],
   "source": [
    "test_df['employmentLength_fillna']=test_df['employmentLength'].fillna(value='not filled')\n",
    "test_df['dummy_employmentLength']=test_df['employmentLength_fillna'].apply(lambda x:'a.not filled' if x=='not filled' else 'b.<=1 year' if x in ('< 1 year','1 year')  \\\n",
    "                                                                else 'd.10+ years' if x=='10+ years' else 'c.[2,9] years')\n",
    "                                                                #delinquency_2years；80%都是0次，可以考虑做成一个二分类变量，都是有逾期\n",
    "test_df['dummy_delinquency_2years']=test_df['delinquency_2years'].apply(lambda x: 1 if x>=5 else 0)\n",
    "#求fico的平均分；ficoRangeLow与ficoRangeHigh\n",
    "test_df['fico_avg']=(test_df['ficoRangeLow']+test_df['ficoRangeHigh'])/2\n",
    "test_df['fico_avg']=test_df['fico_avg'].fillna(-1)\n",
    "test_df['dummy_fico_avg']=test_df['fico_avg'].apply(lambda x:1 if x<=700 else 0)\n",
    "#pubRec,区分是否1次及以上\n",
    "test_df['dummy_pubRec']=test_df['pubRec'].apply(lambda x: 1 if x>0 else 0)\n",
    "test_df['dummy_pubRec_plus']=test_df['pubRec'].apply(lambda x: 1 if x>10 else 0)\n",
    "#pubRecBankruptcies,区分是否1次及以上\n",
    "test_df['dummy_pubRecBankruptcies']=test_df['pubRecBankruptcies'].apply(lambda x: 1 if x>0 else 0)\n",
    "#earliesCreditLine该字段与贷款时间做时间差，查看与target的相关系数\n",
    "test_df['dummy_has_credit_months']=((test_df['issueDate']-test_df['earliesCreditLine'])/pd.Timedelta(30, 'D')).fillna(0).astype(int)\n",
    "test_df['dummy_has_credit_year']=((test_df['issueDate']-test_df['earliesCreditLine'])/pd.Timedelta(365, 'D')).fillna(0).astype(int)\n",
    "test_df['dti_fillna']=test_df['dti'].fillna(-1)\n",
    "test_df['annualIncome_fillna']=test_df['annualIncome'].fillna(-1)\n",
    "test_df['revolUtil_fillna']=test_df['revolUtil'].fillna(-1)\n",
    "test_df['openAcc_fillna']=test_df['openAcc'].fillna(-1)\n",
    "\n",
    "\n",
    "import math\n",
    "loanAmnt_bins = [-math.inf,1000,1500, 3000, 5000,10000,15000, 20000,25000,30000,40000,math.inf]\n",
    "loanAmnt_names=['a:<=1000','b:(1000,1500]','c:(1500,3000]','d:(3000,5000]','e:(5000,10000]','f:(10000,15000]','g:(15000,20000]' \\\n",
    "               ,'h:(20000,25000]','i:(25000,30000]','j:(30000,40000]','k:40000+']\n",
    "test_df['bin_loanAmnt'] = pd.cut(test_df['loanAmnt'],bins=loanAmnt_bins,labels=loanAmnt_names).astype('str')\n",
    "\n",
    "interestRate_bin = [5,7,9,12,15,18,20,22,25,30,math.inf]\n",
    "interestRate_names=['a:<=7','b:(7,9]','c:(9,12]','d:(12,15]','e:(15,18]','f:(18,20]','g:(20,22]','h:(22,25]','i:(25,30]','j:30+']\n",
    "test_df['bin_interestRate'] = pd.cut(test_df['interestRate'],bins=interestRate_bin,labels=interestRate_names).astype('str')\n",
    "\n",
    "\n",
    "installment_bins = [-math.inf,100,200,300,500,800,1000,1500,math.inf]\n",
    "installment_names=['a:<=100','b:(100,200]','c:(200,300]','d:(300,500]','e:(500,800]','f:(800,1000]','g:(1000,1500]','h:1500+']\n",
    "test_df['bin_installment'] = pd.cut(test_df['installment'],bins=installment_bins,labels=installment_names).astype('str')\n",
    "\n",
    "annualIncome_bins=[-math.inf,30000,50000,70000,90000,120000,150000,200000,math.inf]\n",
    "installment_names=['a:<=30000','b:(30000,50000]','c:(50000,70000]','d:(70000,90000]','e:(90000,120000]','f:(120000,150000]','g:(150000,200000]','h:200000+']\n",
    "test_df['bin_annualIncome'] = pd.cut(test_df['annualIncome_fillna'], bins=annualIncome_bins,labels=installment_names).astype('str')\n",
    "\n",
    "dti_bins=[-math.inf,5,7,10,15,20,25,28,30,math.inf]\n",
    "dti_names=['a:<=5','b:(5,7]','c:(7,10]','d:(10,15]','e:(15,20]','f:(20,25]','g:(25,28]','h:(28,30]','i:30+']\n",
    "test_df['bin_dti'] = pd.cut(test_df['dti_fillna'], bins=dti_bins,labels=dti_names).astype('str')\n",
    "\n",
    "fico_bins=[630,650,670,710,750,780,800,820,840,math.inf]\n",
    "fico_names=['a:<=650','b:(650,670]','c:(670,710]','d:(710,750]','e:(750,780]','f:(780,800]','g:(800,820]','h:(820,840]','i:840+']\n",
    "test_df['bin_fico_avg'] = pd.cut(test_df['fico_avg'], bins=fico_bins,labels=fico_names).astype('str')\n",
    "\n",
    "credit_years_bins=[0,1,3,5,10,15,20,25,30,math.inf]\n",
    "credit_years_names=['a:<=1','b:(1,3]','c:(3,5]','d:(5,10]','e:(10,15]','f:(15,20]','g:(20,25]','h:（25,30]','i:30+']\n",
    "test_df['bin_credit_years'] = pd.cut(test_df['dummy_has_credit_year'], bins=credit_years_bins,labels=credit_years_names).astype('str')\n",
    "\n",
    "openAcc_bins=[-math.inf,5,8,10,12,14,20,math.inf]\n",
    "openAcc_names=['a:<=5','b:(5,8]','c:(8,10]','d:(10,12]','e:(12,14]','f:(14,20]','g:20+']\n",
    "test_df['bin_openAcc'] = pd.cut(test_df['openAcc_fillna'], bins=openAcc_bins,labels=openAcc_names).astype('str')\n",
    "\n",
    "revolBal_bins=[0,1500,3000,5000,10000,15000,20000,50000,math.inf]\n",
    "revolBal_names=['a:<=1500','b:(1500,3000]','c:(3000,5000]','d:(5000,10000]','e:(10000,15000]','f:(15000,20000]','g:(20000,50000]','h:50000+']\n",
    "test_df['bin_revolBal'] = pd.cut(test_df['revolBal'], bins=revolBal_bins,labels=revolBal_names).astype('str')\n",
    "\n",
    "\n",
    "revolUtil_bins=[-math.inf,10,30,50,70,80,90,100,math.inf]\n",
    "revolUtil_names=['a:<=10','b:(10,30]','c:(30,50]','d:(50,70]','e:(70,80]','f:(80,90]','g:(90,100]','h:100+']\n",
    "test_df['bin_revolUtil'] = pd.cut(test_df['revolUtil_fillna'], bins=revolUtil_bins,labels=revolUtil_names).astype('str')\n",
    "\n",
    "\n",
    "totalAcc_bins=[2,5,10,15,20,25,30,40,math.inf]\n",
    "totalAcc_names=['a:<=5','b:(5,10]','c:(10,15]','d:(15,20]','e:(20,25]','f:(25,30]','g:(30,40]','h:40+']\n",
    "test_df['bin_totalAcc'] = pd.cut(test_df['totalAcc'], bins=totalAcc_bins,labels=totalAcc_names).astype('str')\n",
    "\n",
    "for i in range(15):\n",
    "    var=\"n\"+str(i)+'_fillna'\n",
    "    test_df[var]=test_df[\"n\"+str(i)].fillna(test_df[\"n\"+str(i)].median())\n",
    "\n",
    "import math\n",
    "n0_bins = [0,3,10,30,40,math.inf]\n",
    "n0_names=['a:<=3','b:(3,10]','c:(10,30]','d:(30,40]','e:40+']\n",
    "test_df['bin_n0'] = pd.cut(test_df['n0_fillna'],bins=n0_bins,labels=n0_names).astype('str')\n",
    "\n",
    "n1_bins = [-math.inf,3,5,8,10,math.inf]\n",
    "n1_names=['a:<=3','b:(3,5]','c:(5,8]','d:(8,10]','e:10+']\n",
    "test_df['bin_n1'] = pd.cut(test_df['n1_fillna'],bins=n1_bins,labels=n1_names).astype('str')\n",
    "\n",
    "n2_bins = [-math.inf,3,5,7,12,math.inf]\n",
    "n2_names=['a:<=3','b:(3,5]','c:(5,7]','d:(7,12]','e:12+']\n",
    "test_df['bin_n2'] = pd.cut(test_df['n2_fillna'],bins=n2_bins,labels=n2_names).astype('str')\n",
    "\n",
    "n3_bins = [-math.inf,3,5,7,12,math.inf]\n",
    "n3_names=['a:<=3','b:(3,5]','c:(5,7]','d:(7,12]','e:12+']\n",
    "test_df['bin_n3'] = pd.cut(test_df['n3_fillna'],bins=n3_bins,labels=n3_names).astype('str')\n",
    "\n",
    "n4_bins = [0,3,4,6,10,math.inf]\n",
    "n4_names=['a:<=3','b:(3,4]','c:(4,6]','d:(6,10]','e:10+']\n",
    "test_df['bin_n4'] = pd.cut(test_df['n4_fillna'],bins=n4_bins,labels=n4_names).astype('str')\n",
    "\n",
    "n5_bins = [0,5,7,11,17,math.inf]\n",
    "n5_names=['a:<=5','b:(5,7]','c:(7,11]','d:(11,17]','e:17+']\n",
    "test_df['bin_n5'] = pd.cut(test_df['n5_fillna'],bins=n5_bins,labels=n5_names).astype('str')\n",
    "\n",
    "n6_bins = [0,4,7,11,23,math.inf]\n",
    "n6_names=['a:<=4','b:(4,7]','c:(7,11]','d:(11,23]','e:23+']\n",
    "test_df['bin_n6'] = pd.cut(test_df['n6_fillna'],bins=n6_bins,labels=n6_names).astype('str')\n",
    "\n",
    "\n",
    "n7_bins = [0,5,7,10,17,math.inf]\n",
    "n7_names=['a:<=5','b:(5,7]','c:(7,10]','d:(10,17]','e:17+']\n",
    "test_df['bin_n7'] = pd.cut(test_df['n7_fillna'],bins=n7_bins,labels=n7_names).astype('str')\n",
    "\n",
    "\n",
    "n8_bins = [0,9,13,19,30,math.inf]\n",
    "n8_names=['a:<=9','b:(9,13]','c:(13,19]','d:(19,30]','e:30+']\n",
    "test_df['bin_n8'] = pd.cut(test_df['n8_fillna'],bins=n8_bins,labels=n8_names).astype('str')\n",
    "\n",
    "n9_bins = [-math.inf,3,5,7,12,math.inf]\n",
    "n9_names=['a:<=9','b:(9,13]','c:(13,19]','d:(19,30]','e:30+']\n",
    "test_df['bin_n9'] = pd.cut(test_df['n9_fillna'],bins=n9_bins,labels=n9_names).astype('str')\n",
    "\n",
    "\n",
    "n10_bins = [0,8,11,14,22,math.inf]\n",
    "n10_names=['a:<=8','b:(8,11]','c:(11,14]','d:(14,22]','e:22+']\n",
    "test_df['bin_n10'] = pd.cut(test_df['n10_fillna'],bins=n10_bins,labels=n10_names).astype('str')\n",
    "\n",
    "n13_bins = [0,1,10,20,30,math.inf]\n",
    "n13_names=['a:<=1','b:(1,10]','c:(10,20]','d:(20,30]','e:30+']\n",
    "test_df['bin_n13'] = pd.cut(test_df['n13_fillna'],bins=n13_bins,labels=n13_names).astype('str')\n",
    "\n",
    "\n",
    "n14_bins = [-math.inf,1,2,3,5,math.inf]\n",
    "n14_names=['a:<=1','b:(1,2]','c:(2,3]','d:(3,5]','e:5+']\n",
    "test_df['bin_n14'] = pd.cut(test_df['n14_fillna'],bins=n14_bins,labels=n14_names).astype('str')"
   ]
  },
  {
   "cell_type": "code",
   "execution_count": 113,
   "id": "3f7efbc4",
   "metadata": {},
   "outputs": [
    {
     "data": {
      "text/plain": [
       "id                    0\n",
       "subGrade              0\n",
       "grade                 0\n",
       "bin_interestRate      0\n",
       "term                  0\n",
       "bin_fico_avg          0\n",
       "bin_dti               0\n",
       "verificationStatus    0\n",
       "bin_n14               0\n",
       "bin_loanAmnt          0\n",
       "bin_n2                0\n",
       "bin_n3                0\n",
       "bin_annualIncome      0\n",
       "bin_n9                0\n",
       "bin_installment       0\n",
       "bin_revolUtil         0\n",
       "purpose               0\n",
       "dtype: int64"
      ]
     },
     "execution_count": 113,
     "metadata": {},
     "output_type": "execute_result"
    }
   ],
   "source": [
    "test_df[['id','subGrade',\n",
    "'grade',\n",
    "'bin_interestRate',\n",
    "'term',\n",
    "'bin_fico_avg',\n",
    "'bin_dti',\n",
    "'verificationStatus',\n",
    "'bin_n14',\n",
    "'bin_loanAmnt',\n",
    "'bin_n2',\n",
    "'bin_n3',\n",
    "'bin_annualIncome',\n",
    "'bin_n9',\n",
    "'bin_installment',\n",
    "'bin_revolUtil',\n",
    "'purpose']].isnull().sum()"
   ]
  },
  {
   "cell_type": "code",
   "execution_count": 114,
   "id": "7fc8fc72",
   "metadata": {
    "scrolled": true
   },
   "outputs": [
    {
     "data": {
      "text/plain": [
       "['subGrade',\n",
       " 'grade',\n",
       " 'bin_interestRate',\n",
       " 'term',\n",
       " 'bin_fico_avg',\n",
       " 'bin_dti',\n",
       " 'verificationStatus',\n",
       " 'bin_n14',\n",
       " 'bin_loanAmnt',\n",
       " 'bin_n2',\n",
       " 'bin_n3',\n",
       " 'bin_annualIncome',\n",
       " 'bin_n9',\n",
       " 'bin_installment',\n",
       " 'bin_revolUtil',\n",
       " 'purpose']"
      ]
     },
     "execution_count": 114,
     "metadata": {},
     "output_type": "execute_result"
    }
   ],
   "source": [
    "var_list_filter"
   ]
  },
  {
   "cell_type": "code",
   "execution_count": null,
   "id": "f3d4850b",
   "metadata": {},
   "outputs": [],
   "source": [
    "woe_cols"
   ]
  },
  {
   "cell_type": "markdown",
   "id": "d74fdd71",
   "metadata": {},
   "source": [
    "### 最终将分类变量转换为woe"
   ]
  },
  {
   "cell_type": "code",
   "execution_count": 115,
   "id": "869947cb",
   "metadata": {},
   "outputs": [],
   "source": [
    " for i in range(len(var_list_filter)):\n",
    "    data_woe=df_woe[[var_list_filter[i],woe_cols[i]]].drop_duplicates()\n",
    "    dict1=dict(zip(data_woe[var_list_filter[i]],data_woe[woe_cols[i]]))\n",
    "    test_df[woe_cols[i]] = test_df[var_list_filter[i]].map(dict1)"
   ]
  },
  {
   "cell_type": "code",
   "execution_count": null,
   "id": "fe0751e8",
   "metadata": {},
   "outputs": [],
   "source": []
  },
  {
   "cell_type": "code",
   "execution_count": 116,
   "id": "df1bce71",
   "metadata": {},
   "outputs": [
    {
     "data": {
      "text/plain": [
       "woe_subGrade              0\n",
       "woe_grade                 0\n",
       "woe_bin_interestRate      0\n",
       "woe_term                  0\n",
       "woe_bin_fico_avg          0\n",
       "woe_bin_dti               0\n",
       "woe_verificationStatus    0\n",
       "woe_bin_n14               0\n",
       "woe_bin_loanAmnt          0\n",
       "woe_bin_n2                0\n",
       "woe_bin_n3                0\n",
       "woe_bin_annualIncome      0\n",
       "woe_bin_n9                0\n",
       "woe_bin_installment       0\n",
       "woe_bin_revolUtil         0\n",
       "woe_purpose               0\n",
       "dtype: int64"
      ]
     },
     "execution_count": 116,
     "metadata": {},
     "output_type": "execute_result"
    }
   ],
   "source": [
    "test_df[woe_cols].isnull().sum()"
   ]
  },
  {
   "cell_type": "code",
   "execution_count": null,
   "id": "42e9126d",
   "metadata": {},
   "outputs": [],
   "source": []
  },
  {
   "cell_type": "markdown",
   "id": "4e310c2a",
   "metadata": {},
   "source": [
    "### 寻找超参数"
   ]
  },
  {
   "cell_type": "code",
   "execution_count": 135,
   "id": "f4437ec0",
   "metadata": {},
   "outputs": [],
   "source": [
    "from sklearn.model_selection import cross_val_score\n",
    "\n",
    "\"\"\"定义优化函数\"\"\"\n",
    "def rf_cv_lgb(num_leaves, max_depth, bagging_fraction, feature_fraction, bagging_freq, min_data_in_leaf, \n",
    "              min_child_weight, min_split_gain, reg_lambda, reg_alpha):\n",
    "    # 建立模型\n",
    "    model_lgb = lgb.LGBMClassifier(boosting_type='gbdt', objective='binary', metric='auc',\n",
    "                                   learning_rate=0.1, n_estimators=5000,\n",
    "                                   num_leaves=int(num_leaves), max_depth=int(max_depth), \n",
    "                                   bagging_fraction=round(bagging_fraction, 2), feature_fraction=round(feature_fraction, 2),\n",
    "                                   bagging_freq=int(bagging_freq), min_data_in_leaf=int(min_data_in_leaf),\n",
    "                                   min_child_weight=min_child_weight, min_split_gain=min_split_gain,\n",
    "                                   reg_lambda=reg_lambda, reg_alpha=reg_alpha,\n",
    "                                   n_jobs= 8\n",
    "                                  )\n",
    "    \n",
    "    val = cross_val_score(model_lgb, X_train, y_train, cv=5, scoring='roc_auc').mean()\n",
    "    \n",
    "    return val"
   ]
  },
  {
   "cell_type": "code",
   "execution_count": null,
   "id": "8df73a2e",
   "metadata": {
    "scrolled": false
   },
   "outputs": [
    {
     "name": "stdout",
     "output_type": "stream",
     "text": [
      "|   iter    |  target   | baggin... | baggin... | featur... | max_depth | min_ch... | min_da... | min_sp... | num_le... | reg_alpha | reg_la... |\n",
      "-------------------------------------------------------------------------------------------------------------------------------------------------\n",
      "[LightGBM] [Warning] feature_fraction is set=0.8, colsample_bytree=1.0 will be ignored. Current value: feature_fraction=0.8\n",
      "[LightGBM] [Warning] min_data_in_leaf is set=76, min_child_samples=20 will be ignored. Current value: min_data_in_leaf=76\n",
      "[LightGBM] [Warning] bagging_fraction is set=0.87, subsample=1.0 will be ignored. Current value: bagging_fraction=0.87\n",
      "[LightGBM] [Warning] bagging_freq is set=47, subsample_freq=0 will be ignored. Current value: bagging_freq=47\n",
      "[LightGBM] [Warning] feature_fraction is set=0.8, colsample_bytree=1.0 will be ignored. Current value: feature_fraction=0.8\n",
      "[LightGBM] [Warning] min_data_in_leaf is set=76, min_child_samples=20 will be ignored. Current value: min_data_in_leaf=76\n",
      "[LightGBM] [Warning] bagging_fraction is set=0.87, subsample=1.0 will be ignored. Current value: bagging_fraction=0.87\n",
      "[LightGBM] [Warning] bagging_freq is set=47, subsample_freq=0 will be ignored. Current value: bagging_freq=47\n",
      "[LightGBM] [Warning] feature_fraction is set=0.8, colsample_bytree=1.0 will be ignored. Current value: feature_fraction=0.8\n",
      "[LightGBM] [Warning] min_data_in_leaf is set=76, min_child_samples=20 will be ignored. Current value: min_data_in_leaf=76\n",
      "[LightGBM] [Warning] bagging_fraction is set=0.87, subsample=1.0 will be ignored. Current value: bagging_fraction=0.87\n",
      "[LightGBM] [Warning] bagging_freq is set=47, subsample_freq=0 will be ignored. Current value: bagging_freq=47\n",
      "[LightGBM] [Warning] feature_fraction is set=0.8, colsample_bytree=1.0 will be ignored. Current value: feature_fraction=0.8\n",
      "[LightGBM] [Warning] min_data_in_leaf is set=76, min_child_samples=20 will be ignored. Current value: min_data_in_leaf=76\n",
      "[LightGBM] [Warning] bagging_fraction is set=0.87, subsample=1.0 will be ignored. Current value: bagging_fraction=0.87\n",
      "[LightGBM] [Warning] bagging_freq is set=47, subsample_freq=0 will be ignored. Current value: bagging_freq=47\n",
      "| \u001b[0m 1       \u001b[0m | \u001b[0m 0.7118  \u001b[0m | \u001b[0m 0.8689  \u001b[0m | \u001b[0m 47.61   \u001b[0m | \u001b[0m 0.8016  \u001b[0m | \u001b[0m 10.77   \u001b[0m | \u001b[0m 0.6658  \u001b[0m | \u001b[0m 76.55   \u001b[0m | \u001b[0m 0.4374  \u001b[0m | \u001b[0m 134.9   \u001b[0m | \u001b[0m 3.163   \u001b[0m | \u001b[0m 8.632   \u001b[0m |\n",
      "[LightGBM] [Warning] feature_fraction is set=0.92, colsample_bytree=1.0 will be ignored. Current value: feature_fraction=0.92\n",
      "[LightGBM] [Warning] min_data_in_leaf is set=13, min_child_samples=20 will be ignored. Current value: min_data_in_leaf=13\n",
      "[LightGBM] [Warning] bagging_fraction is set=0.93, subsample=1.0 will be ignored. Current value: bagging_fraction=0.93\n",
      "[LightGBM] [Warning] bagging_freq is set=77, subsample_freq=0 will be ignored. Current value: bagging_freq=77\n",
      "[LightGBM] [Warning] feature_fraction is set=0.92, colsample_bytree=1.0 will be ignored. Current value: feature_fraction=0.92\n",
      "[LightGBM] [Warning] min_data_in_leaf is set=13, min_child_samples=20 will be ignored. Current value: min_data_in_leaf=13\n",
      "[LightGBM] [Warning] bagging_fraction is set=0.93, subsample=1.0 will be ignored. Current value: bagging_fraction=0.93\n",
      "[LightGBM] [Warning] bagging_freq is set=77, subsample_freq=0 will be ignored. Current value: bagging_freq=77\n",
      "[LightGBM] [Warning] feature_fraction is set=0.92, colsample_bytree=1.0 will be ignored. Current value: feature_fraction=0.92\n",
      "[LightGBM] [Warning] min_data_in_leaf is set=13, min_child_samples=20 will be ignored. Current value: min_data_in_leaf=13\n",
      "[LightGBM] [Warning] bagging_fraction is set=0.93, subsample=1.0 will be ignored. Current value: bagging_fraction=0.93\n",
      "[LightGBM] [Warning] bagging_freq is set=77, subsample_freq=0 will be ignored. Current value: bagging_freq=77\n",
      "[LightGBM] [Warning] feature_fraction is set=0.92, colsample_bytree=1.0 will be ignored. Current value: feature_fraction=0.92\n",
      "[LightGBM] [Warning] min_data_in_leaf is set=13, min_child_samples=20 will be ignored. Current value: min_data_in_leaf=13\n",
      "[LightGBM] [Warning] bagging_fraction is set=0.93, subsample=1.0 will be ignored. Current value: bagging_fraction=0.93\n",
      "[LightGBM] [Warning] bagging_freq is set=77, subsample_freq=0 will be ignored. Current value: bagging_freq=77\n",
      "[LightGBM] [Warning] feature_fraction is set=0.92, colsample_bytree=1.0 will be ignored. Current value: feature_fraction=0.92\n",
      "[LightGBM] [Warning] min_data_in_leaf is set=13, min_child_samples=20 will be ignored. Current value: min_data_in_leaf=13\n",
      "[LightGBM] [Warning] bagging_fraction is set=0.93, subsample=1.0 will be ignored. Current value: bagging_fraction=0.93\n",
      "[LightGBM] [Warning] bagging_freq is set=77, subsample_freq=0 will be ignored. Current value: bagging_freq=77\n",
      "| \u001b[0m 2       \u001b[0m | \u001b[0m 0.7115  \u001b[0m | \u001b[0m 0.9288  \u001b[0m | \u001b[0m 77.69   \u001b[0m | \u001b[0m 0.9193  \u001b[0m | \u001b[0m 11.54   \u001b[0m | \u001b[0m 8.804   \u001b[0m | \u001b[0m 13.24   \u001b[0m | \u001b[0m 0.208   \u001b[0m | \u001b[0m 134.8   \u001b[0m | \u001b[0m 2.067   \u001b[0m | \u001b[0m 2.269   \u001b[0m |\n",
      "[LightGBM] [Warning] feature_fraction is set=0.55, colsample_bytree=1.0 will be ignored. Current value: feature_fraction=0.55\n",
      "[LightGBM] [Warning] min_data_in_leaf is set=83, min_child_samples=20 will be ignored. Current value: min_data_in_leaf=83\n",
      "[LightGBM] [Warning] bagging_fraction is set=0.64, subsample=1.0 will be ignored. Current value: bagging_fraction=0.64\n",
      "[LightGBM] [Warning] bagging_freq is set=3, subsample_freq=0 will be ignored. Current value: bagging_freq=3\n",
      "[LightGBM] [Warning] feature_fraction is set=0.55, colsample_bytree=1.0 will be ignored. Current value: feature_fraction=0.55\n",
      "[LightGBM] [Warning] min_data_in_leaf is set=83, min_child_samples=20 will be ignored. Current value: min_data_in_leaf=83\n",
      "[LightGBM] [Warning] bagging_fraction is set=0.64, subsample=1.0 will be ignored. Current value: bagging_fraction=0.64\n",
      "[LightGBM] [Warning] bagging_freq is set=3, subsample_freq=0 will be ignored. Current value: bagging_freq=3\n",
      "[LightGBM] [Warning] feature_fraction is set=0.55, colsample_bytree=1.0 will be ignored. Current value: feature_fraction=0.55\n",
      "[LightGBM] [Warning] min_data_in_leaf is set=83, min_child_samples=20 will be ignored. Current value: min_data_in_leaf=83\n",
      "[LightGBM] [Warning] bagging_fraction is set=0.64, subsample=1.0 will be ignored. Current value: bagging_fraction=0.64\n",
      "[LightGBM] [Warning] bagging_freq is set=3, subsample_freq=0 will be ignored. Current value: bagging_freq=3\n",
      "[LightGBM] [Warning] feature_fraction is set=0.55, colsample_bytree=1.0 will be ignored. Current value: feature_fraction=0.55\n",
      "[LightGBM] [Warning] min_data_in_leaf is set=83, min_child_samples=20 will be ignored. Current value: min_data_in_leaf=83\n",
      "[LightGBM] [Warning] bagging_fraction is set=0.64, subsample=1.0 will be ignored. Current value: bagging_fraction=0.64\n",
      "[LightGBM] [Warning] bagging_freq is set=3, subsample_freq=0 will be ignored. Current value: bagging_freq=3\n",
      "[LightGBM] [Warning] feature_fraction is set=0.55, colsample_bytree=1.0 will be ignored. Current value: feature_fraction=0.55\n",
      "[LightGBM] [Warning] min_data_in_leaf is set=83, min_child_samples=20 will be ignored. Current value: min_data_in_leaf=83\n",
      "[LightGBM] [Warning] bagging_fraction is set=0.64, subsample=1.0 will be ignored. Current value: bagging_fraction=0.64\n",
      "[LightGBM] [Warning] bagging_freq is set=3, subsample_freq=0 will be ignored. Current value: bagging_freq=3\n",
      "| \u001b[0m 3       \u001b[0m | \u001b[0m 0.7111  \u001b[0m | \u001b[0m 0.6379  \u001b[0m | \u001b[0m 3.2     \u001b[0m | \u001b[0m 0.5455  \u001b[0m | \u001b[0m 7.885   \u001b[0m | \u001b[0m 1.26    \u001b[0m | \u001b[0m 83.36   \u001b[0m | \u001b[0m 0.7238  \u001b[0m | \u001b[0m 77.52   \u001b[0m | \u001b[0m 3.197   \u001b[0m | \u001b[0m 7.446   \u001b[0m |\n",
      "[LightGBM] [Warning] feature_fraction is set=0.95, colsample_bytree=1.0 will be ignored. Current value: feature_fraction=0.95\n",
      "[LightGBM] [Warning] min_data_in_leaf is set=34, min_child_samples=20 will be ignored. Current value: min_data_in_leaf=34\n",
      "[LightGBM] [Warning] bagging_fraction is set=0.88, subsample=1.0 will be ignored. Current value: bagging_fraction=0.88\n",
      "[LightGBM] [Warning] bagging_freq is set=91, subsample_freq=0 will be ignored. Current value: bagging_freq=91\n",
      "[LightGBM] [Warning] feature_fraction is set=0.95, colsample_bytree=1.0 will be ignored. Current value: feature_fraction=0.95\n",
      "[LightGBM] [Warning] min_data_in_leaf is set=34, min_child_samples=20 will be ignored. Current value: min_data_in_leaf=34\n",
      "[LightGBM] [Warning] bagging_fraction is set=0.88, subsample=1.0 will be ignored. Current value: bagging_fraction=0.88\n",
      "[LightGBM] [Warning] bagging_freq is set=91, subsample_freq=0 will be ignored. Current value: bagging_freq=91\n"
     ]
    },
    {
     "name": "stdout",
     "output_type": "stream",
     "text": [
      "[LightGBM] [Warning] feature_fraction is set=0.95, colsample_bytree=1.0 will be ignored. Current value: feature_fraction=0.95\n",
      "[LightGBM] [Warning] min_data_in_leaf is set=34, min_child_samples=20 will be ignored. Current value: min_data_in_leaf=34\n",
      "[LightGBM] [Warning] bagging_fraction is set=0.88, subsample=1.0 will be ignored. Current value: bagging_fraction=0.88\n",
      "[LightGBM] [Warning] bagging_freq is set=91, subsample_freq=0 will be ignored. Current value: bagging_freq=91\n",
      "[LightGBM] [Warning] feature_fraction is set=0.95, colsample_bytree=1.0 will be ignored. Current value: feature_fraction=0.95\n",
      "[LightGBM] [Warning] min_data_in_leaf is set=34, min_child_samples=20 will be ignored. Current value: min_data_in_leaf=34\n",
      "[LightGBM] [Warning] bagging_fraction is set=0.88, subsample=1.0 will be ignored. Current value: bagging_fraction=0.88\n",
      "[LightGBM] [Warning] bagging_freq is set=91, subsample_freq=0 will be ignored. Current value: bagging_freq=91\n",
      "[LightGBM] [Warning] feature_fraction is set=0.95, colsample_bytree=1.0 will be ignored. Current value: feature_fraction=0.95\n",
      "[LightGBM] [Warning] min_data_in_leaf is set=34, min_child_samples=20 will be ignored. Current value: min_data_in_leaf=34\n",
      "[LightGBM] [Warning] bagging_fraction is set=0.88, subsample=1.0 will be ignored. Current value: bagging_fraction=0.88\n",
      "[LightGBM] [Warning] bagging_freq is set=91, subsample_freq=0 will be ignored. Current value: bagging_freq=91\n",
      "| \u001b[0m 4       \u001b[0m | \u001b[0m 0.7114  \u001b[0m | \u001b[0m 0.8774  \u001b[0m | \u001b[0m 91.42   \u001b[0m | \u001b[0m 0.9529  \u001b[0m | \u001b[0m 17.88   \u001b[0m | \u001b[0m 3.325   \u001b[0m | \u001b[0m 34.95   \u001b[0m | \u001b[0m 0.1883  \u001b[0m | \u001b[0m 148.4   \u001b[0m | \u001b[0m 2.37    \u001b[0m | \u001b[0m 7.335   \u001b[0m |\n",
      "[LightGBM] [Warning] feature_fraction is set=0.8, colsample_bytree=1.0 will be ignored. Current value: feature_fraction=0.8\n",
      "[LightGBM] [Warning] min_data_in_leaf is set=67, min_child_samples=20 will be ignored. Current value: min_data_in_leaf=67\n",
      "[LightGBM] [Warning] bagging_fraction is set=0.53, subsample=1.0 will be ignored. Current value: bagging_fraction=0.53\n",
      "[LightGBM] [Warning] bagging_freq is set=45, subsample_freq=0 will be ignored. Current value: bagging_freq=45\n",
      "[LightGBM] [Warning] feature_fraction is set=0.8, colsample_bytree=1.0 will be ignored. Current value: feature_fraction=0.8\n",
      "[LightGBM] [Warning] min_data_in_leaf is set=67, min_child_samples=20 will be ignored. Current value: min_data_in_leaf=67\n",
      "[LightGBM] [Warning] bagging_fraction is set=0.53, subsample=1.0 will be ignored. Current value: bagging_fraction=0.53\n",
      "[LightGBM] [Warning] bagging_freq is set=45, subsample_freq=0 will be ignored. Current value: bagging_freq=45\n",
      "[LightGBM] [Warning] feature_fraction is set=0.8, colsample_bytree=1.0 will be ignored. Current value: feature_fraction=0.8\n",
      "[LightGBM] [Warning] min_data_in_leaf is set=67, min_child_samples=20 will be ignored. Current value: min_data_in_leaf=67\n",
      "[LightGBM] [Warning] bagging_fraction is set=0.53, subsample=1.0 will be ignored. Current value: bagging_fraction=0.53\n",
      "[LightGBM] [Warning] bagging_freq is set=45, subsample_freq=0 will be ignored. Current value: bagging_freq=45\n",
      "[LightGBM] [Warning] feature_fraction is set=0.8, colsample_bytree=1.0 will be ignored. Current value: feature_fraction=0.8\n",
      "[LightGBM] [Warning] min_data_in_leaf is set=67, min_child_samples=20 will be ignored. Current value: min_data_in_leaf=67\n",
      "[LightGBM] [Warning] bagging_fraction is set=0.53, subsample=1.0 will be ignored. Current value: bagging_fraction=0.53\n",
      "[LightGBM] [Warning] bagging_freq is set=45, subsample_freq=0 will be ignored. Current value: bagging_freq=45\n",
      "[LightGBM] [Warning] feature_fraction is set=0.8, colsample_bytree=1.0 will be ignored. Current value: feature_fraction=0.8\n",
      "[LightGBM] [Warning] min_data_in_leaf is set=67, min_child_samples=20 will be ignored. Current value: min_data_in_leaf=67\n",
      "[LightGBM] [Warning] bagging_fraction is set=0.53, subsample=1.0 will be ignored. Current value: bagging_fraction=0.53\n",
      "[LightGBM] [Warning] bagging_freq is set=45, subsample_freq=0 will be ignored. Current value: bagging_freq=45\n",
      "| \u001b[0m 5       \u001b[0m | \u001b[0m 0.7117  \u001b[0m | \u001b[0m 0.531   \u001b[0m | \u001b[0m 45.1    \u001b[0m | \u001b[0m 0.7977  \u001b[0m | \u001b[0m 6.156   \u001b[0m | \u001b[0m 3.343   \u001b[0m | \u001b[0m 67.29   \u001b[0m | \u001b[0m 0.2076  \u001b[0m | \u001b[0m 120.5   \u001b[0m | \u001b[0m 6.204   \u001b[0m | \u001b[0m 2.159   \u001b[0m |\n",
      "[LightGBM] [Warning] feature_fraction is set=0.61, colsample_bytree=1.0 will be ignored. Current value: feature_fraction=0.61\n",
      "[LightGBM] [Warning] min_data_in_leaf is set=68, min_child_samples=20 will be ignored. Current value: min_data_in_leaf=68\n",
      "[LightGBM] [Warning] bagging_fraction is set=0.68, subsample=1.0 will be ignored. Current value: bagging_fraction=0.68\n",
      "[LightGBM] [Warning] bagging_freq is set=39, subsample_freq=0 will be ignored. Current value: bagging_freq=39\n",
      "[LightGBM] [Warning] feature_fraction is set=0.61, colsample_bytree=1.0 will be ignored. Current value: feature_fraction=0.61\n",
      "[LightGBM] [Warning] min_data_in_leaf is set=68, min_child_samples=20 will be ignored. Current value: min_data_in_leaf=68\n",
      "[LightGBM] [Warning] bagging_fraction is set=0.68, subsample=1.0 will be ignored. Current value: bagging_fraction=0.68\n",
      "[LightGBM] [Warning] bagging_freq is set=39, subsample_freq=0 will be ignored. Current value: bagging_freq=39\n",
      "[LightGBM] [Warning] feature_fraction is set=0.61, colsample_bytree=1.0 will be ignored. Current value: feature_fraction=0.61\n",
      "[LightGBM] [Warning] min_data_in_leaf is set=68, min_child_samples=20 will be ignored. Current value: min_data_in_leaf=68\n",
      "[LightGBM] [Warning] bagging_fraction is set=0.68, subsample=1.0 will be ignored. Current value: bagging_fraction=0.68\n",
      "[LightGBM] [Warning] bagging_freq is set=39, subsample_freq=0 will be ignored. Current value: bagging_freq=39\n",
      "[LightGBM] [Warning] feature_fraction is set=0.61, colsample_bytree=1.0 will be ignored. Current value: feature_fraction=0.61\n",
      "[LightGBM] [Warning] min_data_in_leaf is set=68, min_child_samples=20 will be ignored. Current value: min_data_in_leaf=68\n",
      "[LightGBM] [Warning] bagging_fraction is set=0.68, subsample=1.0 will be ignored. Current value: bagging_fraction=0.68\n",
      "[LightGBM] [Warning] bagging_freq is set=39, subsample_freq=0 will be ignored. Current value: bagging_freq=39\n",
      "[LightGBM] [Warning] feature_fraction is set=0.61, colsample_bytree=1.0 will be ignored. Current value: feature_fraction=0.61\n",
      "[LightGBM] [Warning] min_data_in_leaf is set=68, min_child_samples=20 will be ignored. Current value: min_data_in_leaf=68\n",
      "[LightGBM] [Warning] bagging_fraction is set=0.68, subsample=1.0 will be ignored. Current value: bagging_fraction=0.68\n",
      "[LightGBM] [Warning] bagging_freq is set=39, subsample_freq=0 will be ignored. Current value: bagging_freq=39\n",
      "| \u001b[0m 6       \u001b[0m | \u001b[0m 0.7116  \u001b[0m | \u001b[0m 0.6807  \u001b[0m | \u001b[0m 39.98   \u001b[0m | \u001b[0m 0.612   \u001b[0m | \u001b[0m 5.927   \u001b[0m | \u001b[0m 0.01189 \u001b[0m | \u001b[0m 68.73   \u001b[0m | \u001b[0m 0.8058  \u001b[0m | \u001b[0m 121.6   \u001b[0m | \u001b[0m 6.191   \u001b[0m | \u001b[0m 1.988   \u001b[0m |\n",
      "[LightGBM] [Warning] feature_fraction is set=0.84, colsample_bytree=1.0 will be ignored. Current value: feature_fraction=0.84\n",
      "[LightGBM] [Warning] min_data_in_leaf is set=74, min_child_samples=20 will be ignored. Current value: min_data_in_leaf=74\n",
      "[LightGBM] [Warning] bagging_fraction is set=0.95, subsample=1.0 will be ignored. Current value: bagging_fraction=0.95\n",
      "[LightGBM] [Warning] bagging_freq is set=56, subsample_freq=0 will be ignored. Current value: bagging_freq=56\n",
      "[LightGBM] [Warning] feature_fraction is set=0.84, colsample_bytree=1.0 will be ignored. Current value: feature_fraction=0.84\n",
      "[LightGBM] [Warning] min_data_in_leaf is set=74, min_child_samples=20 will be ignored. Current value: min_data_in_leaf=74\n",
      "[LightGBM] [Warning] bagging_fraction is set=0.95, subsample=1.0 will be ignored. Current value: bagging_fraction=0.95\n",
      "[LightGBM] [Warning] bagging_freq is set=56, subsample_freq=0 will be ignored. Current value: bagging_freq=56\n",
      "[LightGBM] [Warning] feature_fraction is set=0.84, colsample_bytree=1.0 will be ignored. Current value: feature_fraction=0.84\n",
      "[LightGBM] [Warning] min_data_in_leaf is set=74, min_child_samples=20 will be ignored. Current value: min_data_in_leaf=74\n",
      "[LightGBM] [Warning] bagging_fraction is set=0.95, subsample=1.0 will be ignored. Current value: bagging_fraction=0.95\n",
      "[LightGBM] [Warning] bagging_freq is set=56, subsample_freq=0 will be ignored. Current value: bagging_freq=56\n"
     ]
    },
    {
     "name": "stdout",
     "output_type": "stream",
     "text": [
      "[LightGBM] [Warning] feature_fraction is set=0.84, colsample_bytree=1.0 will be ignored. Current value: feature_fraction=0.84\n",
      "[LightGBM] [Warning] min_data_in_leaf is set=74, min_child_samples=20 will be ignored. Current value: min_data_in_leaf=74\n",
      "[LightGBM] [Warning] bagging_fraction is set=0.95, subsample=1.0 will be ignored. Current value: bagging_fraction=0.95\n",
      "[LightGBM] [Warning] bagging_freq is set=56, subsample_freq=0 will be ignored. Current value: bagging_freq=56\n",
      "[LightGBM] [Warning] feature_fraction is set=0.84, colsample_bytree=1.0 will be ignored. Current value: feature_fraction=0.84\n",
      "[LightGBM] [Warning] min_data_in_leaf is set=74, min_child_samples=20 will be ignored. Current value: min_data_in_leaf=74\n",
      "[LightGBM] [Warning] bagging_fraction is set=0.95, subsample=1.0 will be ignored. Current value: bagging_fraction=0.95\n",
      "[LightGBM] [Warning] bagging_freq is set=56, subsample_freq=0 will be ignored. Current value: bagging_freq=56\n",
      "| \u001b[0m 7       \u001b[0m | \u001b[0m 0.7117  \u001b[0m | \u001b[0m 0.9544  \u001b[0m | \u001b[0m 56.49   \u001b[0m | \u001b[0m 0.8449  \u001b[0m | \u001b[0m 15.43   \u001b[0m | \u001b[0m 8.494   \u001b[0m | \u001b[0m 74.64   \u001b[0m | \u001b[0m 0.8243  \u001b[0m | \u001b[0m 125.0   \u001b[0m | \u001b[0m 5.147   \u001b[0m | \u001b[0m 5.389   \u001b[0m |\n",
      "[LightGBM] [Warning] feature_fraction is set=0.86, colsample_bytree=1.0 will be ignored. Current value: feature_fraction=0.86\n",
      "[LightGBM] [Warning] min_data_in_leaf is set=57, min_child_samples=20 will be ignored. Current value: min_data_in_leaf=57\n",
      "[LightGBM] [Warning] bagging_fraction is set=0.83, subsample=1.0 will be ignored. Current value: bagging_fraction=0.83\n",
      "[LightGBM] [Warning] bagging_freq is set=55, subsample_freq=0 will be ignored. Current value: bagging_freq=55\n",
      "[LightGBM] [Warning] feature_fraction is set=0.86, colsample_bytree=1.0 will be ignored. Current value: feature_fraction=0.86\n",
      "[LightGBM] [Warning] min_data_in_leaf is set=57, min_child_samples=20 will be ignored. Current value: min_data_in_leaf=57\n",
      "[LightGBM] [Warning] bagging_fraction is set=0.83, subsample=1.0 will be ignored. Current value: bagging_fraction=0.83\n",
      "[LightGBM] [Warning] bagging_freq is set=55, subsample_freq=0 will be ignored. Current value: bagging_freq=55\n",
      "[LightGBM] [Warning] feature_fraction is set=0.86, colsample_bytree=1.0 will be ignored. Current value: feature_fraction=0.86\n",
      "[LightGBM] [Warning] min_data_in_leaf is set=57, min_child_samples=20 will be ignored. Current value: min_data_in_leaf=57\n",
      "[LightGBM] [Warning] bagging_fraction is set=0.83, subsample=1.0 will be ignored. Current value: bagging_fraction=0.83\n",
      "[LightGBM] [Warning] bagging_freq is set=55, subsample_freq=0 will be ignored. Current value: bagging_freq=55\n",
      "[LightGBM] [Warning] feature_fraction is set=0.86, colsample_bytree=1.0 will be ignored. Current value: feature_fraction=0.86\n",
      "[LightGBM] [Warning] min_data_in_leaf is set=57, min_child_samples=20 will be ignored. Current value: min_data_in_leaf=57\n",
      "[LightGBM] [Warning] bagging_fraction is set=0.83, subsample=1.0 will be ignored. Current value: bagging_fraction=0.83\n",
      "[LightGBM] [Warning] bagging_freq is set=55, subsample_freq=0 will be ignored. Current value: bagging_freq=55\n",
      "[LightGBM] [Warning] feature_fraction is set=0.86, colsample_bytree=1.0 will be ignored. Current value: feature_fraction=0.86\n",
      "[LightGBM] [Warning] min_data_in_leaf is set=57, min_child_samples=20 will be ignored. Current value: min_data_in_leaf=57\n",
      "[LightGBM] [Warning] bagging_fraction is set=0.83, subsample=1.0 will be ignored. Current value: bagging_fraction=0.83\n",
      "[LightGBM] [Warning] bagging_freq is set=55, subsample_freq=0 will be ignored. Current value: bagging_freq=55\n",
      "| \u001b[95m 8       \u001b[0m | \u001b[95m 0.7123  \u001b[0m | \u001b[95m 0.8303  \u001b[0m | \u001b[95m 55.48   \u001b[0m | \u001b[95m 0.8625  \u001b[0m | \u001b[95m 5.474   \u001b[0m | \u001b[95m 4.058   \u001b[0m | \u001b[95m 57.36   \u001b[0m | \u001b[95m 0.09476 \u001b[0m | \u001b[95m 132.5   \u001b[0m | \u001b[95m 1.086   \u001b[0m | \u001b[95m 1.884   \u001b[0m |\n",
      "[LightGBM] [Warning] feature_fraction is set=0.72, colsample_bytree=1.0 will be ignored. Current value: feature_fraction=0.72\n",
      "[LightGBM] [Warning] min_data_in_leaf is set=40, min_child_samples=20 will be ignored. Current value: min_data_in_leaf=40\n",
      "[LightGBM] [Warning] bagging_fraction is set=0.74, subsample=1.0 will be ignored. Current value: bagging_fraction=0.74\n",
      "[LightGBM] [Warning] bagging_freq is set=78, subsample_freq=0 will be ignored. Current value: bagging_freq=78\n",
      "[LightGBM] [Warning] feature_fraction is set=0.72, colsample_bytree=1.0 will be ignored. Current value: feature_fraction=0.72\n",
      "[LightGBM] [Warning] min_data_in_leaf is set=40, min_child_samples=20 will be ignored. Current value: min_data_in_leaf=40\n",
      "[LightGBM] [Warning] bagging_fraction is set=0.74, subsample=1.0 will be ignored. Current value: bagging_fraction=0.74\n",
      "[LightGBM] [Warning] bagging_freq is set=78, subsample_freq=0 will be ignored. Current value: bagging_freq=78\n",
      "[LightGBM] [Warning] feature_fraction is set=0.72, colsample_bytree=1.0 will be ignored. Current value: feature_fraction=0.72\n",
      "[LightGBM] [Warning] min_data_in_leaf is set=40, min_child_samples=20 will be ignored. Current value: min_data_in_leaf=40\n",
      "[LightGBM] [Warning] bagging_fraction is set=0.74, subsample=1.0 will be ignored. Current value: bagging_fraction=0.74\n",
      "[LightGBM] [Warning] bagging_freq is set=78, subsample_freq=0 will be ignored. Current value: bagging_freq=78\n",
      "[LightGBM] [Warning] feature_fraction is set=0.72, colsample_bytree=1.0 will be ignored. Current value: feature_fraction=0.72\n",
      "[LightGBM] [Warning] min_data_in_leaf is set=40, min_child_samples=20 will be ignored. Current value: min_data_in_leaf=40\n",
      "[LightGBM] [Warning] bagging_fraction is set=0.74, subsample=1.0 will be ignored. Current value: bagging_fraction=0.74\n",
      "[LightGBM] [Warning] bagging_freq is set=78, subsample_freq=0 will be ignored. Current value: bagging_freq=78\n",
      "[LightGBM] [Warning] feature_fraction is set=0.72, colsample_bytree=1.0 will be ignored. Current value: feature_fraction=0.72\n",
      "[LightGBM] [Warning] min_data_in_leaf is set=40, min_child_samples=20 will be ignored. Current value: min_data_in_leaf=40\n",
      "[LightGBM] [Warning] bagging_fraction is set=0.74, subsample=1.0 will be ignored. Current value: bagging_fraction=0.74\n",
      "[LightGBM] [Warning] bagging_freq is set=78, subsample_freq=0 will be ignored. Current value: bagging_freq=78\n",
      "| \u001b[0m 9       \u001b[0m | \u001b[0m 0.7116  \u001b[0m | \u001b[0m 0.7432  \u001b[0m | \u001b[0m 78.89   \u001b[0m | \u001b[0m 0.719   \u001b[0m | \u001b[0m 7.176   \u001b[0m | \u001b[0m 3.072   \u001b[0m | \u001b[0m 40.81   \u001b[0m | \u001b[0m 0.808   \u001b[0m | \u001b[0m 63.62   \u001b[0m | \u001b[0m 2.596   \u001b[0m | \u001b[0m 3.574   \u001b[0m |\n",
      "[LightGBM] [Warning] feature_fraction is set=0.79, colsample_bytree=1.0 will be ignored. Current value: feature_fraction=0.79\n",
      "[LightGBM] [Warning] min_data_in_leaf is set=47, min_child_samples=20 will be ignored. Current value: min_data_in_leaf=47\n",
      "[LightGBM] [Warning] bagging_fraction is set=0.6, subsample=1.0 will be ignored. Current value: bagging_fraction=0.6\n",
      "[LightGBM] [Warning] bagging_freq is set=40, subsample_freq=0 will be ignored. Current value: bagging_freq=40\n",
      "[LightGBM] [Warning] feature_fraction is set=0.79, colsample_bytree=1.0 will be ignored. Current value: feature_fraction=0.79\n",
      "[LightGBM] [Warning] min_data_in_leaf is set=47, min_child_samples=20 will be ignored. Current value: min_data_in_leaf=47\n",
      "[LightGBM] [Warning] bagging_fraction is set=0.6, subsample=1.0 will be ignored. Current value: bagging_fraction=0.6\n",
      "[LightGBM] [Warning] bagging_freq is set=40, subsample_freq=0 will be ignored. Current value: bagging_freq=40\n",
      "[LightGBM] [Warning] feature_fraction is set=0.79, colsample_bytree=1.0 will be ignored. Current value: feature_fraction=0.79\n",
      "[LightGBM] [Warning] min_data_in_leaf is set=47, min_child_samples=20 will be ignored. Current value: min_data_in_leaf=47\n",
      "[LightGBM] [Warning] bagging_fraction is set=0.6, subsample=1.0 will be ignored. Current value: bagging_fraction=0.6\n",
      "[LightGBM] [Warning] bagging_freq is set=40, subsample_freq=0 will be ignored. Current value: bagging_freq=40\n",
      "[LightGBM] [Warning] feature_fraction is set=0.79, colsample_bytree=1.0 will be ignored. Current value: feature_fraction=0.79\n",
      "[LightGBM] [Warning] min_data_in_leaf is set=47, min_child_samples=20 will be ignored. Current value: min_data_in_leaf=47\n",
      "[LightGBM] [Warning] bagging_fraction is set=0.6, subsample=1.0 will be ignored. Current value: bagging_fraction=0.6\n",
      "[LightGBM] [Warning] bagging_freq is set=40, subsample_freq=0 will be ignored. Current value: bagging_freq=40\n"
     ]
    },
    {
     "name": "stdout",
     "output_type": "stream",
     "text": [
      "[LightGBM] [Warning] feature_fraction is set=0.79, colsample_bytree=1.0 will be ignored. Current value: feature_fraction=0.79\n",
      "[LightGBM] [Warning] min_data_in_leaf is set=47, min_child_samples=20 will be ignored. Current value: min_data_in_leaf=47\n",
      "[LightGBM] [Warning] bagging_fraction is set=0.6, subsample=1.0 will be ignored. Current value: bagging_fraction=0.6\n",
      "[LightGBM] [Warning] bagging_freq is set=40, subsample_freq=0 will be ignored. Current value: bagging_freq=40\n",
      "| \u001b[0m 10      \u001b[0m | \u001b[0m 0.7115  \u001b[0m | \u001b[0m 0.6011  \u001b[0m | \u001b[0m 40.52   \u001b[0m | \u001b[0m 0.7943  \u001b[0m | \u001b[0m 17.37   \u001b[0m | \u001b[0m 8.647   \u001b[0m | \u001b[0m 47.27   \u001b[0m | \u001b[0m 0.4773  \u001b[0m | \u001b[0m 102.5   \u001b[0m | \u001b[0m 7.399   \u001b[0m | \u001b[0m 5.726   \u001b[0m |\n",
      "[LightGBM] [Warning] feature_fraction is set=0.63, colsample_bytree=1.0 will be ignored. Current value: feature_fraction=0.63\n",
      "[LightGBM] [Warning] min_data_in_leaf is set=54, min_child_samples=20 will be ignored. Current value: min_data_in_leaf=54\n",
      "[LightGBM] [Warning] bagging_fraction is set=0.51, subsample=1.0 will be ignored. Current value: bagging_fraction=0.51\n",
      "[LightGBM] [Warning] bagging_freq is set=48, subsample_freq=0 will be ignored. Current value: bagging_freq=48\n",
      "[LightGBM] [Warning] feature_fraction is set=0.63, colsample_bytree=1.0 will be ignored. Current value: feature_fraction=0.63\n",
      "[LightGBM] [Warning] min_data_in_leaf is set=54, min_child_samples=20 will be ignored. Current value: min_data_in_leaf=54\n",
      "[LightGBM] [Warning] bagging_fraction is set=0.51, subsample=1.0 will be ignored. Current value: bagging_fraction=0.51\n",
      "[LightGBM] [Warning] bagging_freq is set=48, subsample_freq=0 will be ignored. Current value: bagging_freq=48\n",
      "[LightGBM] [Warning] feature_fraction is set=0.63, colsample_bytree=1.0 will be ignored. Current value: feature_fraction=0.63\n",
      "[LightGBM] [Warning] min_data_in_leaf is set=54, min_child_samples=20 will be ignored. Current value: min_data_in_leaf=54\n",
      "[LightGBM] [Warning] bagging_fraction is set=0.51, subsample=1.0 will be ignored. Current value: bagging_fraction=0.51\n",
      "[LightGBM] [Warning] bagging_freq is set=48, subsample_freq=0 will be ignored. Current value: bagging_freq=48\n",
      "[LightGBM] [Warning] feature_fraction is set=0.63, colsample_bytree=1.0 will be ignored. Current value: feature_fraction=0.63\n",
      "[LightGBM] [Warning] min_data_in_leaf is set=54, min_child_samples=20 will be ignored. Current value: min_data_in_leaf=54\n",
      "[LightGBM] [Warning] bagging_fraction is set=0.51, subsample=1.0 will be ignored. Current value: bagging_fraction=0.51\n",
      "[LightGBM] [Warning] bagging_freq is set=48, subsample_freq=0 will be ignored. Current value: bagging_freq=48\n",
      "[LightGBM] [Warning] feature_fraction is set=0.63, colsample_bytree=1.0 will be ignored. Current value: feature_fraction=0.63\n",
      "[LightGBM] [Warning] min_data_in_leaf is set=54, min_child_samples=20 will be ignored. Current value: min_data_in_leaf=54\n",
      "[LightGBM] [Warning] bagging_fraction is set=0.51, subsample=1.0 will be ignored. Current value: bagging_fraction=0.51\n",
      "[LightGBM] [Warning] bagging_freq is set=48, subsample_freq=0 will be ignored. Current value: bagging_freq=48\n",
      "| \u001b[0m 11      \u001b[0m | \u001b[0m 0.7112  \u001b[0m | \u001b[0m 0.5129  \u001b[0m | \u001b[0m 48.61   \u001b[0m | \u001b[0m 0.6266  \u001b[0m | \u001b[0m 5.989   \u001b[0m | \u001b[0m 2.801   \u001b[0m | \u001b[0m 54.32   \u001b[0m | \u001b[0m 0.9869  \u001b[0m | \u001b[0m 145.6   \u001b[0m | \u001b[0m 3.604   \u001b[0m | \u001b[0m 0.5402  \u001b[0m |\n",
      "[LightGBM] [Warning] feature_fraction is set=0.88, colsample_bytree=1.0 will be ignored. Current value: feature_fraction=0.88\n",
      "[LightGBM] [Warning] min_data_in_leaf is set=34, min_child_samples=20 will be ignored. Current value: min_data_in_leaf=34\n",
      "[LightGBM] [Warning] bagging_fraction is set=0.93, subsample=1.0 will be ignored. Current value: bagging_fraction=0.93\n",
      "[LightGBM] [Warning] bagging_freq is set=11, subsample_freq=0 will be ignored. Current value: bagging_freq=11\n",
      "[LightGBM] [Warning] feature_fraction is set=0.88, colsample_bytree=1.0 will be ignored. Current value: feature_fraction=0.88\n",
      "[LightGBM] [Warning] min_data_in_leaf is set=34, min_child_samples=20 will be ignored. Current value: min_data_in_leaf=34\n",
      "[LightGBM] [Warning] bagging_fraction is set=0.93, subsample=1.0 will be ignored. Current value: bagging_fraction=0.93\n",
      "[LightGBM] [Warning] bagging_freq is set=11, subsample_freq=0 will be ignored. Current value: bagging_freq=11\n",
      "[LightGBM] [Warning] feature_fraction is set=0.88, colsample_bytree=1.0 will be ignored. Current value: feature_fraction=0.88\n",
      "[LightGBM] [Warning] min_data_in_leaf is set=34, min_child_samples=20 will be ignored. Current value: min_data_in_leaf=34\n",
      "[LightGBM] [Warning] bagging_fraction is set=0.93, subsample=1.0 will be ignored. Current value: bagging_fraction=0.93\n",
      "[LightGBM] [Warning] bagging_freq is set=11, subsample_freq=0 will be ignored. Current value: bagging_freq=11\n",
      "[LightGBM] [Warning] feature_fraction is set=0.88, colsample_bytree=1.0 will be ignored. Current value: feature_fraction=0.88\n",
      "[LightGBM] [Warning] min_data_in_leaf is set=34, min_child_samples=20 will be ignored. Current value: min_data_in_leaf=34\n",
      "[LightGBM] [Warning] bagging_fraction is set=0.93, subsample=1.0 will be ignored. Current value: bagging_fraction=0.93\n",
      "[LightGBM] [Warning] bagging_freq is set=11, subsample_freq=0 will be ignored. Current value: bagging_freq=11\n",
      "[LightGBM] [Warning] feature_fraction is set=0.88, colsample_bytree=1.0 will be ignored. Current value: feature_fraction=0.88\n",
      "[LightGBM] [Warning] min_data_in_leaf is set=34, min_child_samples=20 will be ignored. Current value: min_data_in_leaf=34\n",
      "[LightGBM] [Warning] bagging_fraction is set=0.93, subsample=1.0 will be ignored. Current value: bagging_fraction=0.93\n",
      "[LightGBM] [Warning] bagging_freq is set=11, subsample_freq=0 will be ignored. Current value: bagging_freq=11\n",
      "| \u001b[0m 12      \u001b[0m | \u001b[0m 0.7118  \u001b[0m | \u001b[0m 0.9268  \u001b[0m | \u001b[0m 11.03   \u001b[0m | \u001b[0m 0.8777  \u001b[0m | \u001b[0m 7.485   \u001b[0m | \u001b[0m 4.403   \u001b[0m | \u001b[0m 34.44   \u001b[0m | \u001b[0m 0.7638  \u001b[0m | \u001b[0m 38.64   \u001b[0m | \u001b[0m 3.791   \u001b[0m | \u001b[0m 6.244   \u001b[0m |\n",
      "[LightGBM] [Warning] feature_fraction is set=0.8, colsample_bytree=1.0 will be ignored. Current value: feature_fraction=0.8\n",
      "[LightGBM] [Warning] min_data_in_leaf is set=11, min_child_samples=20 will be ignored. Current value: min_data_in_leaf=11\n",
      "[LightGBM] [Warning] bagging_fraction is set=0.9, subsample=1.0 will be ignored. Current value: bagging_fraction=0.9\n",
      "[LightGBM] [Warning] bagging_freq is set=4, subsample_freq=0 will be ignored. Current value: bagging_freq=4\n",
      "[LightGBM] [Warning] feature_fraction is set=0.8, colsample_bytree=1.0 will be ignored. Current value: feature_fraction=0.8\n",
      "[LightGBM] [Warning] min_data_in_leaf is set=11, min_child_samples=20 will be ignored. Current value: min_data_in_leaf=11\n",
      "[LightGBM] [Warning] bagging_fraction is set=0.9, subsample=1.0 will be ignored. Current value: bagging_fraction=0.9\n",
      "[LightGBM] [Warning] bagging_freq is set=4, subsample_freq=0 will be ignored. Current value: bagging_freq=4\n",
      "[LightGBM] [Warning] feature_fraction is set=0.8, colsample_bytree=1.0 will be ignored. Current value: feature_fraction=0.8\n",
      "[LightGBM] [Warning] min_data_in_leaf is set=11, min_child_samples=20 will be ignored. Current value: min_data_in_leaf=11\n",
      "[LightGBM] [Warning] bagging_fraction is set=0.9, subsample=1.0 will be ignored. Current value: bagging_fraction=0.9\n",
      "[LightGBM] [Warning] bagging_freq is set=4, subsample_freq=0 will be ignored. Current value: bagging_freq=4\n",
      "[LightGBM] [Warning] feature_fraction is set=0.8, colsample_bytree=1.0 will be ignored. Current value: feature_fraction=0.8\n",
      "[LightGBM] [Warning] min_data_in_leaf is set=11, min_child_samples=20 will be ignored. Current value: min_data_in_leaf=11\n",
      "[LightGBM] [Warning] bagging_fraction is set=0.9, subsample=1.0 will be ignored. Current value: bagging_fraction=0.9\n",
      "[LightGBM] [Warning] bagging_freq is set=4, subsample_freq=0 will be ignored. Current value: bagging_freq=4\n",
      "[LightGBM] [Warning] feature_fraction is set=0.8, colsample_bytree=1.0 will be ignored. Current value: feature_fraction=0.8\n",
      "[LightGBM] [Warning] min_data_in_leaf is set=11, min_child_samples=20 will be ignored. Current value: min_data_in_leaf=11\n",
      "[LightGBM] [Warning] bagging_fraction is set=0.9, subsample=1.0 will be ignored. Current value: bagging_fraction=0.9\n",
      "[LightGBM] [Warning] bagging_freq is set=4, subsample_freq=0 will be ignored. Current value: bagging_freq=4\n"
     ]
    },
    {
     "name": "stdout",
     "output_type": "stream",
     "text": [
      "| \u001b[0m 13      \u001b[0m | \u001b[0m 0.7051  \u001b[0m | \u001b[0m 0.9036  \u001b[0m | \u001b[0m 4.958   \u001b[0m | \u001b[0m 0.7959  \u001b[0m | \u001b[0m 18.42   \u001b[0m | \u001b[0m 6.292   \u001b[0m | \u001b[0m 11.81   \u001b[0m | \u001b[0m 0.09668 \u001b[0m | \u001b[0m 110.9   \u001b[0m | \u001b[0m 8.435   \u001b[0m | \u001b[0m 8.833   \u001b[0m |\n",
      "[LightGBM] [Warning] feature_fraction is set=0.6, colsample_bytree=1.0 will be ignored. Current value: feature_fraction=0.6\n",
      "[LightGBM] [Warning] min_data_in_leaf is set=79, min_child_samples=20 will be ignored. Current value: min_data_in_leaf=79\n",
      "[LightGBM] [Warning] bagging_fraction is set=0.89, subsample=1.0 will be ignored. Current value: bagging_fraction=0.89\n",
      "[LightGBM] [Warning] bagging_freq is set=34, subsample_freq=0 will be ignored. Current value: bagging_freq=34\n"
     ]
    }
   ],
   "source": [
    "from bayes_opt import BayesianOptimization\n",
    "\"\"\"定义优化参数\"\"\"\n",
    "bayes_lgb = BayesianOptimization(\n",
    "    rf_cv_lgb, \n",
    "    {\n",
    "        'num_leaves':(10, 200),\n",
    "        'max_depth':(3, 20),\n",
    "        'bagging_fraction':(0.5, 1.0),\n",
    "        'feature_fraction':(0.5, 1.0),\n",
    "        'bagging_freq':(0, 100),\n",
    "        'min_data_in_leaf':(10,100),\n",
    "        'min_child_weight':(0, 10),\n",
    "        'min_split_gain':(0.0, 1.0),\n",
    "        'reg_alpha':(0.0, 10),\n",
    "        'reg_lambda':(0.0, 10),\n",
    "    }\n",
    ")\n",
    "\n",
    "\"\"\"开始优化\"\"\"\n",
    "bayes_lgb.maximize(n_iter=10)"
   ]
  },
  {
   "cell_type": "code",
   "execution_count": null,
   "id": "363f5573",
   "metadata": {},
   "outputs": [],
   "source": [
    "\"\"\"显示优化结果\"\"\"\n",
    "bayes_lgb.max"
   ]
  },
  {
   "cell_type": "code",
   "execution_count": null,
   "id": "21e0073e",
   "metadata": {},
   "outputs": [],
   "source": []
  },
  {
   "cell_type": "code",
   "execution_count": null,
   "id": "c6b29e8e",
   "metadata": {},
   "outputs": [],
   "source": []
  },
  {
   "cell_type": "code",
   "execution_count": null,
   "id": "ea38dce9",
   "metadata": {},
   "outputs": [],
   "source": []
  },
  {
   "cell_type": "code",
   "execution_count": null,
   "id": "bb2936c8",
   "metadata": {},
   "outputs": [],
   "source": []
  },
  {
   "cell_type": "markdown",
   "id": "485bb1fc",
   "metadata": {},
   "source": [
    "### 模型融合"
   ]
  },
  {
   "cell_type": "code",
   "execution_count": 117,
   "id": "e327c30a",
   "metadata": {},
   "outputs": [],
   "source": [
    "\"\"\"建立模型：【模型参数：xgb-->鱼佬baseline，lgb --> 贝叶斯调参】\"\"\"\n",
    "from sklearn import metrics\n",
    "import xgboost as xgb\n",
    "import lightgbm as lgb\n",
    "\n",
    "def xgb_model(X_train, y_train, X_test, y_test=None):\n",
    "    X_train_split, X_val, y_train_split, y_val = train_test_split(X_train, y_train, test_size=0.2)\n",
    "    train_matrix = xgb.DMatrix(X_train_split , label=y_train_split)\n",
    "    valid_matrix = xgb.DMatrix(X_val , label=y_val)\n",
    "    test_matrix = xgb.DMatrix(X_test)\n",
    "\n",
    "    params = {\n",
    "        'booster': 'gbtree',\n",
    "        'objective': 'binary:logistic',\n",
    "        'eval_metric': 'auc',\n",
    "        'gamma': 1,\n",
    "        'min_child_weight': 1.5,\n",
    "        'max_depth': 5,\n",
    "        'lambda': 10,\n",
    "        'subsample': 0.7,\n",
    "        'colsample_bytree': 0.7,\n",
    "        'colsample_bylevel': 0.7,\n",
    "        'eta': 0.04,\n",
    "        'tree_method': 'exact',\n",
    "        'seed': 2020,\n",
    "        'n_jobs': -1,\n",
    "        \"silent\": True,\n",
    "    }\n",
    "    watchlist = [(train_matrix, 'train'),(valid_matrix, 'eval')]\n",
    "    \n",
    "    model = xgb.train(params, train_matrix, num_boost_round=50000, evals=watchlist, verbose_eval=200, early_stopping_rounds=200)\n",
    "    \"\"\"计算在验证集上的得分\"\"\"\n",
    "    val_pred  = model.predict(valid_matrix, ntree_limit=model.best_ntree_limit)\n",
    "    fpr, tpr, threshold = metrics.roc_curve(y_val, val_pred)\n",
    "    roc_auc = metrics.auc(fpr, tpr)\n",
    "    print('调参后xgboost单模型在验证集上的AUC：{}'.format(roc_auc))\n",
    "    \"\"\"对测试集进行预测\"\"\"\n",
    "    test_pred = model.predict(test_matrix, ntree_limit=model.best_ntree_limit)\n",
    "    \n",
    "    return test_pred\n",
    "    \n",
    "\n",
    "def lgb_model(X_train, y_train, X_test, y_test=None):\n",
    "    X_train_split, X_val, y_train_split, y_val = train_test_split(X_train, y_train, test_size=0.2)\n",
    "    train_matrix = lgb.Dataset(X_train_split, label=y_train_split)\n",
    "    valid_matrix = lgb.Dataset(X_val, label=y_val)\n",
    "    \n",
    "    # 调参后的最优参数\n",
    "    params = {\n",
    "        'boosting_type': 'gbdt',\n",
    "        'objective': 'binary',\n",
    "        'metric': 'auc',\n",
    "        'learning_rate': 0.01,\n",
    "        'min_child_weight': 0.32,\n",
    "        'num_leaves': 14,\n",
    "        'max_depth': 4,\n",
    "        'feature_fraction': 0.81,\n",
    "        'bagging_fraction': 0.61,\n",
    "        'bagging_freq': 9,\n",
    "        'min_data_in_leaf': 13,\n",
    "        'min_split_gain': 0.27,\n",
    "        'reg_alpha': 9.58,\n",
    "        'reg_lambda': 4.62,\n",
    "        'seed': 2020,\n",
    "        'n_jobs':-1,\n",
    "        'silent': True,\n",
    "        'verbose': -1,\n",
    "    }\n",
    "    \n",
    "    model = lgb.train(params, train_matrix, 50000, valid_sets=[train_matrix, valid_matrix], verbose_eval=500, early_stopping_rounds=500)\n",
    "    \"\"\"计算在验证集上的得分\"\"\"\n",
    "    val_pred = model.predict(X_val, num_iteration=model.best_iteration)\n",
    "    fpr, tpr, threshold = metrics.roc_curve(y_val, val_pred)\n",
    "    roc_auc = metrics.auc(fpr, tpr)\n",
    "    print('调参后lightgbm单模型在验证集上的AUC：{}'.format(roc_auc))\n",
    "    \"\"\"对测试集进行预测\"\"\"\n",
    "    test_pred = model.predict(X_test, num_iteration=model.best_iteration)\n",
    "    \n",
    "    return test_pred"
   ]
  },
  {
   "cell_type": "code",
   "execution_count": null,
   "id": "c0e625ac",
   "metadata": {},
   "outputs": [],
   "source": [
    "df[woe_cols]"
   ]
  },
  {
   "cell_type": "code",
   "execution_count": null,
   "id": "a2338d47",
   "metadata": {},
   "outputs": [],
   "source": [
    "test_df[woe_cols]"
   ]
  },
  {
   "cell_type": "code",
   "execution_count": 119,
   "id": "49154d6b",
   "metadata": {},
   "outputs": [],
   "source": [
    " \"\"\"对训练集数据进行划分，分成训练集和验证集，并进行相应的操作\"\"\"\n",
    "from sklearn.model_selection import train_test_split\n",
    "\n",
    "\"\"\"数据集设置\"\"\"\n",
    "X_train = df_woe[woe_cols]\n",
    "X_test = test_df[woe_cols]\n",
    "y_train = df['isDefault']\n",
    "# 数据集划分\n",
    "# X_train_split, X_val, y_train_split, y_val = train_test_split(X_train, y_train, test_size=0.2)"
   ]
  },
  {
   "cell_type": "code",
   "execution_count": null,
   "id": "9ae6f6e1",
   "metadata": {},
   "outputs": [],
   "source": []
  },
  {
   "cell_type": "code",
   "execution_count": 130,
   "id": "90204f7d",
   "metadata": {},
   "outputs": [],
   "source": [
    "from heamy.dataset import Dataset\n",
    "from heamy.estimator import Classifier\n",
    "\n",
    "model_dataset = Dataset(X_train=X_train, y_train=y_train, X_test=X_test)\n",
    "model_xgb = Classifier(dataset=model_dataset, estimator=xgb_model, name='xgb', use_cache=False)\n",
    "model_lgb = Classifier(dataset=model_dataset, estimator=lgb_model, name='lgb', use_cache=False)"
   ]
  },
  {
   "cell_type": "markdown",
   "id": "5dd2cb14",
   "metadata": {},
   "source": [
    "#### 使用stacking 方法进行模型融合 "
   ]
  },
  {
   "cell_type": "code",
   "execution_count": 131,
   "id": "7a011725",
   "metadata": {},
   "outputs": [
    {
     "data": {
      "text/plain": [
       "<heamy.pipeline.ModelsPipeline at 0x1a7c7da4dc8>"
      ]
     },
     "execution_count": 131,
     "metadata": {},
     "output_type": "execute_result"
    }
   ],
   "source": [
    "from heamy.pipeline import ModelsPipeline\n",
    "\n",
    "pipeline = ModelsPipeline(model_xgb, model_lgb)\n",
    "pipeline"
   ]
  },
  {
   "cell_type": "code",
   "execution_count": 132,
   "id": "8ce69e24",
   "metadata": {
    "scrolled": false
   },
   "outputs": [
    {
     "name": "stdout",
     "output_type": "stream",
     "text": [
      "[20:10:08] WARNING: C:/Users/Administrator/workspace/xgboost-win64_release_1.3.0/src/learner.cc:541: \n",
      "Parameters: { silent } might not be used.\n",
      "\n",
      "  This may not be accurate due to some parameters are only used in language bindings but\n",
      "  passed down to XGBoost core.  Or some parameters are not used but slip through this\n",
      "  verification. Please open an issue if you find above cases.\n",
      "\n",
      "\n",
      "[0]\ttrain-auc:0.69430\teval-auc:0.69462\n",
      "[200]\ttrain-auc:0.71349\teval-auc:0.71042\n",
      "[400]\ttrain-auc:0.71669\teval-auc:0.71174\n",
      "[600]\ttrain-auc:0.71880\teval-auc:0.71213\n",
      "[800]\ttrain-auc:0.72044\teval-auc:0.71212\n",
      "[891]\ttrain-auc:0.72108\teval-auc:0.71203\n",
      "调参后xgboost单模型在验证集上的AUC：0.712155171210895\n",
      "[20:12:12] WARNING: C:/Users/Administrator/workspace/xgboost-win64_release_1.3.0/src/learner.cc:541: \n",
      "Parameters: { silent } might not be used.\n",
      "\n",
      "  This may not be accurate due to some parameters are only used in language bindings but\n",
      "  passed down to XGBoost core.  Or some parameters are not used but slip through this\n",
      "  verification. Please open an issue if you find above cases.\n",
      "\n",
      "\n",
      "[0]\ttrain-auc:0.69434\teval-auc:0.69423\n",
      "[200]\ttrain-auc:0.71365\teval-auc:0.71188\n",
      "[400]\ttrain-auc:0.71707\teval-auc:0.71336\n",
      "[600]\ttrain-auc:0.71911\teval-auc:0.71364\n",
      "[800]\ttrain-auc:0.72077\teval-auc:0.71368\n",
      "[1000]\ttrain-auc:0.72226\teval-auc:0.71361\n",
      "[1030]\ttrain-auc:0.72244\teval-auc:0.71359\n",
      "调参后xgboost单模型在验证集上的AUC：0.7137223138596036\n",
      "[20:14:50] WARNING: C:/Users/Administrator/workspace/xgboost-win64_release_1.3.0/src/learner.cc:541: \n",
      "Parameters: { silent } might not be used.\n",
      "\n",
      "  This may not be accurate due to some parameters are only used in language bindings but\n",
      "  passed down to XGBoost core.  Or some parameters are not used but slip through this\n",
      "  verification. Please open an issue if you find above cases.\n",
      "\n",
      "\n",
      "[0]\ttrain-auc:0.69284\teval-auc:0.69383\n",
      "[200]\ttrain-auc:0.71311\teval-auc:0.71178\n",
      "[400]\ttrain-auc:0.71658\teval-auc:0.71308\n",
      "[600]\ttrain-auc:0.71870\teval-auc:0.71336\n",
      "[800]\ttrain-auc:0.72044\teval-auc:0.71337\n",
      "[917]\ttrain-auc:0.72128\teval-auc:0.71337\n",
      "调参后xgboost单模型在验证集上的AUC：0.7134212414470982\n",
      "[20:17:16] WARNING: C:/Users/Administrator/workspace/xgboost-win64_release_1.3.0/src/learner.cc:541: \n",
      "Parameters: { silent } might not be used.\n",
      "\n",
      "  This may not be accurate due to some parameters are only used in language bindings but\n",
      "  passed down to XGBoost core.  Or some parameters are not used but slip through this\n",
      "  verification. Please open an issue if you find above cases.\n",
      "\n",
      "\n",
      "[0]\ttrain-auc:0.69332\teval-auc:0.69228\n",
      "[200]\ttrain-auc:0.71339\teval-auc:0.70990\n",
      "[400]\ttrain-auc:0.71672\teval-auc:0.71130\n",
      "[600]\ttrain-auc:0.71873\teval-auc:0.71163\n",
      "[800]\ttrain-auc:0.72037\teval-auc:0.71166\n",
      "[953]\ttrain-auc:0.72148\teval-auc:0.71156\n",
      "调参后xgboost单模型在验证集上的AUC：0.7117099680104619\n",
      "[20:19:57] WARNING: C:/Users/Administrator/workspace/xgboost-win64_release_1.3.0/src/learner.cc:541: \n",
      "Parameters: { silent } might not be used.\n",
      "\n",
      "  This may not be accurate due to some parameters are only used in language bindings but\n",
      "  passed down to XGBoost core.  Or some parameters are not used but slip through this\n",
      "  verification. Please open an issue if you find above cases.\n",
      "\n",
      "\n",
      "[0]\ttrain-auc:0.69363\teval-auc:0.69362\n",
      "[200]\ttrain-auc:0.71370\teval-auc:0.71117\n",
      "[400]\ttrain-auc:0.71709\teval-auc:0.71245\n",
      "[600]\ttrain-auc:0.71914\teval-auc:0.71275\n",
      "[800]\ttrain-auc:0.72080\teval-auc:0.71282\n",
      "[1000]\ttrain-auc:0.72224\teval-auc:0.71280\n",
      "[1023]\ttrain-auc:0.72239\teval-auc:0.71279\n",
      "调参后xgboost单模型在验证集上的AUC：0.7128316270585757\n",
      "[20:22:41] WARNING: C:/Users/Administrator/workspace/xgboost-win64_release_1.3.0/src/learner.cc:541: \n",
      "Parameters: { silent } might not be used.\n",
      "\n",
      "  This may not be accurate due to some parameters are only used in language bindings but\n",
      "  passed down to XGBoost core.  Or some parameters are not used but slip through this\n",
      "  verification. Please open an issue if you find above cases.\n",
      "\n",
      "\n",
      "[0]\ttrain-auc:0.69286\teval-auc:0.69823\n",
      "[200]\ttrain-auc:0.71222\teval-auc:0.71472\n",
      "[400]\ttrain-auc:0.71526\teval-auc:0.71623\n",
      "[600]\ttrain-auc:0.71710\teval-auc:0.71672\n",
      "[800]\ttrain-auc:0.71855\teval-auc:0.71692\n",
      "[1000]\ttrain-auc:0.71982\teval-auc:0.71696\n",
      "[1102]\ttrain-auc:0.72038\teval-auc:0.71694\n",
      "调参后xgboost单模型在验证集上的AUC：0.7169784124472613\n"
     ]
    },
    {
     "name": "stderr",
     "output_type": "stream",
     "text": [
      "C:\\ProgramData\\Anaconda3\\lib\\site-packages\\lightgbm\\basic.py:1224: UserWarning: silent keyword has been found in `params` and will be ignored.\n",
      "Please use silent argument of the Dataset constructor to pass this parameter.\n",
      "  .format(key))\n"
     ]
    },
    {
     "name": "stdout",
     "output_type": "stream",
     "text": [
      "[LightGBM] [Warning] Unknown parameter: silent\n",
      "Training until validation scores don't improve for 500 rounds\n",
      "[500]\ttraining's auc: 0.709264\tvalid_1's auc: 0.709093\n",
      "[1000]\ttraining's auc: 0.712095\tvalid_1's auc: 0.711478\n",
      "[1500]\ttraining's auc: 0.713373\tvalid_1's auc: 0.712298\n",
      "[2000]\ttraining's auc: 0.714225\tvalid_1's auc: 0.712672\n",
      "[2500]\ttraining's auc: 0.714889\tvalid_1's auc: 0.712907\n",
      "[3000]\ttraining's auc: 0.715412\tvalid_1's auc: 0.713028\n",
      "[3500]\ttraining's auc: 0.715873\tvalid_1's auc: 0.71317\n",
      "[4000]\ttraining's auc: 0.716289\tvalid_1's auc: 0.713226\n",
      "[4500]\ttraining's auc: 0.716665\tvalid_1's auc: 0.713322\n",
      "[5000]\ttraining's auc: 0.717012\tvalid_1's auc: 0.713355\n",
      "Early stopping, best iteration is:\n",
      "[4873]\ttraining's auc: 0.716934\tvalid_1's auc: 0.713368\n",
      "调参后lightgbm单模型在验证集上的AUC：0.7133675348128408\n"
     ]
    },
    {
     "name": "stderr",
     "output_type": "stream",
     "text": [
      "C:\\ProgramData\\Anaconda3\\lib\\site-packages\\lightgbm\\basic.py:1224: UserWarning: silent keyword has been found in `params` and will be ignored.\n",
      "Please use silent argument of the Dataset constructor to pass this parameter.\n",
      "  .format(key))\n"
     ]
    },
    {
     "name": "stdout",
     "output_type": "stream",
     "text": [
      "[LightGBM] [Warning] Unknown parameter: silent\n",
      "Training until validation scores don't improve for 500 rounds\n",
      "[500]\ttraining's auc: 0.709048\tvalid_1's auc: 0.712025\n",
      "[1000]\ttraining's auc: 0.711757\tvalid_1's auc: 0.714251\n",
      "[1500]\ttraining's auc: 0.713132\tvalid_1's auc: 0.715236\n",
      "[2000]\ttraining's auc: 0.71399\tvalid_1's auc: 0.715769\n",
      "[2500]\ttraining's auc: 0.714618\tvalid_1's auc: 0.715984\n",
      "[3000]\ttraining's auc: 0.71512\tvalid_1's auc: 0.716126\n",
      "[3500]\ttraining's auc: 0.715562\tvalid_1's auc: 0.716235\n",
      "[4000]\ttraining's auc: 0.716004\tvalid_1's auc: 0.716367\n",
      "[4500]\ttraining's auc: 0.716375\tvalid_1's auc: 0.716462\n",
      "[5000]\ttraining's auc: 0.716708\tvalid_1's auc: 0.716534\n",
      "[5500]\ttraining's auc: 0.717051\tvalid_1's auc: 0.716556\n",
      "[6000]\ttraining's auc: 0.717351\tvalid_1's auc: 0.716571\n",
      "[6500]\ttraining's auc: 0.717635\tvalid_1's auc: 0.716572\n",
      "[7000]\ttraining's auc: 0.717898\tvalid_1's auc: 0.716573\n",
      "Early stopping, best iteration is:\n",
      "[6803]\ttraining's auc: 0.717791\tvalid_1's auc: 0.716593\n",
      "调参后lightgbm单模型在验证集上的AUC：0.7165927778482972\n"
     ]
    },
    {
     "name": "stderr",
     "output_type": "stream",
     "text": [
      "C:\\ProgramData\\Anaconda3\\lib\\site-packages\\lightgbm\\basic.py:1224: UserWarning: silent keyword has been found in `params` and will be ignored.\n",
      "Please use silent argument of the Dataset constructor to pass this parameter.\n",
      "  .format(key))\n"
     ]
    },
    {
     "name": "stdout",
     "output_type": "stream",
     "text": [
      "[LightGBM] [Warning] Unknown parameter: silent\n",
      "Training until validation scores don't improve for 500 rounds\n",
      "[500]\ttraining's auc: 0.708911\tvalid_1's auc: 0.709191\n",
      "[1000]\ttraining's auc: 0.711773\tvalid_1's auc: 0.711248\n",
      "[1500]\ttraining's auc: 0.713242\tvalid_1's auc: 0.712081\n",
      "[2000]\ttraining's auc: 0.714154\tvalid_1's auc: 0.71255\n",
      "[2500]\ttraining's auc: 0.714872\tvalid_1's auc: 0.712788\n",
      "[3000]\ttraining's auc: 0.715397\tvalid_1's auc: 0.712885\n",
      "[3500]\ttraining's auc: 0.715867\tvalid_1's auc: 0.713002\n",
      "[4000]\ttraining's auc: 0.716271\tvalid_1's auc: 0.713022\n",
      "[4500]\ttraining's auc: 0.716662\tvalid_1's auc: 0.713046\n",
      "[5000]\ttraining's auc: 0.71703\tvalid_1's auc: 0.713074\n",
      "[5500]\ttraining's auc: 0.717371\tvalid_1's auc: 0.713098\n",
      "[6000]\ttraining's auc: 0.717673\tvalid_1's auc: 0.713107\n",
      "Early stopping, best iteration is:\n",
      "[5661]\ttraining's auc: 0.717471\tvalid_1's auc: 0.713114\n",
      "调参后lightgbm单模型在验证集上的AUC：0.7131144777287792\n"
     ]
    },
    {
     "name": "stderr",
     "output_type": "stream",
     "text": [
      "C:\\ProgramData\\Anaconda3\\lib\\site-packages\\lightgbm\\basic.py:1224: UserWarning: silent keyword has been found in `params` and will be ignored.\n",
      "Please use silent argument of the Dataset constructor to pass this parameter.\n",
      "  .format(key))\n"
     ]
    },
    {
     "name": "stdout",
     "output_type": "stream",
     "text": [
      "[LightGBM] [Warning] Unknown parameter: silent\n",
      "Training until validation scores don't improve for 500 rounds\n",
      "[500]\ttraining's auc: 0.709078\tvalid_1's auc: 0.708282\n",
      "[1000]\ttraining's auc: 0.711991\tvalid_1's auc: 0.710515\n",
      "[1500]\ttraining's auc: 0.713357\tvalid_1's auc: 0.711307\n",
      "[2000]\ttraining's auc: 0.714197\tvalid_1's auc: 0.711618\n",
      "[2500]\ttraining's auc: 0.714865\tvalid_1's auc: 0.711877\n",
      "[3000]\ttraining's auc: 0.715424\tvalid_1's auc: 0.712004\n",
      "[3500]\ttraining's auc: 0.71588\tvalid_1's auc: 0.712077\n",
      "[4000]\ttraining's auc: 0.716285\tvalid_1's auc: 0.712144\n",
      "[4500]\ttraining's auc: 0.716643\tvalid_1's auc: 0.712197\n",
      "[5000]\ttraining's auc: 0.717005\tvalid_1's auc: 0.712202\n",
      "Early stopping, best iteration is:\n",
      "[4608]\ttraining's auc: 0.716734\tvalid_1's auc: 0.712217\n",
      "调参后lightgbm单模型在验证集上的AUC：0.7122167234212797\n"
     ]
    },
    {
     "name": "stderr",
     "output_type": "stream",
     "text": [
      "C:\\ProgramData\\Anaconda3\\lib\\site-packages\\lightgbm\\basic.py:1224: UserWarning: silent keyword has been found in `params` and will be ignored.\n",
      "Please use silent argument of the Dataset constructor to pass this parameter.\n",
      "  .format(key))\n"
     ]
    },
    {
     "name": "stdout",
     "output_type": "stream",
     "text": [
      "[LightGBM] [Warning] Unknown parameter: silent\n",
      "Training until validation scores don't improve for 500 rounds\n",
      "[500]\ttraining's auc: 0.709537\tvalid_1's auc: 0.708749\n",
      "[1000]\ttraining's auc: 0.712479\tvalid_1's auc: 0.711033\n",
      "[1500]\ttraining's auc: 0.713793\tvalid_1's auc: 0.711864\n",
      "[2000]\ttraining's auc: 0.714702\tvalid_1's auc: 0.712333\n",
      "[2500]\ttraining's auc: 0.715332\tvalid_1's auc: 0.712593\n",
      "[3000]\ttraining's auc: 0.715879\tvalid_1's auc: 0.712772\n",
      "[3500]\ttraining's auc: 0.71633\tvalid_1's auc: 0.712848\n",
      "[4000]\ttraining's auc: 0.716738\tvalid_1's auc: 0.712879\n",
      "[4500]\ttraining's auc: 0.71709\tvalid_1's auc: 0.712906\n",
      "[5000]\ttraining's auc: 0.71743\tvalid_1's auc: 0.712905\n",
      "[5500]\ttraining's auc: 0.717747\tvalid_1's auc: 0.712959\n",
      "[6000]\ttraining's auc: 0.718052\tvalid_1's auc: 0.713003\n",
      "[6500]\ttraining's auc: 0.718355\tvalid_1's auc: 0.712971\n",
      "Early stopping, best iteration is:\n",
      "[6058]\ttraining's auc: 0.718099\tvalid_1's auc: 0.713005\n",
      "调参后lightgbm单模型在验证集上的AUC：0.713004704646051\n"
     ]
    },
    {
     "name": "stderr",
     "output_type": "stream",
     "text": [
      "C:\\ProgramData\\Anaconda3\\lib\\site-packages\\lightgbm\\basic.py:1224: UserWarning: silent keyword has been found in `params` and will be ignored.\n",
      "Please use silent argument of the Dataset constructor to pass this parameter.\n",
      "  .format(key))\n"
     ]
    },
    {
     "name": "stdout",
     "output_type": "stream",
     "text": [
      "[LightGBM] [Warning] Unknown parameter: silent\n",
      "Training until validation scores don't improve for 500 rounds\n",
      "[500]\ttraining's auc: 0.709296\tvalid_1's auc: 0.708512\n",
      "[1000]\ttraining's auc: 0.712055\tvalid_1's auc: 0.710672\n",
      "[1500]\ttraining's auc: 0.713359\tvalid_1's auc: 0.711493\n",
      "[2000]\ttraining's auc: 0.714202\tvalid_1's auc: 0.711934\n",
      "[2500]\ttraining's auc: 0.714903\tvalid_1's auc: 0.712202\n"
     ]
    },
    {
     "ename": "KeyboardInterrupt",
     "evalue": "",
     "output_type": "error",
     "traceback": [
      "\u001b[1;31m---------------------------------------------------------------------------\u001b[0m",
      "\u001b[1;31mKeyboardInterrupt\u001b[0m                         Traceback (most recent call last)",
      "\u001b[1;32m<ipython-input-132-cb7d4cb8a3d5>\u001b[0m in \u001b[0;36m<module>\u001b[1;34m\u001b[0m\n\u001b[0;32m      1\u001b[0m \u001b[1;31m# 构建第一层新特征，其中k默认是5，表示5折交叉验证，full_test=True，对全部训练集进行训练得到基学习器，然后用基学习器对测试集预测得到新特征\u001b[0m\u001b[1;33m\u001b[0m\u001b[1;33m\u001b[0m\u001b[1;33m\u001b[0m\u001b[0m\n\u001b[1;32m----> 2\u001b[1;33m \u001b[0mstack_ds\u001b[0m \u001b[1;33m=\u001b[0m \u001b[0mpipeline\u001b[0m\u001b[1;33m.\u001b[0m\u001b[0mstack\u001b[0m\u001b[1;33m(\u001b[0m\u001b[0mk\u001b[0m\u001b[1;33m=\u001b[0m\u001b[1;36m5\u001b[0m\u001b[1;33m,\u001b[0m \u001b[0mseed\u001b[0m\u001b[1;33m=\u001b[0m\u001b[1;36m111\u001b[0m\u001b[1;33m,\u001b[0m \u001b[0mfull_test\u001b[0m\u001b[1;33m=\u001b[0m\u001b[1;32mTrue\u001b[0m\u001b[1;33m)\u001b[0m\u001b[1;33m\u001b[0m\u001b[1;33m\u001b[0m\u001b[0m\n\u001b[0m",
      "\u001b[1;32mC:\\ProgramData\\Anaconda3\\lib\\site-packages\\heamy\\pipeline.py\u001b[0m in \u001b[0;36mstack\u001b[1;34m(self, k, stratify, shuffle, seed, full_test, add_diff)\u001b[0m\n\u001b[0;32m    131\u001b[0m \u001b[1;33m\u001b[0m\u001b[0m\n\u001b[0;32m    132\u001b[0m         \u001b[1;32mfor\u001b[0m \u001b[0mmodel\u001b[0m \u001b[1;32min\u001b[0m \u001b[0mself\u001b[0m\u001b[1;33m.\u001b[0m\u001b[0mmodels\u001b[0m\u001b[1;33m:\u001b[0m\u001b[1;33m\u001b[0m\u001b[1;33m\u001b[0m\u001b[0m\n\u001b[1;32m--> 133\u001b[1;33m             \u001b[0mresult\u001b[0m \u001b[1;33m=\u001b[0m \u001b[0mmodel\u001b[0m\u001b[1;33m.\u001b[0m\u001b[0mstack\u001b[0m\u001b[1;33m(\u001b[0m\u001b[0mk\u001b[0m\u001b[1;33m=\u001b[0m\u001b[0mk\u001b[0m\u001b[1;33m,\u001b[0m \u001b[0mstratify\u001b[0m\u001b[1;33m=\u001b[0m\u001b[0mstratify\u001b[0m\u001b[1;33m,\u001b[0m \u001b[0mshuffle\u001b[0m\u001b[1;33m=\u001b[0m\u001b[0mshuffle\u001b[0m\u001b[1;33m,\u001b[0m \u001b[0mseed\u001b[0m\u001b[1;33m=\u001b[0m\u001b[0mseed\u001b[0m\u001b[1;33m,\u001b[0m \u001b[0mfull_test\u001b[0m\u001b[1;33m=\u001b[0m\u001b[0mfull_test\u001b[0m\u001b[1;33m)\u001b[0m\u001b[1;33m\u001b[0m\u001b[1;33m\u001b[0m\u001b[0m\n\u001b[0m\u001b[0;32m    134\u001b[0m             \u001b[0mtrain_df\u001b[0m \u001b[1;33m=\u001b[0m \u001b[0mpd\u001b[0m\u001b[1;33m.\u001b[0m\u001b[0mDataFrame\u001b[0m\u001b[1;33m(\u001b[0m\u001b[0mresult\u001b[0m\u001b[1;33m.\u001b[0m\u001b[0mX_train\u001b[0m\u001b[1;33m,\u001b[0m \u001b[0mcolumns\u001b[0m\u001b[1;33m=\u001b[0m\u001b[0mgenerate_columns\u001b[0m\u001b[1;33m(\u001b[0m\u001b[0mresult\u001b[0m\u001b[1;33m.\u001b[0m\u001b[0mX_train\u001b[0m\u001b[1;33m,\u001b[0m \u001b[0mmodel\u001b[0m\u001b[1;33m.\u001b[0m\u001b[0mname\u001b[0m\u001b[1;33m)\u001b[0m\u001b[1;33m)\u001b[0m\u001b[1;33m\u001b[0m\u001b[1;33m\u001b[0m\u001b[0m\n\u001b[0;32m    135\u001b[0m             \u001b[0mtest_df\u001b[0m \u001b[1;33m=\u001b[0m \u001b[0mpd\u001b[0m\u001b[1;33m.\u001b[0m\u001b[0mDataFrame\u001b[0m\u001b[1;33m(\u001b[0m\u001b[0mresult\u001b[0m\u001b[1;33m.\u001b[0m\u001b[0mX_test\u001b[0m\u001b[1;33m,\u001b[0m \u001b[0mcolumns\u001b[0m\u001b[1;33m=\u001b[0m\u001b[0mgenerate_columns\u001b[0m\u001b[1;33m(\u001b[0m\u001b[0mresult\u001b[0m\u001b[1;33m.\u001b[0m\u001b[0mX_test\u001b[0m\u001b[1;33m,\u001b[0m \u001b[0mmodel\u001b[0m\u001b[1;33m.\u001b[0m\u001b[0mname\u001b[0m\u001b[1;33m)\u001b[0m\u001b[1;33m)\u001b[0m\u001b[1;33m\u001b[0m\u001b[1;33m\u001b[0m\u001b[0m\n",
      "\u001b[1;32mC:\\ProgramData\\Anaconda3\\lib\\site-packages\\heamy\\estimator.py\u001b[0m in \u001b[0;36mstack\u001b[1;34m(self, k, stratify, shuffle, seed, full_test)\u001b[0m\n\u001b[0;32m    288\u001b[0m         \u001b[1;32mif\u001b[0m \u001b[0mfull_test\u001b[0m\u001b[1;33m:\u001b[0m\u001b[1;33m\u001b[0m\u001b[1;33m\u001b[0m\u001b[0m\n\u001b[0;32m    289\u001b[0m             \u001b[0mlogger\u001b[0m\u001b[1;33m.\u001b[0m\u001b[0minfo\u001b[0m\u001b[1;33m(\u001b[0m\u001b[1;34m'Calculating %s\\'s test data'\u001b[0m \u001b[1;33m%\u001b[0m \u001b[0mself\u001b[0m\u001b[1;33m.\u001b[0m\u001b[0m_name\u001b[0m\u001b[1;33m)\u001b[0m\u001b[1;33m\u001b[0m\u001b[1;33m\u001b[0m\u001b[0m\n\u001b[1;32m--> 290\u001b[1;33m             \u001b[0mtest\u001b[0m \u001b[1;33m=\u001b[0m \u001b[0mself\u001b[0m\u001b[1;33m.\u001b[0m\u001b[0m_predict\u001b[0m\u001b[1;33m(\u001b[0m\u001b[0mself\u001b[0m\u001b[1;33m.\u001b[0m\u001b[0mdataset\u001b[0m\u001b[1;33m.\u001b[0m\u001b[0mX_train\u001b[0m\u001b[1;33m,\u001b[0m \u001b[0mself\u001b[0m\u001b[1;33m.\u001b[0m\u001b[0mdataset\u001b[0m\u001b[1;33m.\u001b[0m\u001b[0my_train\u001b[0m\u001b[1;33m,\u001b[0m \u001b[0mself\u001b[0m\u001b[1;33m.\u001b[0m\u001b[0mdataset\u001b[0m\u001b[1;33m.\u001b[0m\u001b[0mX_test\u001b[0m\u001b[1;33m)\u001b[0m\u001b[1;33m\u001b[0m\u001b[1;33m\u001b[0m\u001b[0m\n\u001b[0m\u001b[0;32m    291\u001b[0m         \u001b[1;32melse\u001b[0m\u001b[1;33m:\u001b[0m\u001b[1;33m\u001b[0m\u001b[1;33m\u001b[0m\u001b[0m\n\u001b[0;32m    292\u001b[0m             \u001b[0mtest\u001b[0m \u001b[1;33m=\u001b[0m \u001b[0mnp\u001b[0m\u001b[1;33m.\u001b[0m\u001b[0mmean\u001b[0m\u001b[1;33m(\u001b[0m\u001b[0mtest\u001b[0m\u001b[1;33m,\u001b[0m \u001b[0maxis\u001b[0m\u001b[1;33m=\u001b[0m\u001b[1;36m0\u001b[0m\u001b[1;33m)\u001b[0m\u001b[1;33m\u001b[0m\u001b[1;33m\u001b[0m\u001b[0m\n",
      "\u001b[1;32mC:\\ProgramData\\Anaconda3\\lib\\site-packages\\heamy\\estimator.py\u001b[0m in \u001b[0;36m_predict\u001b[1;34m(self, X_train, y_train, X_test, y_test)\u001b[0m\n\u001b[0;32m    119\u001b[0m             \u001b[1;31m# function-based definition\u001b[0m\u001b[1;33m\u001b[0m\u001b[1;33m\u001b[0m\u001b[1;33m\u001b[0m\u001b[0m\n\u001b[0;32m    120\u001b[0m             result = self._estimator(X_train=X_train, y_train=y_train,\n\u001b[1;32m--> 121\u001b[1;33m                                      X_test=X_test, y_test=y_test, **self.parameters)\n\u001b[0m\u001b[0;32m    122\u001b[0m \u001b[1;33m\u001b[0m\u001b[0m\n\u001b[0;32m    123\u001b[0m         \u001b[1;32mreturn\u001b[0m \u001b[0mresult\u001b[0m\u001b[1;33m\u001b[0m\u001b[1;33m\u001b[0m\u001b[0m\n",
      "\u001b[1;32m<ipython-input-117-cfea037dd18b>\u001b[0m in \u001b[0;36mlgb_model\u001b[1;34m(X_train, y_train, X_test, y_test)\u001b[0m\n\u001b[0;32m     68\u001b[0m     }\n\u001b[0;32m     69\u001b[0m \u001b[1;33m\u001b[0m\u001b[0m\n\u001b[1;32m---> 70\u001b[1;33m     \u001b[0mmodel\u001b[0m \u001b[1;33m=\u001b[0m \u001b[0mlgb\u001b[0m\u001b[1;33m.\u001b[0m\u001b[0mtrain\u001b[0m\u001b[1;33m(\u001b[0m\u001b[0mparams\u001b[0m\u001b[1;33m,\u001b[0m \u001b[0mtrain_matrix\u001b[0m\u001b[1;33m,\u001b[0m \u001b[1;36m50000\u001b[0m\u001b[1;33m,\u001b[0m \u001b[0mvalid_sets\u001b[0m\u001b[1;33m=\u001b[0m\u001b[1;33m[\u001b[0m\u001b[0mtrain_matrix\u001b[0m\u001b[1;33m,\u001b[0m \u001b[0mvalid_matrix\u001b[0m\u001b[1;33m]\u001b[0m\u001b[1;33m,\u001b[0m \u001b[0mverbose_eval\u001b[0m\u001b[1;33m=\u001b[0m\u001b[1;36m500\u001b[0m\u001b[1;33m,\u001b[0m \u001b[0mearly_stopping_rounds\u001b[0m\u001b[1;33m=\u001b[0m\u001b[1;36m500\u001b[0m\u001b[1;33m)\u001b[0m\u001b[1;33m\u001b[0m\u001b[1;33m\u001b[0m\u001b[0m\n\u001b[0m\u001b[0;32m     71\u001b[0m     \u001b[1;34m\"\"\"计算在验证集上的得分\"\"\"\u001b[0m\u001b[1;33m\u001b[0m\u001b[1;33m\u001b[0m\u001b[0m\n\u001b[0;32m     72\u001b[0m     \u001b[0mval_pred\u001b[0m \u001b[1;33m=\u001b[0m \u001b[0mmodel\u001b[0m\u001b[1;33m.\u001b[0m\u001b[0mpredict\u001b[0m\u001b[1;33m(\u001b[0m\u001b[0mX_val\u001b[0m\u001b[1;33m,\u001b[0m \u001b[0mnum_iteration\u001b[0m\u001b[1;33m=\u001b[0m\u001b[0mmodel\u001b[0m\u001b[1;33m.\u001b[0m\u001b[0mbest_iteration\u001b[0m\u001b[1;33m)\u001b[0m\u001b[1;33m\u001b[0m\u001b[1;33m\u001b[0m\u001b[0m\n",
      "\u001b[1;32mC:\\ProgramData\\Anaconda3\\lib\\site-packages\\lightgbm\\engine.py\u001b[0m in \u001b[0;36mtrain\u001b[1;34m(params, train_set, num_boost_round, valid_sets, valid_names, fobj, feval, init_model, feature_name, categorical_feature, early_stopping_rounds, evals_result, verbose_eval, learning_rates, keep_training_booster, callbacks)\u001b[0m\n\u001b[0;32m    253\u001b[0m         \u001b[1;32mif\u001b[0m \u001b[0mvalid_sets\u001b[0m \u001b[1;32mis\u001b[0m \u001b[1;32mnot\u001b[0m \u001b[1;32mNone\u001b[0m\u001b[1;33m:\u001b[0m\u001b[1;33m\u001b[0m\u001b[1;33m\u001b[0m\u001b[0m\n\u001b[0;32m    254\u001b[0m             \u001b[1;32mif\u001b[0m \u001b[0mis_valid_contain_train\u001b[0m\u001b[1;33m:\u001b[0m\u001b[1;33m\u001b[0m\u001b[1;33m\u001b[0m\u001b[0m\n\u001b[1;32m--> 255\u001b[1;33m                 \u001b[0mevaluation_result_list\u001b[0m\u001b[1;33m.\u001b[0m\u001b[0mextend\u001b[0m\u001b[1;33m(\u001b[0m\u001b[0mbooster\u001b[0m\u001b[1;33m.\u001b[0m\u001b[0meval_train\u001b[0m\u001b[1;33m(\u001b[0m\u001b[0mfeval\u001b[0m\u001b[1;33m)\u001b[0m\u001b[1;33m)\u001b[0m\u001b[1;33m\u001b[0m\u001b[1;33m\u001b[0m\u001b[0m\n\u001b[0m\u001b[0;32m    256\u001b[0m             \u001b[0mevaluation_result_list\u001b[0m\u001b[1;33m.\u001b[0m\u001b[0mextend\u001b[0m\u001b[1;33m(\u001b[0m\u001b[0mbooster\u001b[0m\u001b[1;33m.\u001b[0m\u001b[0meval_valid\u001b[0m\u001b[1;33m(\u001b[0m\u001b[0mfeval\u001b[0m\u001b[1;33m)\u001b[0m\u001b[1;33m)\u001b[0m\u001b[1;33m\u001b[0m\u001b[1;33m\u001b[0m\u001b[0m\n\u001b[0;32m    257\u001b[0m         \u001b[1;32mtry\u001b[0m\u001b[1;33m:\u001b[0m\u001b[1;33m\u001b[0m\u001b[1;33m\u001b[0m\u001b[0m\n",
      "\u001b[1;32mC:\\ProgramData\\Anaconda3\\lib\\site-packages\\lightgbm\\basic.py\u001b[0m in \u001b[0;36meval_train\u001b[1;34m(self, feval)\u001b[0m\n\u001b[0;32m   2854\u001b[0m             \u001b[0mList\u001b[0m \u001b[1;32mwith\u001b[0m \u001b[0mevaluation\u001b[0m \u001b[0mresults\u001b[0m\u001b[1;33m.\u001b[0m\u001b[1;33m\u001b[0m\u001b[1;33m\u001b[0m\u001b[0m\n\u001b[0;32m   2855\u001b[0m         \"\"\"\n\u001b[1;32m-> 2856\u001b[1;33m         \u001b[1;32mreturn\u001b[0m \u001b[0mself\u001b[0m\u001b[1;33m.\u001b[0m\u001b[0m__inner_eval\u001b[0m\u001b[1;33m(\u001b[0m\u001b[0mself\u001b[0m\u001b[1;33m.\u001b[0m\u001b[0m_train_data_name\u001b[0m\u001b[1;33m,\u001b[0m \u001b[1;36m0\u001b[0m\u001b[1;33m,\u001b[0m \u001b[0mfeval\u001b[0m\u001b[1;33m)\u001b[0m\u001b[1;33m\u001b[0m\u001b[1;33m\u001b[0m\u001b[0m\n\u001b[0m\u001b[0;32m   2857\u001b[0m \u001b[1;33m\u001b[0m\u001b[0m\n\u001b[0;32m   2858\u001b[0m     \u001b[1;32mdef\u001b[0m \u001b[0meval_valid\u001b[0m\u001b[1;33m(\u001b[0m\u001b[0mself\u001b[0m\u001b[1;33m,\u001b[0m \u001b[0mfeval\u001b[0m\u001b[1;33m=\u001b[0m\u001b[1;32mNone\u001b[0m\u001b[1;33m)\u001b[0m\u001b[1;33m:\u001b[0m\u001b[1;33m\u001b[0m\u001b[1;33m\u001b[0m\u001b[0m\n",
      "\u001b[1;32mC:\\ProgramData\\Anaconda3\\lib\\site-packages\\lightgbm\\basic.py\u001b[0m in \u001b[0;36m__inner_eval\u001b[1;34m(self, data_name, data_idx, feval)\u001b[0m\n\u001b[0;32m   3384\u001b[0m                 \u001b[0mctypes\u001b[0m\u001b[1;33m.\u001b[0m\u001b[0mc_int\u001b[0m\u001b[1;33m(\u001b[0m\u001b[0mdata_idx\u001b[0m\u001b[1;33m)\u001b[0m\u001b[1;33m,\u001b[0m\u001b[1;33m\u001b[0m\u001b[1;33m\u001b[0m\u001b[0m\n\u001b[0;32m   3385\u001b[0m                 \u001b[0mctypes\u001b[0m\u001b[1;33m.\u001b[0m\u001b[0mbyref\u001b[0m\u001b[1;33m(\u001b[0m\u001b[0mtmp_out_len\u001b[0m\u001b[1;33m)\u001b[0m\u001b[1;33m,\u001b[0m\u001b[1;33m\u001b[0m\u001b[1;33m\u001b[0m\u001b[0m\n\u001b[1;32m-> 3386\u001b[1;33m                 result.ctypes.data_as(ctypes.POINTER(ctypes.c_double))))\n\u001b[0m\u001b[0;32m   3387\u001b[0m             \u001b[1;32mif\u001b[0m \u001b[0mtmp_out_len\u001b[0m\u001b[1;33m.\u001b[0m\u001b[0mvalue\u001b[0m \u001b[1;33m!=\u001b[0m \u001b[0mself\u001b[0m\u001b[1;33m.\u001b[0m\u001b[0m__num_inner_eval\u001b[0m\u001b[1;33m:\u001b[0m\u001b[1;33m\u001b[0m\u001b[1;33m\u001b[0m\u001b[0m\n\u001b[0;32m   3388\u001b[0m                 \u001b[1;32mraise\u001b[0m \u001b[0mValueError\u001b[0m\u001b[1;33m(\u001b[0m\u001b[1;34m\"Wrong length of eval results\"\u001b[0m\u001b[1;33m)\u001b[0m\u001b[1;33m\u001b[0m\u001b[1;33m\u001b[0m\u001b[0m\n",
      "\u001b[1;31mKeyboardInterrupt\u001b[0m: "
     ]
    }
   ],
   "source": [
    "# 构建第一层新特征，其中k默认是5，表示5折交叉验证，full_test=True，对全部训练集进行训练得到基学习器，然后用基学习器对测试集预测得到新特征\n",
    "stack_ds = pipeline.stack(k=5, seed=111, full_test=True)"
   ]
  },
  {
   "cell_type": "code",
   "execution_count": null,
   "id": "f6fb5eeb",
   "metadata": {},
   "outputs": [],
   "source": [
    "from sklearn.linear_model import LogisticRegression\n",
    "# 第二层使用逻辑回归进行stack\n",
    "LogisticRegression(solver='lbfgs')\n",
    "stacker = Classifier(dataset=stack_ds, estimator=LogisticRegression, parameters={'solver': 'lbfgs'})\n",
    "# 测试集的预测结果\n",
    "test_pred = stacker.predict()\n",
    "test_pred"
   ]
  },
  {
   "cell_type": "code",
   "execution_count": 128,
   "id": "3c6807d2",
   "metadata": {},
   "outputs": [
    {
     "data": {
      "text/plain": [
       "160000"
      ]
     },
     "execution_count": 128,
     "metadata": {},
     "output_type": "execute_result"
    }
   ],
   "source": [
    "len(test_pred)"
   ]
  },
  {
   "cell_type": "code",
   "execution_count": 126,
   "id": "2fdf9738",
   "metadata": {},
   "outputs": [
    {
     "data": {
      "text/plain": [
       "array([800000, 800001, 800002, ..., 999997, 999998, 999999])"
      ]
     },
     "execution_count": 126,
     "metadata": {},
     "output_type": "execute_result"
    }
   ],
   "source": [
    "test_df['id'].values"
   ]
  },
  {
   "cell_type": "code",
   "execution_count": 129,
   "id": "899d94dc",
   "metadata": {},
   "outputs": [
    {
     "data": {
      "text/plain": [
       "200000"
      ]
     },
     "execution_count": 129,
     "metadata": {},
     "output_type": "execute_result"
    }
   ],
   "source": [
    "len(X_test)"
   ]
  },
  {
   "cell_type": "code",
   "execution_count": null,
   "id": "930900b1",
   "metadata": {
    "scrolled": true
   },
   "outputs": [],
   "source": [
    "\"\"\"生成提交格式的DataFrame\"\"\"\n",
    "df_result = pd.DataFrame({'id': test_df['id'].values, 'isDefault': test_pred})\n",
    "df_result.sort_values(by='id').head(20)"
   ]
  },
  {
   "cell_type": "code",
   "execution_count": null,
   "id": "52135bd8",
   "metadata": {},
   "outputs": [],
   "source": [
    "\"\"\"保存数据用于预测建模\"\"\"\n",
    "df_result.to_csv('dataset/submission_data_stacking_model_20210509_V1_5folds.csv', encoding='gbk', index=False)"
   ]
  },
  {
   "cell_type": "code",
   "execution_count": null,
   "id": "95eddb18",
   "metadata": {},
   "outputs": [],
   "source": []
  },
  {
   "cell_type": "markdown",
   "id": "30f4f8c3",
   "metadata": {},
   "source": [
    "#### 使用blending方法进行模型融合"
   ]
  },
  {
   "cell_type": "code",
   "execution_count": null,
   "id": "16f4bcfb",
   "metadata": {},
   "outputs": [],
   "source": [
    "# 构建第一层新特征，将训练集切分成8:2，其中80%用于训练基学习器，20%用于构建新特征\n",
    "blend_ds = pipeline.blend(proportion=0.2,seed=111)\n",
    "# 第二层使用逻辑回归进行blend\n",
    "blender = Classifier(dataset=blend_ds, estimator=LogisticRegression, parameters={'solver': 'lbfgs'})\n",
    "# 测试集的预测结果\n",
    "test_pred2 = blender.predict()\n",
    "test_pred2"
   ]
  },
  {
   "cell_type": "code",
   "execution_count": null,
   "id": "2355834b",
   "metadata": {},
   "outputs": [],
   "source": [
    "\"\"\"生成提交格式的DataFrame\"\"\"\n",
    "df_result2 = pd.DataFrame({'id': test_df['id'].values, 'isDefault': test_pred2})\n",
    "df_result2.sort_values(by='id').head(20)"
   ]
  },
  {
   "cell_type": "code",
   "execution_count": null,
   "id": "4c0817cd",
   "metadata": {},
   "outputs": [],
   "source": [
    "\"\"\"保存数据用于预测建模\"\"\"\n",
    "df_result2.to_csv('dataset/submission_data_blending_model_20210509_V1.csv', encoding='gbk', index=False)"
   ]
  },
  {
   "cell_type": "code",
   "execution_count": null,
   "id": "60bc3e28",
   "metadata": {},
   "outputs": [],
   "source": []
  },
  {
   "cell_type": "code",
   "execution_count": null,
   "id": "4ad3187c",
   "metadata": {},
   "outputs": [],
   "source": [
    "model2.predict_proba?"
   ]
  },
  {
   "cell_type": "code",
   "execution_count": null,
   "id": "f65a4b55",
   "metadata": {
    "scrolled": true
   },
   "outputs": [],
   "source": [
    "model2.predict_proba(test_df[woe_cols])[:,1]"
   ]
  },
  {
   "cell_type": "code",
   "execution_count": null,
   "id": "e356cac3",
   "metadata": {},
   "outputs": [],
   "source": [
    "model2.predict(test_df[woe_cols])"
   ]
  },
  {
   "cell_type": "code",
   "execution_count": null,
   "id": "5859e999",
   "metadata": {},
   "outputs": [],
   "source": [
    "test_df[woe_cols]"
   ]
  },
  {
   "cell_type": "code",
   "execution_count": null,
   "id": "07c1d6cc",
   "metadata": {},
   "outputs": [],
   "source": []
  },
  {
   "cell_type": "code",
   "execution_count": null,
   "id": "375cb4a0",
   "metadata": {},
   "outputs": [],
   "source": [
    "model2.predict_proba(test_df[woe_cols]).sum()/len(model2.predict(test_df[woe_cols]))"
   ]
  },
  {
   "cell_type": "code",
   "execution_count": null,
   "id": "ecd4340e",
   "metadata": {},
   "outputs": [],
   "source": [
    "data_predict=pd.DataFrame({'isDefault':model2.predict_proba(test_df[woe_cols])[:,1]})"
   ]
  },
  {
   "cell_type": "code",
   "execution_count": null,
   "id": "3c157079",
   "metadata": {},
   "outputs": [],
   "source": [
    "data_predict.shape"
   ]
  },
  {
   "cell_type": "code",
   "execution_count": null,
   "id": "7d6bac4b",
   "metadata": {},
   "outputs": [],
   "source": [
    "data_id=pd.DataFrame({'id':test_df['id']})"
   ]
  },
  {
   "cell_type": "code",
   "execution_count": null,
   "id": "88693d88",
   "metadata": {},
   "outputs": [],
   "source": [
    "data_id.shape"
   ]
  },
  {
   "cell_type": "code",
   "execution_count": null,
   "id": "3485afc9",
   "metadata": {},
   "outputs": [],
   "source": [
    "result=pd.concat([data_id,data_predict],axis=1)"
   ]
  },
  {
   "cell_type": "code",
   "execution_count": null,
   "id": "9053c582",
   "metadata": {},
   "outputs": [],
   "source": [
    "result.to_csv('sxj_test_submit.csv',index=False)"
   ]
  },
  {
   "cell_type": "code",
   "execution_count": null,
   "id": "e4acf588",
   "metadata": {},
   "outputs": [],
   "source": []
  },
  {
   "cell_type": "code",
   "execution_count": null,
   "id": "0fedcdb3",
   "metadata": {},
   "outputs": [],
   "source": []
  },
  {
   "cell_type": "code",
   "execution_count": null,
   "id": "7d33c7d7",
   "metadata": {},
   "outputs": [],
   "source": []
  },
  {
   "cell_type": "code",
   "execution_count": null,
   "id": "792f496e",
   "metadata": {},
   "outputs": [],
   "source": []
  },
  {
   "cell_type": "code",
   "execution_count": null,
   "id": "2ba54d75",
   "metadata": {},
   "outputs": [],
   "source": []
  },
  {
   "cell_type": "code",
   "execution_count": null,
   "id": "8b8781a3",
   "metadata": {},
   "outputs": [],
   "source": []
  },
  {
   "cell_type": "code",
   "execution_count": null,
   "id": "1b0d8a0f",
   "metadata": {},
   "outputs": [],
   "source": []
  },
  {
   "cell_type": "code",
   "execution_count": null,
   "id": "82c973f5",
   "metadata": {},
   "outputs": [],
   "source": []
  },
  {
   "cell_type": "code",
   "execution_count": null,
   "id": "389a5143",
   "metadata": {},
   "outputs": [],
   "source": []
  },
  {
   "cell_type": "code",
   "execution_count": null,
   "id": "ce5917ff",
   "metadata": {},
   "outputs": [],
   "source": []
  },
  {
   "cell_type": "code",
   "execution_count": null,
   "id": "3a0ba7a2",
   "metadata": {},
   "outputs": [],
   "source": [
    "RandomizedSearchCV?"
   ]
  },
  {
   "cell_type": "markdown",
   "id": "79dda8a2",
   "metadata": {},
   "source": [
    "### 模型评估"
   ]
  },
  {
   "cell_type": "code",
   "execution_count": null,
   "id": "c4f1ff69",
   "metadata": {},
   "outputs": [],
   "source": [
    "import sklearn.metrics as metrics\n",
    "# calculate the fpr and tpr for all thresholds of the classification\n",
    "probs = model.predict_proba(xtest)\n",
    "\n",
    "preds = probs[:,1]\n",
    "fpr, tpr, threshold = metrics.roc_curve(ytest, preds)\n",
    "roc_auc = metrics.auc(fpr, tpr)\n",
    "\n",
    "# method I: plt\n",
    "import matplotlib.pyplot as plt\n",
    "plt.title('Receiver Operating Characteristic')\n",
    "plt.plot(fpr, tpr, 'b', label = 'AUC = %0.2f' % roc_auc)\n",
    "plt.legend(loc = 'lower right')\n",
    "plt.plot([0, 1], [0, 1],'r--')\n",
    "plt.xlim([0, 1])\n",
    "plt.ylim([0, 1])\n",
    "plt.ylabel('True Positive Rate')\n",
    "plt.xlabel('False Positive Rate')\n",
    "plt.show()"
   ]
  },
  {
   "cell_type": "markdown",
   "id": "e8bbd1b2",
   "metadata": {},
   "source": [
    "#### ks值"
   ]
  },
  {
   "cell_type": "code",
   "execution_count": null,
   "id": "358befed",
   "metadata": {},
   "outputs": [],
   "source": [
    "fpr, tpr, threshold = metrics.roc_curve(y_test, preds)\n",
    "ks=max(tpr-fpr)\n",
    "print('ks:',ks)"
   ]
  }
 ],
 "metadata": {
  "kernelspec": {
   "display_name": "Python 3",
   "language": "python",
   "name": "python3"
  },
  "language_info": {
   "codemirror_mode": {
    "name": "ipython",
    "version": 3
   },
   "file_extension": ".py",
   "mimetype": "text/x-python",
   "name": "python",
   "nbconvert_exporter": "python",
   "pygments_lexer": "ipython3",
   "version": "3.7.6"
  }
 },
 "nbformat": 4,
 "nbformat_minor": 5
}
